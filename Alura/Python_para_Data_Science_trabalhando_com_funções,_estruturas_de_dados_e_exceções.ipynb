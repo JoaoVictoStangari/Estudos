{
  "nbformat": 4,
  "nbformat_minor": 0,
  "metadata": {
    "colab": {
      "provenance": [],
      "authorship_tag": "ABX9TyPO+2qdMH9oB7sYivZW1MF5",
      "include_colab_link": true
    },
    "kernelspec": {
      "name": "python3",
      "display_name": "Python 3"
    },
    "language_info": {
      "name": "python"
    }
  },
  "cells": [
    {
      "cell_type": "markdown",
      "metadata": {
        "id": "view-in-github",
        "colab_type": "text"
      },
      "source": [
        "<a href=\"https://colab.research.google.com/github/JoaoVictoStangari/Estudos/blob/main/Alura/Python_para_Data_Science_trabalhando_com_fun%C3%A7%C3%B5es%2C_estruturas_de_dados_e_exce%C3%A7%C3%B5es.ipynb\" target=\"_parent\"><img src=\"https://colab.research.google.com/assets/colab-badge.svg\" alt=\"Open In Colab\"/></a>"
      ]
    },
    {
      "cell_type": "markdown",
      "source": [
        "# **Bibliotecas**"
      ],
      "metadata": {
        "id": "3IcUMrBdFREH"
      }
    },
    {
      "cell_type": "code",
      "execution_count": null,
      "metadata": {
        "colab": {
          "base_uri": "https://localhost:8080/"
        },
        "id": "_zWcFWqYD7G4",
        "outputId": "e9c74541-423c-4294-f4aa-e27c4716a10d"
      },
      "outputs": [
        {
          "output_type": "stream",
          "name": "stdout",
          "text": [
            "Requirement already satisfied: matplotlib==3.7.1 in /usr/local/lib/python3.10/dist-packages (3.7.1)\n",
            "Requirement already satisfied: contourpy>=1.0.1 in /usr/local/lib/python3.10/dist-packages (from matplotlib==3.7.1) (1.2.0)\n",
            "Requirement already satisfied: cycler>=0.10 in /usr/local/lib/python3.10/dist-packages (from matplotlib==3.7.1) (0.12.1)\n",
            "Requirement already satisfied: fonttools>=4.22.0 in /usr/local/lib/python3.10/dist-packages (from matplotlib==3.7.1) (4.47.2)\n",
            "Requirement already satisfied: kiwisolver>=1.0.1 in /usr/local/lib/python3.10/dist-packages (from matplotlib==3.7.1) (1.4.5)\n",
            "Requirement already satisfied: numpy>=1.20 in /usr/local/lib/python3.10/dist-packages (from matplotlib==3.7.1) (1.23.5)\n",
            "Requirement already satisfied: packaging>=20.0 in /usr/local/lib/python3.10/dist-packages (from matplotlib==3.7.1) (23.2)\n",
            "Requirement already satisfied: pillow>=6.2.0 in /usr/local/lib/python3.10/dist-packages (from matplotlib==3.7.1) (9.4.0)\n",
            "Requirement already satisfied: pyparsing>=2.3.1 in /usr/local/lib/python3.10/dist-packages (from matplotlib==3.7.1) (3.1.1)\n",
            "Requirement already satisfied: python-dateutil>=2.7 in /usr/local/lib/python3.10/dist-packages (from matplotlib==3.7.1) (2.8.2)\n",
            "Requirement already satisfied: six>=1.5 in /usr/local/lib/python3.10/dist-packages (from python-dateutil>=2.7->matplotlib==3.7.1) (1.16.0)\n"
          ]
        }
      ],
      "source": [
        "\"\"\"\n",
        "1. Escreva um código para instalar a versão 3.7.1 da biblioteca matplotlib.\n",
        "\"\"\"\n",
        "\n",
        "!pip install matplotlib==3.7.1"
      ]
    },
    {
      "cell_type": "code",
      "source": [
        "\"\"\"\n",
        "2. Escreva um código para importar a biblioteca numpy com o alias np.\n",
        "\"\"\"\n",
        "\n",
        "import numpy as np"
      ],
      "metadata": {
        "id": "qeWKyznJEOy-"
      },
      "execution_count": null,
      "outputs": []
    },
    {
      "cell_type": "code",
      "source": [
        "\"\"\"\n",
        "3. Crie um programa que leia a seguinte lista de números e escolha um número desta aleatoriamente.\n",
        "lista = [8, 12, 54, 23, 43, 1, 90, 87, 105, 77]\n",
        "\"\"\"\n",
        "\n",
        "from random import choice\n",
        "\n",
        "lista = [8, 12, 54, 23, 43, 1, 90, 87, 105, 77]\n",
        "\n",
        "choice(lista)"
      ],
      "metadata": {
        "colab": {
          "base_uri": "https://localhost:8080/"
        },
        "id": "j1nZc_CJER3I",
        "outputId": "62e99dfc-aa5e-4a4f-dc41-92b20be23e13"
      },
      "execution_count": null,
      "outputs": [
        {
          "output_type": "execute_result",
          "data": {
            "text/plain": [
              "8"
            ]
          },
          "metadata": {},
          "execution_count": 14
        }
      ]
    },
    {
      "cell_type": "code",
      "source": [
        "\"\"\"\n",
        "4. Crie um programa que sorteia, aleatoriamente, um número inteiro menor que 100.\n",
        "Dica: use a função randrange() da biblioteca random.\n",
        "Essa função recebe como parâmetro o valor limite para a escolha aleatória ou um intervalo se passado o limite mínimo e máximo.\n",
        "Por exemplo, randrange(5) gera valores inteiros menores que 5.\n",
        "\"\"\"\n",
        "\n",
        "from random import randrange\n",
        "\n",
        "randrange(100)\n"
      ],
      "metadata": {
        "id": "WstLvnrGESRx",
        "colab": {
          "base_uri": "https://localhost:8080/"
        },
        "outputId": "afe0436a-5b44-4451-b9b1-85718e63af05"
      },
      "execution_count": 11,
      "outputs": [
        {
          "output_type": "execute_result",
          "data": {
            "text/plain": [
              "41"
            ]
          },
          "metadata": {},
          "execution_count": 11
        }
      ]
    },
    {
      "cell_type": "code",
      "source": [
        "\"\"\"\n",
        "5. Crie um programa que solicite à pessoa usuária digitar dois números inteiros e calcular a potência do 1º número elevado ao 2º.\n",
        "Dica: use a função pow() da biblioteca math\n",
        "\"\"\"\n",
        "\n",
        "from math import pow\n",
        "\n",
        "numero = int(input(\"Digite um número: \"))\n",
        "potencia = int(input(\"Digite outro número: \"))\n",
        "\n",
        "print(f\"{numero} elevado a {potencia} é igual a {round(pow(numero, potencia))}\")\n"
      ],
      "metadata": {
        "id": "VBQYboPHETa5",
        "colab": {
          "base_uri": "https://localhost:8080/"
        },
        "outputId": "50e3c940-8da3-4f94-810d-6c556000f9e2"
      },
      "execution_count": 16,
      "outputs": [
        {
          "output_type": "stream",
          "name": "stdout",
          "text": [
            "Digite um número: 250\n",
            "Digite outro número: 15\n",
            "250 elevado a 15 é igual a 931322574615478450206377566359519232\n"
          ]
        }
      ]
    },
    {
      "cell_type": "code",
      "source": [
        "\"\"\"\n",
        "6. Um programa deve ser escrito para sortear uma pessoa seguidora de uma rede social para ganhar um prêmio.\n",
        "A lista de participantes é numerada e devemos escolher aleatoriamente um número de acordo com a quantidade de participantes.\n",
        "Peça à pessoa usuária para fornecer o número de participantes do sorteio e devolva para ela o número sorteado.\n",
        "\"\"\"\n",
        "\n",
        "participantes = int(input(\"Digite a quantidade de pessoas que estão participando: \"))\n",
        "\n",
        "from random import randrange\n",
        "\n",
        "print(f\"O número escolhido foi {randrange(1, participantes+1)}.\")"
      ],
      "metadata": {
        "id": "fO4R3GLmEpa5",
        "colab": {
          "base_uri": "https://localhost:8080/"
        },
        "outputId": "4ab48d73-25cc-4148-cb75-b8323da85377"
      },
      "execution_count": 38,
      "outputs": [
        {
          "output_type": "stream",
          "name": "stdout",
          "text": [
            "Digite a quantidade de pessoas que estão participando: 150\n",
            "O número escolhido foi 35.\n"
          ]
        }
      ]
    },
    {
      "cell_type": "code",
      "source": [
        "\"\"\"\n",
        "7. Você recebeu uma demanda para gerar números de token para acessar o aplicativo de uma empresa.\n",
        "O token precisa ser par e variar de 1000 até 9998. Escreva um código que solicita à pessoa usuária o seu nome\n",
        "e exibe uma mensagem junto a esse token gerado aleatoriamente.\n",
        "\"Olá, [nome], o seu token de acesso é [token]! Seja bem-vindo(a)!\"\n",
        "\"\"\"\n",
        "from random import randrange\n",
        "\n",
        "nome = input(\"Digite seu nome: \")\n",
        "token = randrange(1000, 9998, 2)\n",
        "\n",
        "print(f\"\\nOlá, {nome}, o seu token de acesso é {token}! Seja bem-vindo(a)!\")\n"
      ],
      "metadata": {
        "id": "pR38Hoz-Ep6x",
        "colab": {
          "base_uri": "https://localhost:8080/"
        },
        "outputId": "19d4c990-0e6f-41de-9b16-69b0352c2455"
      },
      "execution_count": 45,
      "outputs": [
        {
          "output_type": "stream",
          "name": "stdout",
          "text": [
            "Digite seu nome: João Victor\n",
            "\n",
            "Olá, João Victor, o seu token de acesso é 2786! Seja bem-vindo(a)!\n"
          ]
        }
      ]
    },
    {
      "cell_type": "code",
      "source": [
        "\"\"\"\n",
        "8. Para diversificar e atrair novos(as) clientes, uma lanchonete criou um item misterioso em seu cardápio chamado \"salada de frutas surpresa\".\n",
        "Neste item, são escolhidas aleatoriamente 3 frutas de uma lista de 12 para compor a salada de frutas da pessoa cliente.\n",
        "Crie o código que faça essa seleção aleatória de acordo com a lista abaixo:\n",
        "frutas = [\"maçã\", \"banana\", \"uva\", \"pêra\",\n",
        "          \"manga\", \"coco\", \"melancia\", \"mamão\",\n",
        "          \"laranja\", \"abacaxi\", \"kiwi\", \"ameixa\"]\n",
        "\"\"\"\n",
        "\n",
        "frutas = [\"maçã\", \"banana\", \"uva\", \"pêra\",\n",
        "          \"manga\", \"coco\", \"melancia\", \"mamão\",\n",
        "          \"laranja\", \"abacaxi\", \"kiwi\", \"ameixa\"]\n",
        "\n",
        "from random import choices\n",
        "\n",
        "print(\"SALADA DE FRUTAS SURPRESA:\\n\")\n",
        "\n",
        "print(\"As frutas escolhidas foram:\")\n",
        "choices(frutas, k=3)"
      ],
      "metadata": {
        "id": "LZGDo2ZhEqVd",
        "colab": {
          "base_uri": "https://localhost:8080/"
        },
        "outputId": "899687c1-877d-4abe-ca13-a79ad010813e"
      },
      "execution_count": 73,
      "outputs": [
        {
          "output_type": "stream",
          "name": "stdout",
          "text": [
            "SALADA DE FRUTAS SURPRESA:\n",
            "\n",
            "As frutas escolhidas foram:\n"
          ]
        },
        {
          "output_type": "execute_result",
          "data": {
            "text/plain": [
              "['kiwi', 'ameixa', 'pêra']"
            ]
          },
          "metadata": {},
          "execution_count": 73
        }
      ]
    },
    {
      "cell_type": "code",
      "source": [
        "\"\"\"\n",
        "9. Você recebeu um desafio de calcular a raiz quadrada de uma lista de números, identificando quais resultaram em um número inteiro. A lista é a seguinte:\n",
        "numeros = [2, 8, 15, 23, 91, 112, 256]\n",
        "No final, informe quais números possuem raízes inteiras e seus respectivos valores.\n",
        "Dica: use a comparação entre a divisão inteira (//) da raiz por 1 com o valor da raiz para verificar se o número é inteiro. Por exemplo:\n",
        "num = 1.5\n",
        "num_2 = 2\n",
        "print(f'{num} é inteiro? :', num // 1 == num)\n",
        "print(f'{num_2} é inteiro? :', num_2 // 1 == num_2)\n",
        "Saída:\n",
        "1.5 é inteiro? : False\n",
        "2 é inteiro? : True\n",
        "\"\"\"\n",
        "\n",
        "numeros = [2, 8, 15, 23, 91, 112, 256]\n",
        "\n",
        "from math import sqrt\n",
        "\n",
        "for i in range(len(numeros)):\n",
        "  print(f\"Raiz quadrada de {numeros[i]} é inteiro?\")\n",
        "  print(sqrt(numeros[i]))\n",
        "  print(sqrt(numeros[i]) // 1 == sqrt(numeros[i]), \"\\n\")"
      ],
      "metadata": {
        "id": "ENlOPN6aEqq6",
        "colab": {
          "base_uri": "https://localhost:8080/"
        },
        "outputId": "12097d35-1e33-441d-e24f-3452c0eb1300"
      },
      "execution_count": 91,
      "outputs": [
        {
          "output_type": "stream",
          "name": "stdout",
          "text": [
            "Raiz quadrada de 2 é inteiro?\n",
            "1.4142135623730951\n",
            "False \n",
            "\n",
            "Raiz quadrada de 8 é inteiro?\n",
            "2.8284271247461903\n",
            "False \n",
            "\n",
            "Raiz quadrada de 15 é inteiro?\n",
            "3.872983346207417\n",
            "False \n",
            "\n",
            "Raiz quadrada de 23 é inteiro?\n",
            "4.795831523312719\n",
            "False \n",
            "\n",
            "Raiz quadrada de 91 é inteiro?\n",
            "9.539392014169456\n",
            "False \n",
            "\n",
            "Raiz quadrada de 112 é inteiro?\n",
            "10.583005244258363\n",
            "False \n",
            "\n",
            "Raiz quadrada de 256 é inteiro?\n",
            "16.0\n",
            "True \n",
            "\n"
          ]
        }
      ]
    },
    {
      "cell_type": "code",
      "source": [
        "\"\"\"\n",
        "10. Faça um programa para uma loja que vende grama para jardins.\n",
        "Essa loja trabalha com jardins circulares e o preço do metro quadrado da grama é de R$ 25,00.\n",
        "Peça à pessoa usuária o raio da área circular e devolva o valor em reais do quanto precisará pagar.\n",
        "Dica: use a variável pi e o método pow() da biblioteca math. O cálculo da área de um círculo é de: A = π*r^2 (lê-se pi vezes raio ao quadrado).\n",
        "\"\"\"\n",
        "\n",
        "from math import pow, pi\n",
        "\n",
        "area = float(input(f\"Digite o raio da área circular desejada: \"))\n",
        "metro_total = pi * pow(area, 2)\n",
        "valor = 25\n",
        "\n",
        "print(f\"O valor gasto para um raio circular de {area:.2f} metros é R${round(metro_total*valor, 2)}\")\n"
      ],
      "metadata": {
        "id": "2z0EBOG2ErB4",
        "colab": {
          "base_uri": "https://localhost:8080/"
        },
        "outputId": "5c4a7dad-fbbd-4e00-c5c8-090fc5ecdd38"
      },
      "execution_count": 105,
      "outputs": [
        {
          "output_type": "stream",
          "name": "stdout",
          "text": [
            "Digite o raio da área circular desejada: 10\n",
            "O valor gasto para um raio circular de 10.00 metros é R$7853.98\n"
          ]
        }
      ]
    },
    {
      "cell_type": "markdown",
      "source": [
        "# **Funções**"
      ],
      "metadata": {
        "id": "5vvuGN86bgEH"
      }
    },
    {
      "cell_type": "code",
      "source": [],
      "metadata": {
        "id": "gF5ZH2QDblqf"
      },
      "execution_count": null,
      "outputs": []
    }
  ]
}