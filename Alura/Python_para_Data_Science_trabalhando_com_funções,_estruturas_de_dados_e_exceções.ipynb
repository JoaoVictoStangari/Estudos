{
  "nbformat": 4,
  "nbformat_minor": 0,
  "metadata": {
    "colab": {
      "provenance": [],
      "authorship_tag": "ABX9TyNCmmugG7umt1Q6inCTC3hk",
      "include_colab_link": true
    },
    "kernelspec": {
      "name": "python3",
      "display_name": "Python 3"
    },
    "language_info": {
      "name": "python"
    }
  },
  "cells": [
    {
      "cell_type": "markdown",
      "metadata": {
        "id": "view-in-github",
        "colab_type": "text"
      },
      "source": [
        "<a href=\"https://colab.research.google.com/github/JoaoVictoStangari/Estudos/blob/main/Alura/Python_para_Data_Science_trabalhando_com_fun%C3%A7%C3%B5es%2C_estruturas_de_dados_e_exce%C3%A7%C3%B5es.ipynb\" target=\"_parent\"><img src=\"https://colab.research.google.com/assets/colab-badge.svg\" alt=\"Open In Colab\"/></a>"
      ]
    },
    {
      "cell_type": "markdown",
      "source": [
        "# **Bibliotecas**"
      ],
      "metadata": {
        "id": "3IcUMrBdFREH"
      }
    },
    {
      "cell_type": "code",
      "execution_count": null,
      "metadata": {
        "colab": {
          "base_uri": "https://localhost:8080/"
        },
        "id": "_zWcFWqYD7G4",
        "outputId": "e9c74541-423c-4294-f4aa-e27c4716a10d"
      },
      "outputs": [
        {
          "output_type": "stream",
          "name": "stdout",
          "text": [
            "Requirement already satisfied: matplotlib==3.7.1 in /usr/local/lib/python3.10/dist-packages (3.7.1)\n",
            "Requirement already satisfied: contourpy>=1.0.1 in /usr/local/lib/python3.10/dist-packages (from matplotlib==3.7.1) (1.2.0)\n",
            "Requirement already satisfied: cycler>=0.10 in /usr/local/lib/python3.10/dist-packages (from matplotlib==3.7.1) (0.12.1)\n",
            "Requirement already satisfied: fonttools>=4.22.0 in /usr/local/lib/python3.10/dist-packages (from matplotlib==3.7.1) (4.47.2)\n",
            "Requirement already satisfied: kiwisolver>=1.0.1 in /usr/local/lib/python3.10/dist-packages (from matplotlib==3.7.1) (1.4.5)\n",
            "Requirement already satisfied: numpy>=1.20 in /usr/local/lib/python3.10/dist-packages (from matplotlib==3.7.1) (1.23.5)\n",
            "Requirement already satisfied: packaging>=20.0 in /usr/local/lib/python3.10/dist-packages (from matplotlib==3.7.1) (23.2)\n",
            "Requirement already satisfied: pillow>=6.2.0 in /usr/local/lib/python3.10/dist-packages (from matplotlib==3.7.1) (9.4.0)\n",
            "Requirement already satisfied: pyparsing>=2.3.1 in /usr/local/lib/python3.10/dist-packages (from matplotlib==3.7.1) (3.1.1)\n",
            "Requirement already satisfied: python-dateutil>=2.7 in /usr/local/lib/python3.10/dist-packages (from matplotlib==3.7.1) (2.8.2)\n",
            "Requirement already satisfied: six>=1.5 in /usr/local/lib/python3.10/dist-packages (from python-dateutil>=2.7->matplotlib==3.7.1) (1.16.0)\n"
          ]
        }
      ],
      "source": [
        "\"\"\"\n",
        "1. Escreva um código para instalar a versão 3.7.1 da biblioteca matplotlib.\n",
        "\"\"\"\n",
        "\n",
        "!pip install matplotlib==3.7.1"
      ]
    },
    {
      "cell_type": "code",
      "source": [
        "\"\"\"\n",
        "2. Escreva um código para importar a biblioteca numpy com o alias np.\n",
        "\"\"\"\n",
        "\n",
        "import numpy as np"
      ],
      "metadata": {
        "id": "qeWKyznJEOy-"
      },
      "execution_count": null,
      "outputs": []
    },
    {
      "cell_type": "code",
      "source": [
        "\"\"\"\n",
        "3. Crie um programa que leia a seguinte lista de números e escolha um número desta aleatoriamente.\n",
        "lista = [8, 12, 54, 23, 43, 1, 90, 87, 105, 77]\n",
        "\"\"\"\n",
        "\n",
        "from random import choice\n",
        "\n",
        "lista = [8, 12, 54, 23, 43, 1, 90, 87, 105, 77]\n",
        "\n",
        "choice(lista)"
      ],
      "metadata": {
        "colab": {
          "base_uri": "https://localhost:8080/"
        },
        "id": "j1nZc_CJER3I",
        "outputId": "62e99dfc-aa5e-4a4f-dc41-92b20be23e13"
      },
      "execution_count": null,
      "outputs": [
        {
          "output_type": "execute_result",
          "data": {
            "text/plain": [
              "8"
            ]
          },
          "metadata": {},
          "execution_count": 14
        }
      ]
    },
    {
      "cell_type": "code",
      "source": [
        "\"\"\"\n",
        "4. Crie um programa que sorteia, aleatoriamente, um número inteiro menor que 100.\n",
        "Dica: use a função randrange() da biblioteca random.\n",
        "Essa função recebe como parâmetro o valor limite para a escolha aleatória ou um intervalo se passado o limite mínimo e máximo.\n",
        "Por exemplo, randrange(5) gera valores inteiros menores que 5.\n",
        "\"\"\"\n",
        "\n",
        "from random import randrange\n",
        "\n",
        "randrange(100)\n"
      ],
      "metadata": {
        "id": "WstLvnrGESRx",
        "colab": {
          "base_uri": "https://localhost:8080/"
        },
        "outputId": "afe0436a-5b44-4451-b9b1-85718e63af05"
      },
      "execution_count": null,
      "outputs": [
        {
          "output_type": "execute_result",
          "data": {
            "text/plain": [
              "41"
            ]
          },
          "metadata": {},
          "execution_count": 11
        }
      ]
    },
    {
      "cell_type": "code",
      "source": [
        "\"\"\"\n",
        "5. Crie um programa que solicite à pessoa usuária digitar dois números inteiros e calcular a potência do 1º número elevado ao 2º.\n",
        "Dica: use a função pow() da biblioteca math\n",
        "\"\"\"\n",
        "\n",
        "from math import pow\n",
        "\n",
        "numero = int(input(\"Digite um número: \"))\n",
        "potencia = int(input(\"Digite outro número: \"))\n",
        "\n",
        "print(f\"{numero} elevado a {potencia} é igual a {round(pow(numero, potencia))}\")\n"
      ],
      "metadata": {
        "id": "VBQYboPHETa5",
        "colab": {
          "base_uri": "https://localhost:8080/"
        },
        "outputId": "50e3c940-8da3-4f94-810d-6c556000f9e2"
      },
      "execution_count": null,
      "outputs": [
        {
          "output_type": "stream",
          "name": "stdout",
          "text": [
            "Digite um número: 250\n",
            "Digite outro número: 15\n",
            "250 elevado a 15 é igual a 931322574615478450206377566359519232\n"
          ]
        }
      ]
    },
    {
      "cell_type": "code",
      "source": [
        "\"\"\"\n",
        "6. Um programa deve ser escrito para sortear uma pessoa seguidora de uma rede social para ganhar um prêmio.\n",
        "A lista de participantes é numerada e devemos escolher aleatoriamente um número de acordo com a quantidade de participantes.\n",
        "Peça à pessoa usuária para fornecer o número de participantes do sorteio e devolva para ela o número sorteado.\n",
        "\"\"\"\n",
        "\n",
        "participantes = int(input(\"Digite a quantidade de pessoas que estão participando: \"))\n",
        "\n",
        "from random import randrange\n",
        "\n",
        "print(f\"O número escolhido foi {randrange(1, participantes+1)}.\")"
      ],
      "metadata": {
        "id": "fO4R3GLmEpa5",
        "colab": {
          "base_uri": "https://localhost:8080/"
        },
        "outputId": "4ab48d73-25cc-4148-cb75-b8323da85377"
      },
      "execution_count": null,
      "outputs": [
        {
          "output_type": "stream",
          "name": "stdout",
          "text": [
            "Digite a quantidade de pessoas que estão participando: 150\n",
            "O número escolhido foi 35.\n"
          ]
        }
      ]
    },
    {
      "cell_type": "code",
      "source": [
        "\"\"\"\n",
        "7. Você recebeu uma demanda para gerar números de token para acessar o aplicativo de uma empresa.\n",
        "O token precisa ser par e variar de 1000 até 9998. Escreva um código que solicita à pessoa usuária o seu nome\n",
        "e exibe uma mensagem junto a esse token gerado aleatoriamente.\n",
        "\"Olá, [nome], o seu token de acesso é [token]! Seja bem-vindo(a)!\"\n",
        "\"\"\"\n",
        "from random import randrange\n",
        "\n",
        "nome = input(\"Digite seu nome: \")\n",
        "token = randrange(1000, 9998, 2)\n",
        "\n",
        "print(f\"\\nOlá, {nome}, o seu token de acesso é {token}! Seja bem-vindo(a)!\")\n"
      ],
      "metadata": {
        "id": "pR38Hoz-Ep6x",
        "colab": {
          "base_uri": "https://localhost:8080/"
        },
        "outputId": "19d4c990-0e6f-41de-9b16-69b0352c2455"
      },
      "execution_count": null,
      "outputs": [
        {
          "output_type": "stream",
          "name": "stdout",
          "text": [
            "Digite seu nome: João Victor\n",
            "\n",
            "Olá, João Victor, o seu token de acesso é 2786! Seja bem-vindo(a)!\n"
          ]
        }
      ]
    },
    {
      "cell_type": "code",
      "source": [
        "\"\"\"\n",
        "8. Para diversificar e atrair novos(as) clientes, uma lanchonete criou um item misterioso em seu cardápio chamado \"salada de frutas surpresa\".\n",
        "Neste item, são escolhidas aleatoriamente 3 frutas de uma lista de 12 para compor a salada de frutas da pessoa cliente.\n",
        "Crie o código que faça essa seleção aleatória de acordo com a lista abaixo:\n",
        "frutas = [\"maçã\", \"banana\", \"uva\", \"pêra\",\n",
        "          \"manga\", \"coco\", \"melancia\", \"mamão\",\n",
        "          \"laranja\", \"abacaxi\", \"kiwi\", \"ameixa\"]\n",
        "\"\"\"\n",
        "\n",
        "frutas = [\"maçã\", \"banana\", \"uva\", \"pêra\",\n",
        "          \"manga\", \"coco\", \"melancia\", \"mamão\",\n",
        "          \"laranja\", \"abacaxi\", \"kiwi\", \"ameixa\"]\n",
        "\n",
        "from random import choices\n",
        "\n",
        "print(\"SALADA DE FRUTAS SURPRESA:\\n\")\n",
        "\n",
        "print(\"As frutas escolhidas foram:\")\n",
        "choices(frutas, k=3)"
      ],
      "metadata": {
        "id": "LZGDo2ZhEqVd",
        "colab": {
          "base_uri": "https://localhost:8080/"
        },
        "outputId": "899687c1-877d-4abe-ca13-a79ad010813e"
      },
      "execution_count": null,
      "outputs": [
        {
          "output_type": "stream",
          "name": "stdout",
          "text": [
            "SALADA DE FRUTAS SURPRESA:\n",
            "\n",
            "As frutas escolhidas foram:\n"
          ]
        },
        {
          "output_type": "execute_result",
          "data": {
            "text/plain": [
              "['kiwi', 'ameixa', 'pêra']"
            ]
          },
          "metadata": {},
          "execution_count": 73
        }
      ]
    },
    {
      "cell_type": "code",
      "source": [
        "\"\"\"\n",
        "9. Você recebeu um desafio de calcular a raiz quadrada de uma lista de números, identificando quais resultaram em um número inteiro. A lista é a seguinte:\n",
        "numeros = [2, 8, 15, 23, 91, 112, 256]\n",
        "No final, informe quais números possuem raízes inteiras e seus respectivos valores.\n",
        "Dica: use a comparação entre a divisão inteira (//) da raiz por 1 com o valor da raiz para verificar se o número é inteiro. Por exemplo:\n",
        "num = 1.5\n",
        "num_2 = 2\n",
        "print(f'{num} é inteiro? :', num // 1 == num)\n",
        "print(f'{num_2} é inteiro? :', num_2 // 1 == num_2)\n",
        "Saída:\n",
        "1.5 é inteiro? : False\n",
        "2 é inteiro? : True\n",
        "\"\"\"\n",
        "\n",
        "numeros = [2, 8, 15, 23, 91, 112, 256]\n",
        "\n",
        "from math import sqrt\n",
        "\n",
        "for i in range(len(numeros)):\n",
        "  print(f\"Raiz quadrada de {numeros[i]} é inteiro?\")\n",
        "  print(sqrt(numeros[i]))\n",
        "  print(sqrt(numeros[i]) // 1 == sqrt(numeros[i]), \"\\n\")"
      ],
      "metadata": {
        "id": "ENlOPN6aEqq6",
        "colab": {
          "base_uri": "https://localhost:8080/"
        },
        "outputId": "12097d35-1e33-441d-e24f-3452c0eb1300"
      },
      "execution_count": null,
      "outputs": [
        {
          "output_type": "stream",
          "name": "stdout",
          "text": [
            "Raiz quadrada de 2 é inteiro?\n",
            "1.4142135623730951\n",
            "False \n",
            "\n",
            "Raiz quadrada de 8 é inteiro?\n",
            "2.8284271247461903\n",
            "False \n",
            "\n",
            "Raiz quadrada de 15 é inteiro?\n",
            "3.872983346207417\n",
            "False \n",
            "\n",
            "Raiz quadrada de 23 é inteiro?\n",
            "4.795831523312719\n",
            "False \n",
            "\n",
            "Raiz quadrada de 91 é inteiro?\n",
            "9.539392014169456\n",
            "False \n",
            "\n",
            "Raiz quadrada de 112 é inteiro?\n",
            "10.583005244258363\n",
            "False \n",
            "\n",
            "Raiz quadrada de 256 é inteiro?\n",
            "16.0\n",
            "True \n",
            "\n"
          ]
        }
      ]
    },
    {
      "cell_type": "code",
      "source": [
        "\"\"\"\n",
        "10. Faça um programa para uma loja que vende grama para jardins.\n",
        "Essa loja trabalha com jardins circulares e o preço do metro quadrado da grama é de R$ 25,00.\n",
        "Peça à pessoa usuária o raio da área circular e devolva o valor em reais do quanto precisará pagar.\n",
        "Dica: use a variável pi e o método pow() da biblioteca math. O cálculo da área de um círculo é de: A = π*r^2 (lê-se pi vezes raio ao quadrado).\n",
        "\"\"\"\n",
        "\n",
        "from math import pow, pi\n",
        "\n",
        "area = float(input(f\"Digite o raio da área circular desejada: \"))\n",
        "metro_total = pi * pow(area, 2)\n",
        "valor = 25\n",
        "\n",
        "print(f\"O valor gasto para um raio circular de {area:.2f} metros é R${round(metro_total*valor, 2)}\")\n"
      ],
      "metadata": {
        "id": "2z0EBOG2ErB4",
        "colab": {
          "base_uri": "https://localhost:8080/"
        },
        "outputId": "5c4a7dad-fbbd-4e00-c5c8-090fc5ecdd38"
      },
      "execution_count": null,
      "outputs": [
        {
          "output_type": "stream",
          "name": "stdout",
          "text": [
            "Digite o raio da área circular desejada: 10\n",
            "O valor gasto para um raio circular de 10.00 metros é R$7853.98\n"
          ]
        }
      ]
    },
    {
      "cell_type": "markdown",
      "source": [
        "# **Funções**"
      ],
      "metadata": {
        "id": "5vvuGN86bgEH"
      }
    },
    {
      "cell_type": "code",
      "source": [
        "\"\"\"\n",
        "1. Escreva um código que lê a lista abaixo e faça:\n",
        "lista = [16, 14, 63, 65, 17, 99, 70, 11, 20, 48, 79, 32, 17, 89, 12, 25, 66]\n",
        "- A leitura do tamanho da lista\n",
        "- A leitura do maior e menor valor\n",
        "- A soma dos valores da lista\n",
        "Ao final exiba uma mensagem dizendo:\n",
        "\"A lista possui [tam] números em que o maior número é [maior] e o menor número é [menor]. A soma dos valores presentes nela é igual a [soma]\"\n",
        "\"\"\"\n",
        "\n",
        "lista = [16, 14, 63, 65, 17, 99, 70, 11, 20, 48, 79, 32, 17, 89, 12, 25, 66]\n",
        "\n",
        "print(f\"A lista possui {len(lista)} números em que o maior número é {max(lista)} e o menor número é {min(lista)}. A soma dos valores presentes nela é igual a {sum(lista)}\")\n"
      ],
      "metadata": {
        "colab": {
          "base_uri": "https://localhost:8080/"
        },
        "id": "gF5ZH2QDblqf",
        "outputId": "57c12069-8f4b-422c-e3ae-015c1fdb8999"
      },
      "execution_count": null,
      "outputs": [
        {
          "output_type": "stream",
          "name": "stdout",
          "text": [
            "A lista possui 17 números em que o maior número é 99 e o menor número é 11. A soma dos valores presentes nela é igual a 743\n"
          ]
        }
      ]
    },
    {
      "cell_type": "code",
      "source": [
        "\"\"\"\n",
        "2. Escreva uma função que gere a tabuada de um número inteiro de 1 a 10, de acordo com a escolha da pessoa usuária. Como exemplo, para o número 7, a tabuada deve ser mostrada no seguinte formato:\n",
        "Tabuada do 7:\n",
        "7 x 0 = 0\n",
        "7 x 1 = 7\n",
        "[...]\n",
        "7 x 10 = 70\n",
        "\"\"\"\n",
        "\n",
        "numero = int(input(\"Digite o número: \"))\n",
        "\n",
        "def tabuada(numero):\n",
        "  print(f\"\\nTabuada do {numero}:\")\n",
        "  for i in range(1, 11):\n",
        "    print(f\"{numero} x {i} = {numero*i}\")\n",
        "\n",
        "tabuada(numero)"
      ],
      "metadata": {
        "colab": {
          "base_uri": "https://localhost:8080/"
        },
        "id": "NjHdhkvkb2Oy",
        "outputId": "079ba91c-01bc-4403-c6fd-b31c1b3c55d8"
      },
      "execution_count": null,
      "outputs": [
        {
          "output_type": "stream",
          "name": "stdout",
          "text": [
            "Digite o número: 10\n",
            "\n",
            "Tabuada do 10:\n",
            "10 x 1 = 10\n",
            "10 x 2 = 20\n",
            "10 x 3 = 30\n",
            "10 x 4 = 40\n",
            "10 x 5 = 50\n",
            "10 x 6 = 60\n",
            "10 x 7 = 70\n",
            "10 x 8 = 80\n",
            "10 x 9 = 90\n",
            "10 x 10 = 100\n"
          ]
        }
      ]
    },
    {
      "cell_type": "code",
      "source": [
        "\"\"\"\n",
        "3. Crie a função que leia a lista abaixo e retorne uma nova lista com os múltiplos de 3:\n",
        "[97, 80, 94, 88, 80, 1, 16, 53, 62, 32, 24, 99]\n",
        "Utilize o return na função e salve a nova lista na variável mult_3.\n",
        "\"\"\"\n",
        "\n",
        "lista = [97, 80, 94, 88, 80, 1, 16, 53, 62, 32, 24, 99]\n",
        "\n",
        "def mult_3 (lista):\n",
        "  verif_3 = []\n",
        "  for i in range(len(lista)):\n",
        "    if lista[i] % 3 == 0:\n",
        "      verif_3.append(lista[i])\n",
        "  return verif_3\n",
        "\n",
        "mult_3(lista)\n"
      ],
      "metadata": {
        "colab": {
          "base_uri": "https://localhost:8080/"
        },
        "id": "e444N5pAb2l9",
        "outputId": "cb16796d-6ece-4129-9556-bdddc0c80514"
      },
      "execution_count": null,
      "outputs": [
        {
          "output_type": "execute_result",
          "data": {
            "text/plain": [
              "[24, 99]"
            ]
          },
          "metadata": {},
          "execution_count": 130
        }
      ]
    },
    {
      "cell_type": "code",
      "source": [
        "\"\"\"\n",
        "4. Crie uma lista dos quadrados dos números da seguinte lista [1, 2, 3, 4, 5, 6, 7, 8, 9, 10].\n",
        "Lembre-se de utilizar as funções lambda e map() para calcular o quadrado de cada elemento da lista.\n",
        "\"\"\"\n",
        "\n",
        "lista = [1, 2, 3, 4, 5, 6, 7, 8, 9, 10]\n",
        "\n",
        "from math import pow\n",
        "\n",
        "lista_quad = list(map(lambda x: pow(x, 2), lista))\n",
        "print(lista_quad)"
      ],
      "metadata": {
        "colab": {
          "base_uri": "https://localhost:8080/"
        },
        "id": "wKD6UzHjb26o",
        "outputId": "016e8334-0cb4-4aaa-e09d-9076a2ccd5f5"
      },
      "execution_count": null,
      "outputs": [
        {
          "output_type": "stream",
          "name": "stdout",
          "text": [
            "[1.0, 4.0, 9.0, 16.0, 25.0, 36.0, 49.0, 64.0, 81.0, 100.0]\n"
          ]
        }
      ]
    },
    {
      "cell_type": "code",
      "source": [
        "\"\"\"\n",
        "5. Você foi contratado(a) como cientista de dados de uma associação de skate.\n",
        "Para analisar as notas recebidas de skatistas em algumas competições ao longo do ano,\n",
        "você precisa criar um código que calcula a pontuação dos(as) atletas.\n",
        "Para isso, o seu código deve receber 5 notas digitadas pelas pessoas juradas.\n",
        "\n",
        "Para calcular a pontuação de um(a) skatista, você precisa eliminar a maior e a menor pontuação dentre as 5 notas\n",
        "e tirar a média das 3 notas que sobraram. Retorne a média para apresentar o texto:\n",
        "\n",
        "\"Nota da manobra: [media]\"\n",
        "\"\"\"\n",
        "\n",
        "def media_manobra():\n",
        "  lista_notas = []\n",
        "  for i in range(5):\n",
        "    nota = float(input(f\"Nota da manobra {i+1}º Jurado: \"))\n",
        "    lista_notas.append(nota)\n",
        "  lista_notas.remove(max(lista_notas))\n",
        "  lista_notas.remove(min(lista_notas))\n",
        "  from statistics import mean\n",
        "  print(f\"\\nNota da manobra: {mean(lista_notas):.2f}\")\n",
        "\n",
        "media_manobra()"
      ],
      "metadata": {
        "colab": {
          "base_uri": "https://localhost:8080/"
        },
        "id": "aIk7rmHMb3Oo",
        "outputId": "ebba6c3f-47c5-449e-a439-973a8081965b"
      },
      "execution_count": null,
      "outputs": [
        {
          "output_type": "stream",
          "name": "stdout",
          "text": [
            "Nota da manobra 1º Jurado: 7\n",
            "Nota da manobra 2º Jurado: 6\n",
            "Nota da manobra 3º Jurado: 9\n",
            "Nota da manobra 4º Jurado: 8\n",
            "Nota da manobra 5º Jurado: 6\n",
            "\n",
            "Nota da manobra: 7.00\n"
          ]
        }
      ]
    },
    {
      "cell_type": "code",
      "source": [
        "\"\"\"\n",
        "6. Para atender a uma demanda de uma instituição de ensino para a análise do desempenho de seus(suas) estudantes,\n",
        "você precisa criar uma função que receba uma lista de 4 notas e retorne:\n",
        "\n",
        "maior nota\n",
        "menor nota\n",
        "média\n",
        "situação (Aprovado(a) ou Reprovado(a))\n",
        "Para testar o comportamento da função, os dados podem ser exibidos em um texto:\n",
        "\"O(a) estudante obteve uma média de [media], com a sua maior nota de [maior] pontos e a menor nota de [menor] pontos e foi [situacao]\"\n",
        "\"\"\"\n",
        "\n",
        "def notas():\n",
        "  lista_notas = []\n",
        "  for i in range(4):\n",
        "    nota = float(input(f\"Digite a {i+1}º nota: \"))\n",
        "    lista_notas.append(nota)\n",
        "  maior = max(lista_notas)\n",
        "  menor = min(lista_notas)\n",
        "  media = sum(lista_notas) / len(lista_notas)\n",
        "  if media >= 5:\n",
        "    situacao = \"APROVADO\"\n",
        "  else:\n",
        "    situacao = \"REPROVADO\"\n",
        "  print(f\"\\nO(a) estudante obteve uma média de {media:.2f}, com a sua maior nota de {maior:.2f} pontos e a menor nota de {menor:.2f} pontos e foi {situacao}.\")\n",
        "\n",
        "notas()\n"
      ],
      "metadata": {
        "id": "wo53IxjXb3jH",
        "colab": {
          "base_uri": "https://localhost:8080/"
        },
        "outputId": "eeb378fb-67fb-40fc-be25-da01a3da6931"
      },
      "execution_count": null,
      "outputs": [
        {
          "output_type": "stream",
          "name": "stdout",
          "text": [
            "Digite a 1º nota: 10\n",
            "Digite a 2º nota: 7\n",
            "Digite a 3º nota: 9\n",
            "Digite a 4º nota: 9\n",
            "\n",
            "O(a) estudante obteve uma média de 8.75, com a sua maior nota de 10.00 pontos e a menor nota de 7.00 pontos e foi APROVADO.\n"
          ]
        }
      ]
    },
    {
      "cell_type": "code",
      "source": [
        "\"\"\"\n",
        "7. Você recebeu uma demanda para tratar 2 listas com os nomes e sobrenomes de cada estudante\n",
        "concatenando-as para apresentar seus nomes completos na forma Nome Sobrenome. As listas são:\n",
        "nomes = [\"joão\", \"MaRia\", \"JOSÉ\"]\n",
        "sobrenomes = [\"SILVA\", \"souza\", \"Tavares\"]\n",
        "O texto exibido ao fim deve ser parecido com:\n",
        "\"Nome completo: Ana Silva\"\n",
        "Dica: utilize a função map para mapear os nomes e sobrenomes e as funções de string para tratar o texto.\n",
        "\"\"\"\n",
        "\n",
        "nomes = [\"joão\", \"MaRia\", \"JOSÉ\"]\n",
        "sobrenomes = [\"SILVA\", \"souza\", \"Tavares\"]\n",
        "\n",
        "nome_completo = list(map(lambda x, y: x.capitalize() + ' ' + y.capitalize(), nomes, sobrenomes))\n",
        "\n",
        "for i in range(len(nome_completo)):\n",
        "  print(f\"Nome completo: {nome_completo[i]}\")\n",
        "\n",
        "print(nome_completo)"
      ],
      "metadata": {
        "id": "bv3v5PDAb32F",
        "colab": {
          "base_uri": "https://localhost:8080/"
        },
        "outputId": "951a4113-ec3c-4ecd-be3b-f14468b112fa"
      },
      "execution_count": null,
      "outputs": [
        {
          "output_type": "stream",
          "name": "stdout",
          "text": [
            "Nome completo: João Silva\n",
            "Nome completo: Maria Souza\n",
            "Nome completo: José Tavares\n",
            "['João Silva', 'Maria Souza', 'José Tavares']\n"
          ]
        }
      ]
    },
    {
      "cell_type": "code",
      "source": [
        "\"\"\"\n",
        "8. Como cientista de dados em um time de futebol, você precisa implementar novas formas de coleta de dados sobre o desempenho de jogadores\n",
        "e do time como um todo. Sua primeira ação é criar uma forma de calcular a pontuação do time no campeonato nacional\n",
        "a partir dos dados de gols marcados e sofridos em cada jogo.\n",
        "\n",
        "Escreva uma função chamada calcula_pontos que recebe como parâmetros duas listas de números inteiros,\n",
        "representando os gols marcados e sofridos pelo time em cada partida do campeonato.\n",
        "A função deve retornar a pontuação do time e o aproveitamento em percentual, levando em consideração que a vitória vale 3 pontos,\n",
        "o empate vale 1 ponto e a derrota 0 pontos.\n",
        "\n",
        "Observação: se a quantidade de gols marcados numa partida for maior que a de sofridos, o time venceu.\n",
        "Caso seja igual, o time empatou e se for menor, o time perdeu.\n",
        "Para calcular o aproveitamento devemos fazer a razão entre a pontuação do time pela pontuação máxima que ele poderia receber.\n",
        "\n",
        "Para teste, utilize as seguintes listas de gols marcados e sofridos:\n",
        "gols_marcados = [2, 1, 3, 1, 0]\n",
        "gols_sofridos = [1, 2, 2, 1, 3]\n",
        "Provável texto exibido:\n",
        "\"A pontuação do time foi de [pontos] e seu aproveitamento foi de [aprov]%\"\n",
        "\"\"\"\n",
        "\n",
        "gols_marcados = [2, 1, 3, 1, 0]\n",
        "gols_sofridos = [1, 2, 2, 1, 3]\n",
        "\n",
        "def calcula_pontos(x, y):\n",
        "  pontos = 0\n",
        "  for i in range(len(x)):\n",
        "    if x[i] > y[i]:\n",
        "      pontos += 3\n",
        "    elif x[i] == y[i]:\n",
        "      pontos += 1\n",
        "  aprov = (pontos / (len(x)*3)) * 100\n",
        "  print(f\"A pontuação do time foi de {pontos} e seu aproveitamento foi de {aprov:.2f}%\")\n",
        "\n",
        "calcula_pontos(gols_marcados, gols_sofridos)"
      ],
      "metadata": {
        "id": "6o61TzAcb4LR",
        "colab": {
          "base_uri": "https://localhost:8080/"
        },
        "outputId": "e6b54dc9-67ae-472f-f1dd-71f2b933df0f"
      },
      "execution_count": null,
      "outputs": [
        {
          "output_type": "stream",
          "name": "stdout",
          "text": [
            "A pontuação do time foi de 7 e seu aproveitamento foi de 46.67%\n"
          ]
        }
      ]
    },
    {
      "cell_type": "code",
      "source": [
        "\"\"\"\n",
        "9. Você recebeu o desafio de criar um código que calcula os gastos de uma viagem para um das quatro cidades partindo de Recife, sendo elas:\n",
        "Salvador, Fortaleza, Natal e Aracaju.\n",
        "\n",
        "O custo da diária do hotel é de 150 reais em todas elas e o consumo de gasolina na viagem de carro é de 14 km/l,\n",
        "sendo que o valor da gasolina é de 5 reais o litro.\n",
        "O gastos com passeios e alimentação a se fazer em cada uma delas por dia seria de [200, 400, 250, 300], respectivamente.\n",
        "\n",
        "Sabendo que as distâncias entre Recife e cada uma das cidades é de aproximadamente [850, 800, 300, 550] km, crie três funções nas quais:\n",
        "a 1ª função calcule os gastos com hotel (gasto_hotel), a\n",
        "2ª calcule os gastos com a gasolina (gasto_gasolina) e a\n",
        "3ª os gastos com passeio e alimentação (gasto_passeio).\n",
        "\n",
        "Para testar, simule uma viagem de 3 dias para Salvador partindo de Recife. Considere a viagem de ida e volta de carro.\n",
        "\"Com base nos gastos definidos, uma viagem de [dias] dias para [cidade] saindo de Recife custaria [gastos] reais\"\n",
        "\"\"\"\n",
        "\n",
        "lista_cidades = [\"Salvador\", \"Fortaleza\", \"Natal\", \"Aracaju\"]\n",
        "\n",
        "print(\"CIDADES DISPONÍVEIS:\\n0 - Salvador\\n1 - Fortaleza\\n2 - Natal\\n4 - Aracaju\")\n",
        "cidade = int(input(\"\\nDigite o número da cidade que deseja ir: \"))\n",
        "dias = int(input(\"Digite quantos dias ira ficar: \"))\n",
        "\n",
        "def gasto_hotel(x):\n",
        "  diaria = 150\n",
        "  gasto_hotel = diaria * x\n",
        "  return gasto_hotel\n",
        "\n",
        "def gasto_gasolina(x):\n",
        "  valor_gasolina = 5\n",
        "  consumo = 14\n",
        "  distancia = [850, 800, 300, 550]\n",
        "  litros = (distancia[x] / consumo) * 2\n",
        "  gasto_gasolina = litros * valor_gasolina\n",
        "  return gasto_gasolina\n",
        "\n",
        "def gasto_passeio(x, y):\n",
        "  valor_passeio = [200, 400, 250, 300]\n",
        "  gasto_passeio = valor_passeio[x] * y\n",
        "  return gasto_passeio\n",
        "\n",
        "gastos = gasto_hotel(dias) + gasto_gasolina(cidade) + gasto_passeio(cidade, dias)\n",
        "\n",
        "print(f\"\\nCom base nos gastos definidos, uma viagem de {dias} dias para {lista_cidades[cidade]} saindo de Recife custaria {gastos:.2f} reais\")\n"
      ],
      "metadata": {
        "id": "Ex9ODnDGb4e6",
        "colab": {
          "base_uri": "https://localhost:8080/"
        },
        "outputId": "945e9166-44f5-446d-ba95-c9cc2d846dba"
      },
      "execution_count": null,
      "outputs": [
        {
          "output_type": "stream",
          "name": "stdout",
          "text": [
            "CIDADES DISPONÍVEIS:\n",
            "0 - Salvador\n",
            "1 - Fortaleza\n",
            "2 - Natal\n",
            "4 - Aracaju\n",
            "\n",
            "Digite o número da cidade que deseja ir: 0\n",
            "Digite quantos dias ira ficar: 3\n",
            "\n",
            "Com base nos gastos definidos, uma viagem de 3 dias para Salvador saindo de Recife custaria 1657.14 reais\n"
          ]
        }
      ]
    },
    {
      "cell_type": "code",
      "source": [
        "\"\"\"\n",
        "10. Você iniciou um estágio em uma empresa que trabalha com processamento de linguagem natural (NLP).\n",
        "Sua líder requisitou que você criasse um trecho de código que recebe uma frase digitada pela pessoa usuária\n",
        "e filtre apenas as palavras com tamanho maior ou igual a 5, exibindo-as em uma lista.\n",
        "Essa demanda é voltada para a análise do padrão de comportamento de pessoas na escrita de palavras acima dessa quantidade de caracteres.\n",
        "\n",
        "Dica: utilize as funções lambda e filter() para filtrar essas palavras.\n",
        "Lembrando que a função embutida filter() recebe uma função (no nosso exemplo uma função lambda) e\n",
        "filtra um iterável de acordo com a função. Para tratar a frase use replace() para trocar a ',' '.', '!' e '?' por espaço.\n",
        "\n",
        "Use a frase \"Aprender Python aqui na Alura é muito bom\" para testar o código.\n",
        "\"\"\"\n",
        "\n",
        "frase_input = input(\"Digite um frase:\\n\")\n",
        "\n",
        "frase = frase_input.replace(\",\" , \"\" ).replace(\".\" , \"\" ).replace(\"!\" , \"\" ).replace(\"?\" , \"\" ).split()\n",
        "\n",
        "maior_cinco = list(filter(lambda x: (len(x) >= 5), frase))\n",
        "\n",
        "print(f\"\\nPALAVRAS MAIORES QUE 5 LETRAS:\\n{maior_cinco}\")\n"
      ],
      "metadata": {
        "id": "ohNkH8z6b404",
        "colab": {
          "base_uri": "https://localhost:8080/"
        },
        "outputId": "3246ab32-e540-47d7-c71e-aabfcbbd36ab"
      },
      "execution_count": null,
      "outputs": [
        {
          "output_type": "stream",
          "name": "stdout",
          "text": [
            "Digite um frase:\n",
            "Aprender Python aqui na Alura é muito bom\n",
            "\n",
            "PALAVRAS MAIORES QUE 5 LETRAS:\n",
            "['Aprender', 'Python', 'Alura', 'muito']\n"
          ]
        }
      ]
    },
    {
      "cell_type": "markdown",
      "source": [
        "# **Estruturas de Dados**"
      ],
      "metadata": {
        "id": "zaPo6tRwbSQf"
      }
    },
    {
      "cell_type": "code",
      "source": [
        "\"\"\"\n",
        "1. Crie um código para imprimir a soma dos elementos de cada uma das listas contidas na seguinte lista:\n",
        "lista_de_listas = [[4,6,5,9], [1,0,7,2], [3,4,1,8]]\n",
        "\"\"\"\n",
        "\n",
        "lista_de_listas = [[4,6,5,9], [1,0,7,2], [3,4,1,8]]\n",
        "\n",
        "for i in lista_de_listas:\n",
        "  print(sum(i))"
      ],
      "metadata": {
        "id": "hmo146khbY57",
        "colab": {
          "base_uri": "https://localhost:8080/"
        },
        "outputId": "8a4e96dc-72f6-4fcb-df2b-4492df7b7b9f"
      },
      "execution_count": null,
      "outputs": [
        {
          "output_type": "stream",
          "name": "stdout",
          "text": [
            "24\n",
            "10\n",
            "16\n"
          ]
        }
      ]
    },
    {
      "cell_type": "code",
      "source": [
        "\"\"\"\n",
        "2. Crie um código para gerar uma lista que armazena o terceiro elemento de cada tupla contida na seguinte lista de tuplas:\n",
        "lista_de_tuplas = [('Pedro', 1.74, 81), ('Júlia', 1.65, 67), ('Otávio', 1.81, 83)]\n",
        "\"\"\"\n",
        "\n",
        "lista_de_tuplas = [('Pedro', 1.74, 81), ('Júlia', 1.65, 67), ('Otávio', 1.81, 83)]\n",
        "\n",
        "lista_terceiro = []\n",
        "\n",
        "for i in lista_de_tuplas:\n",
        "  lista_terceiro.append(i[2])\n",
        "\n",
        "print(f\"Lista de terceiro elemento:\\n{lista_terceiro}\")\n"
      ],
      "metadata": {
        "colab": {
          "base_uri": "https://localhost:8080/"
        },
        "id": "70QR5ntQpSWe",
        "outputId": "569cb31b-cf8e-4ded-da5b-9d7ae5c55fb6"
      },
      "execution_count": null,
      "outputs": [
        {
          "output_type": "stream",
          "name": "stdout",
          "text": [
            "Lista de terceiro elemento:\n",
            "[81, 67, 83]\n"
          ]
        }
      ]
    },
    {
      "cell_type": "code",
      "source": [
        "\"\"\"\n",
        "3. A partir da lista: lista = ['Pedro', 'Júlia', 'Otávio', 'Eduardo'], crie um código para gerar uma lista de tuplas\n",
        "em que cada tupla tenha o primeiro elemento como a posição do nome na lista original e o segundo elemento sendo o próprio nome.\n",
        "\"\"\"\n",
        "\n",
        "lista = ['Pedro', 'Júlia', 'Otávio', 'Eduardo']\n",
        "\n",
        "lista_novo = []\n",
        "\n",
        "for i in lista:\n",
        "  indice = lista.index(i)\n",
        "  nome = i\n",
        "  lista_novo.append((indice, nome))\n",
        "\n",
        "print(lista_novo)"
      ],
      "metadata": {
        "colab": {
          "base_uri": "https://localhost:8080/"
        },
        "id": "z51LUun2pSp8",
        "outputId": "05f24b65-bb9a-4b3c-f337-bfde06f589fa"
      },
      "execution_count": null,
      "outputs": [
        {
          "output_type": "stream",
          "name": "stdout",
          "text": [
            "[(0, 'Pedro'), (1, 'Júlia'), (2, 'Otávio'), (3, 'Eduardo')]\n"
          ]
        }
      ]
    },
    {
      "cell_type": "code",
      "source": [
        "\"\"\"\n",
        "4. Crie uma lista usando o list comprehension que armazena somente o valor numérico de cada tupla caso o primeiro elemento seja 'Apartamento',\n",
        "a partir da seguinte lista de tuplas:\n",
        "aluguel = [('Apartamento', 1700), ('Apartamento', 1400), ('Casa', 2150), ('Apartamento', 1900), ('Casa', 1100)]\n",
        "\"\"\"\n",
        "\n",
        "aluguel = [('Apartamento', 1700), ('Apartamento', 1400), ('Casa', 2150), ('Apartamento', 1900), ('Casa', 1100)]\n",
        "\n",
        "apartamento = [x[1] for x in aluguel if x[0] == \"Apartamento\"]\n",
        "\n",
        "print(apartamento)\n"
      ],
      "metadata": {
        "colab": {
          "base_uri": "https://localhost:8080/"
        },
        "id": "5pQdCJWmpTCk",
        "outputId": "0554c133-c26d-4e74-b346-31285150881e"
      },
      "execution_count": null,
      "outputs": [
        {
          "output_type": "stream",
          "name": "stdout",
          "text": [
            "[1700, 1400, 1900]\n"
          ]
        }
      ]
    },
    {
      "cell_type": "code",
      "source": [
        "\"\"\"\n",
        "5. Crie um dicionário usando o dict comprehension em que as chaves estão na lista\n",
        "meses = ['Jan', 'Fev', 'Mar', 'Abr', 'Mai', 'Jun', 'Jul', 'Ago', 'Set', 'Out', 'Nov', 'Dez']\n",
        "e os valores estão em\n",
        "despesa = [860, 490, 1010, 780, 900, 630, 590, 770, 620, 560, 840, 360].\n",
        "\"\"\"\n",
        "\n",
        "meses = ['Jan', 'Fev', 'Mar', 'Abr', 'Mai', 'Jun', 'Jul', 'Ago', 'Set', 'Out', 'Nov', 'Dez']\n",
        "despesa = [860, 490, 1010, 780, 900, 630, 590, 770, 620, 560, 840, 360]\n",
        "\n",
        "despesa_meses = {meses[i]: despesa[i] for i in range(len(despesa))}\n",
        "\n",
        "print(despesa_meses)"
      ],
      "metadata": {
        "colab": {
          "base_uri": "https://localhost:8080/"
        },
        "id": "-_d6LNjEpTUz",
        "outputId": "57990883-f8fe-474f-a850-b92efba1d66c"
      },
      "execution_count": null,
      "outputs": [
        {
          "output_type": "stream",
          "name": "stdout",
          "text": [
            "{'Jan': 860, 'Fev': 490, 'Mar': 1010, 'Abr': 780, 'Mai': 900, 'Jun': 630, 'Jul': 590, 'Ago': 770, 'Set': 620, 'Out': 560, 'Nov': 840, 'Dez': 360}\n"
          ]
        }
      ]
    },
    {
      "cell_type": "code",
      "source": [
        "\"\"\"\n",
        "6. Uma loja possui um banco de dados com a informação de venda de cada representante e de cada ano\n",
        "e precisa filtrar somente os dados do ano 2022 com venda maior do que 6000.\n",
        "A loja forneceu uma amostra contendo apenas as colunas com os anos e os valores de venda\n",
        "para que você ajude a realizar a filtragem dos dados a partir de um código:\n",
        "vendas = [('2023', 4093), ('2021', 4320), ('2021', 5959), ('2022', 8883), ('2023', 9859), ('2022', 5141), ('2022', 7688), ('2022', 9544), ('2023', 4794), ('2021', 7178), ('2022', 3030), ('2021', 7471), ('2022', 4226), ('2022', 8190), ('2021', 9680), ('2022', 5616)]\n",
        "Crie uma lista usando list comprehension para filtrar os valores de 2022 e que sejam maiores que 6000.\n",
        "\"\"\"\n",
        "\n",
        "vendas = [('2023', 4093), ('2021', 4320), ('2021', 5959), ('2022', 8883), ('2023', 9859), ('2022', 5141), ('2022', 7688), ('2022', 9544), ('2023', 4794), ('2021', 7178), ('2022', 3030), ('2021', 7471), ('2022', 4226), ('2022', 8190), ('2021', 9680), ('2022', 5616)]\n",
        "\n",
        "maior_6000 = [x[1] for x in vendas if x[0] == '2022' and x[1] >= 6000]\n",
        "\n",
        "print(f\"Valores acima de 6000 de 2022:\\n{maior_6000}\")\n"
      ],
      "metadata": {
        "colab": {
          "base_uri": "https://localhost:8080/"
        },
        "id": "MbeBwReSpTqU",
        "outputId": "2a78b647-cd51-4861-a1ae-a0f5019af225"
      },
      "execution_count": null,
      "outputs": [
        {
          "output_type": "stream",
          "name": "stdout",
          "text": [
            "Valores acima de 6000 de 2022:\n",
            "[8883, 7688, 9544, 8190]\n"
          ]
        }
      ]
    },
    {
      "cell_type": "code",
      "source": [
        "\"\"\"\n",
        "7. Uma clínica analisa dados de pacientes e armazena o valor numérico da glicose em um banco de dados e gostaria de rotular os dados da seguinte maneira:\n",
        "\n",
        "Glicose igual ou inferior a 70: 'Hipoglicemia'\n",
        "Glicose entre 70 a 99: 'Normal'\n",
        "Glicose entre 100 e 125: 'Alterada'\n",
        "Glicose superior a 125: 'Diabetes'\n",
        "\n",
        "A clínica disponibilizou parte dos valores e sua tarefa é criar uma lista de tuplas usando list comprehension\n",
        "contendo o rótulo e o valor da glicemia em cada tupla.\n",
        "\n",
        "glicemia = [129, 82, 60, 97, 101, 65, 62, 167, 87, 53, 58, 92, 66, 120, 109, 62, 86, 96, 103, 88, 155, 52, 89, 73]\n",
        "\"\"\"\n",
        "\n",
        "glicemia = [129, 82, 60, 97, 101, 65, 62, 167, 87, 53, 58, 92, 66, 120, 109, 62, 86, 96, 103, 88, 155, 52, 89, 73]\n",
        "\n",
        "classificacao_glicemia = [(\"Hipoglicemia\", i) if i <= 70 else (\"Normal\", i) if i < 100 else (\"Alterada\", i) if i < 125 else (\"Diabetes\", i) for i in glicemia]\n",
        "\n",
        "print(classificacao_glicemia)"
      ],
      "metadata": {
        "colab": {
          "base_uri": "https://localhost:8080/"
        },
        "id": "qcbU-1ZFpUFC",
        "outputId": "572a372f-84d9-4d84-cc8c-814d049f1134"
      },
      "execution_count": 28,
      "outputs": [
        {
          "output_type": "stream",
          "name": "stdout",
          "text": [
            "[('Diabetes', 129), ('Normal', 82), ('Hipoglicemia', 60), ('Normal', 97), ('Alterada', 101), ('Hipoglicemia', 65), ('Hipoglicemia', 62), ('Diabetes', 167), ('Normal', 87), ('Hipoglicemia', 53), ('Hipoglicemia', 58), ('Normal', 92), ('Hipoglicemia', 66), ('Alterada', 120), ('Alterada', 109), ('Hipoglicemia', 62), ('Normal', 86), ('Normal', 96), ('Alterada', 103), ('Normal', 88), ('Diabetes', 155), ('Hipoglicemia', 52), ('Normal', 89), ('Normal', 73)]\n"
          ]
        }
      ]
    },
    {
      "cell_type": "code",
      "source": [
        "\"\"\"\n",
        "8. Um e-commerce possui as informações de id de venda, quantidade vendida e preço do produto divididos nas seguintes listas:\n",
        "id = [0, 1, 2, 3, 4, 5, 6, 7, 8, 9]\n",
        "quantidade = [15, 12, 1, 15, 2, 11, 2, 12, 2, 4]\n",
        "preco = [93.0, 102.0, 18.0, 41.0, 122.0, 14.0, 71.0, 48.0, 14.0, 144.0]\n",
        "O e-commerce precisa estruturar esses dados em uma tabela contendo o valor total da venda,\n",
        "que é obtida multiplicando a quantidade pelo preço unitário. Além disso, a tabela precisa conter um cabeçalho indicando as colunas:\n",
        "'id', 'quantidade', 'preco' e 'total'.\n",
        "\n",
        "Crie uma lista de tuplas em que cada tupla tenha id, quantidade, preço e valor total, na qual a primeira tupla é o cabeçalho da tabela.\n",
        "\"\"\"\n",
        "\n",
        "id = [0, 1, 2, 3, 4, 5, 6, 7, 8, 9]\n",
        "quantidade = [15, 12, 1, 15, 2, 11, 2, 12, 2, 4]\n",
        "preco = [93.0, 102.0, 18.0, 41.0, 122.0, 14.0, 71.0, 48.0, 14.0, 144.0]\n",
        "tabela = [(\"id\", \"quantiade\", \"preco\", \"total\")]\n",
        "\n",
        "tabela += [(i, quantidade[i], preco[i], quantidade[i] * preco[i])for i in id]\n",
        "\n",
        "print(tabela)"
      ],
      "metadata": {
        "id": "vIrzIcw4pUXt",
        "colab": {
          "base_uri": "https://localhost:8080/"
        },
        "outputId": "218f2052-04ba-43f1-92fe-4eaa469b36b0"
      },
      "execution_count": 48,
      "outputs": [
        {
          "output_type": "stream",
          "name": "stdout",
          "text": [
            "[('id', 'quantiade', 'preco', 'total'), (0, 15, 93.0, 1395.0), (1, 12, 102.0, 1224.0), (2, 1, 18.0, 18.0), (3, 15, 41.0, 615.0), (4, 2, 122.0, 244.0), (5, 11, 14.0, 154.0), (6, 2, 71.0, 142.0), (7, 12, 48.0, 576.0), (8, 2, 14.0, 28.0), (9, 4, 144.0, 576.0)]\n"
          ]
        }
      ]
    },
    {
      "cell_type": "code",
      "source": [
        "\"\"\"\n",
        "9. Uma empresa possui filiais espalhadas nos Estados da região Sudeste do Brasil.\n",
        "Em uma das tabelas de cadastro das filiais há uma coluna contendo a informação de qual é o Estado a que pertence:\n",
        "estados = ['SP', 'ES', 'MG', 'MG', 'SP', 'MG', 'ES', 'ES', 'ES', 'SP', 'SP', 'MG', 'ES', 'SP', 'RJ', 'MG', 'RJ', 'SP', 'MG', 'SP', 'ES', 'SP', 'MG'].\n",
        "\n",
        "A empresa sempre está abrindo novas filiais, de modo que a tabela está constantemente recebendo novos registros\n",
        "e o gestor gostaria de possuir a informação atualizada da quantidade de filiais em cada Estado.\n",
        "\n",
        "A partir da coluna com a informação dos Estados, crie um dicionário usando dict comprehension\n",
        "com a chave sendo o nome de um Estado e o valor sendo a contagem de vezes em que o Estado aparece na lista.\n",
        "\n",
        "Dica: Você pode fazer um passo intermediário para gerar uma lista de listas em que cada uma das listas possui o nome de apenas um Estado com valores repetidos.\n",
        "\"\"\"\n",
        "\n",
        "estados = ['SP', 'ES', 'MG', 'MG', 'SP', 'MG', 'ES', 'ES', 'ES', 'SP', 'SP', 'MG', 'ES', 'SP', 'RJ', 'MG', 'RJ', 'SP', 'MG', 'SP', 'ES', 'SP', 'MG']\n",
        "estados_disponiveis = list(set(estados))\n",
        "agrupamento_estado = []\n",
        "\n",
        "for i in estados_disponiveis:\n",
        "  agrupamento = [x for x in estados if x == i]\n",
        "  agrupamento_estado.append(agrupamento)\n",
        "print(agrupamento_estado)\n",
        "\n",
        "contagem = {estados_disponiveis[i]: len(agrupamento_estado[i]) for i in range(len(estados_disponiveis))}\n",
        "print(contagem)\n"
      ],
      "metadata": {
        "id": "o0runi9KpUvq",
        "colab": {
          "base_uri": "https://localhost:8080/"
        },
        "outputId": "ebc642a4-0414-4ac0-a6f7-0a71708d7df1"
      },
      "execution_count": 67,
      "outputs": [
        {
          "output_type": "stream",
          "name": "stdout",
          "text": [
            "[['SP', 'SP', 'SP', 'SP', 'SP', 'SP', 'SP', 'SP'], ['ES', 'ES', 'ES', 'ES', 'ES', 'ES'], ['RJ', 'RJ'], ['MG', 'MG', 'MG', 'MG', 'MG', 'MG', 'MG']]\n",
            "{'SP': 8, 'ES': 6, 'RJ': 2, 'MG': 7}\n"
          ]
        }
      ]
    },
    {
      "cell_type": "code",
      "source": [
        "\"\"\"\n",
        "10. Nessa mesma tabela de cadastro de filiais, há uma coluna com as informações da quantidade de pessoas colaboradoras\n",
        "e o(a) gestor(a) gostaria de ter um agrupamento da soma dessas pessoas para cada estado. As informações contidas na tabela são:\n",
        "funcionarios = [('SP', 16), ('ES', 8), ('MG', 9), ('MG', 6), ('SP', 10), ('MG', 4), ('ES',9), ('ES', 7), ('ES', 12), ('SP', 7), ('SP', 11), ('MG',8), ('ES',8), ('SP',9), ('RJ', 13), ('MG', 5), ('RJ', 9), ('SP', 12), ('MG', 10), ('SP', 7), ('ES', 14), ('SP', 10), ('MG', 12)]\n",
        "A partir da lista de tuplas, crie um dicionário em que as chaves são os nomes dos Estados únicos\n",
        "e os valores são as listas com o número de colaboradores(as) referentes ao Estado.\n",
        "Crie também um dicionário em que as chaves são os nomes dos Estados e os valores são a soma de colaboradores(as) por Estado.\n",
        "\n",
        "Dica: Você pode fazer um passo intermediário para gerar uma lista de listas em que cada uma das listas\n",
        "possui apenas os valores numéricos de funcionários(as) de cada Estado.\n",
        "\"\"\"\n",
        "\n",
        "funcionarios = [('SP', 16), ('ES', 8), ('MG', 9), ('MG', 6), ('SP', 10), ('MG', 4), ('ES',9), ('ES', 7), ('ES', 12), ('SP', 7), ('SP', 11), ('MG',8), ('ES',8), ('SP',9), ('RJ', 13), ('MG', 5), ('RJ', 9), ('SP', 12), ('MG', 10), ('SP', 7), ('ES', 14), ('SP', 10), ('MG', 12)]\n",
        "estados_unicos = list(set(i[0] for i in funcionarios))\n",
        "contagem_funcionarios = []\n",
        "\n",
        "for i in estados_unicos:\n",
        "  agrupamento = [x[1] for x in funcionarios if i == x[0]]\n",
        "  contagem_funcionarios.append(agrupamento)\n",
        "print(contagem_funcionarios)\n",
        "\n",
        "for i in estados_unicos:\n",
        "  soma_funcionarios = {estados_unicos[x]: sum(contagem_funcionarios[x]) for x in range(len(contagem_funcionarios))}\n",
        "print(soma_funcionarios)"
      ],
      "metadata": {
        "id": "ldbKlKPZpVDa",
        "colab": {
          "base_uri": "https://localhost:8080/"
        },
        "outputId": "732b38f9-3022-4808-f8d3-b2d68f0891ae"
      },
      "execution_count": 95,
      "outputs": [
        {
          "output_type": "stream",
          "name": "stdout",
          "text": [
            "[[16, 10, 7, 11, 9, 12, 7, 10], [8, 9, 7, 12, 8, 14], [13, 9], [9, 6, 4, 8, 5, 10, 12]]\n",
            "{'SP': 82, 'ES': 58, 'RJ': 22, 'MG': 54}\n"
          ]
        }
      ]
    },
    {
      "cell_type": "markdown",
      "source": [
        "# **Lidando com Exceções**"
      ],
      "metadata": {
        "id": "Nce3oebv86eG"
      }
    },
    {
      "cell_type": "code",
      "source": [],
      "metadata": {
        "id": "dZ37zNG69HHf"
      },
      "execution_count": null,
      "outputs": []
    }
  ]
}