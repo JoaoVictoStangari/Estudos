{
  "nbformat": 4,
  "nbformat_minor": 0,
  "metadata": {
    "colab": {
      "provenance": [],
      "authorship_tag": "ABX9TyPBTiQhQGFahUeL4CQiN8VK",
      "include_colab_link": true
    },
    "kernelspec": {
      "name": "python3",
      "display_name": "Python 3"
    },
    "language_info": {
      "name": "python"
    }
  },
  "cells": [
    {
      "cell_type": "markdown",
      "metadata": {
        "id": "view-in-github",
        "colab_type": "text"
      },
      "source": [
        "<a href=\"https://colab.research.google.com/github/JoaoVictoStangari/Estudos/blob/main/Alura/Python_para_Data_Science_trabalhando_com_fun%C3%A7%C3%B5es%2C_estruturas_de_dados_e_exce%C3%A7%C3%B5es.ipynb\" target=\"_parent\"><img src=\"https://colab.research.google.com/assets/colab-badge.svg\" alt=\"Open In Colab\"/></a>"
      ]
    },
    {
      "cell_type": "markdown",
      "source": [
        "# **Bibliotecas**"
      ],
      "metadata": {
        "id": "3IcUMrBdFREH"
      }
    },
    {
      "cell_type": "code",
      "execution_count": null,
      "metadata": {
        "colab": {
          "base_uri": "https://localhost:8080/"
        },
        "id": "_zWcFWqYD7G4",
        "outputId": "e9c74541-423c-4294-f4aa-e27c4716a10d"
      },
      "outputs": [
        {
          "output_type": "stream",
          "name": "stdout",
          "text": [
            "Requirement already satisfied: matplotlib==3.7.1 in /usr/local/lib/python3.10/dist-packages (3.7.1)\n",
            "Requirement already satisfied: contourpy>=1.0.1 in /usr/local/lib/python3.10/dist-packages (from matplotlib==3.7.1) (1.2.0)\n",
            "Requirement already satisfied: cycler>=0.10 in /usr/local/lib/python3.10/dist-packages (from matplotlib==3.7.1) (0.12.1)\n",
            "Requirement already satisfied: fonttools>=4.22.0 in /usr/local/lib/python3.10/dist-packages (from matplotlib==3.7.1) (4.47.2)\n",
            "Requirement already satisfied: kiwisolver>=1.0.1 in /usr/local/lib/python3.10/dist-packages (from matplotlib==3.7.1) (1.4.5)\n",
            "Requirement already satisfied: numpy>=1.20 in /usr/local/lib/python3.10/dist-packages (from matplotlib==3.7.1) (1.23.5)\n",
            "Requirement already satisfied: packaging>=20.0 in /usr/local/lib/python3.10/dist-packages (from matplotlib==3.7.1) (23.2)\n",
            "Requirement already satisfied: pillow>=6.2.0 in /usr/local/lib/python3.10/dist-packages (from matplotlib==3.7.1) (9.4.0)\n",
            "Requirement already satisfied: pyparsing>=2.3.1 in /usr/local/lib/python3.10/dist-packages (from matplotlib==3.7.1) (3.1.1)\n",
            "Requirement already satisfied: python-dateutil>=2.7 in /usr/local/lib/python3.10/dist-packages (from matplotlib==3.7.1) (2.8.2)\n",
            "Requirement already satisfied: six>=1.5 in /usr/local/lib/python3.10/dist-packages (from python-dateutil>=2.7->matplotlib==3.7.1) (1.16.0)\n"
          ]
        }
      ],
      "source": [
        "\"\"\"\n",
        "1. Escreva um código para instalar a versão 3.7.1 da biblioteca matplotlib.\n",
        "\"\"\"\n",
        "\n",
        "!pip install matplotlib==3.7.1"
      ]
    },
    {
      "cell_type": "code",
      "source": [
        "\"\"\"\n",
        "2. Escreva um código para importar a biblioteca numpy com o alias np.\n",
        "\"\"\"\n",
        "\n",
        "import numpy as np"
      ],
      "metadata": {
        "id": "qeWKyznJEOy-"
      },
      "execution_count": null,
      "outputs": []
    },
    {
      "cell_type": "code",
      "source": [
        "\"\"\"\n",
        "3. Crie um programa que leia a seguinte lista de números e escolha um número desta aleatoriamente.\n",
        "lista = [8, 12, 54, 23, 43, 1, 90, 87, 105, 77]\n",
        "\"\"\"\n",
        "\n",
        "from random import choice\n",
        "\n",
        "lista = [8, 12, 54, 23, 43, 1, 90, 87, 105, 77]\n",
        "\n",
        "choice(lista)"
      ],
      "metadata": {
        "colab": {
          "base_uri": "https://localhost:8080/"
        },
        "id": "j1nZc_CJER3I",
        "outputId": "62e99dfc-aa5e-4a4f-dc41-92b20be23e13"
      },
      "execution_count": null,
      "outputs": [
        {
          "output_type": "execute_result",
          "data": {
            "text/plain": [
              "8"
            ]
          },
          "metadata": {},
          "execution_count": 14
        }
      ]
    },
    {
      "cell_type": "code",
      "source": [
        "\"\"\"\n",
        "4. Crie um programa que sorteia, aleatoriamente, um número inteiro menor que 100.\n",
        "Dica: use a função randrange() da biblioteca random.\n",
        "Essa função recebe como parâmetro o valor limite para a escolha aleatória ou um intervalo se passado o limite mínimo e máximo.\n",
        "Por exemplo, randrange(5) gera valores inteiros menores que 5.\n",
        "\"\"\"\n",
        "\n",
        "from random import randrange\n",
        "\n",
        "randrange(100)\n"
      ],
      "metadata": {
        "id": "WstLvnrGESRx",
        "colab": {
          "base_uri": "https://localhost:8080/"
        },
        "outputId": "afe0436a-5b44-4451-b9b1-85718e63af05"
      },
      "execution_count": 11,
      "outputs": [
        {
          "output_type": "execute_result",
          "data": {
            "text/plain": [
              "41"
            ]
          },
          "metadata": {},
          "execution_count": 11
        }
      ]
    },
    {
      "cell_type": "code",
      "source": [
        "\"\"\"\n",
        "5. Crie um programa que solicite à pessoa usuária digitar dois números inteiros e calcular a potência do 1º número elevado ao 2º.\n",
        "Dica: use a função pow() da biblioteca math\n",
        "\"\"\"\n",
        "\n",
        "from math import pow\n",
        "\n",
        "numero = int(input(\"Digite um número: \"))\n",
        "potencia = int(input(\"Digite outro número: \"))\n",
        "\n",
        "print(f\"{numero} elevado a {potencia} é igual a {round(pow(numero, potencia))}\")\n"
      ],
      "metadata": {
        "id": "VBQYboPHETa5",
        "colab": {
          "base_uri": "https://localhost:8080/"
        },
        "outputId": "50e3c940-8da3-4f94-810d-6c556000f9e2"
      },
      "execution_count": 16,
      "outputs": [
        {
          "output_type": "stream",
          "name": "stdout",
          "text": [
            "Digite um número: 250\n",
            "Digite outro número: 15\n",
            "250 elevado a 15 é igual a 931322574615478450206377566359519232\n"
          ]
        }
      ]
    },
    {
      "cell_type": "code",
      "source": [
        "\"\"\"\n",
        "6. Um programa deve ser escrito para sortear uma pessoa seguidora de uma rede social para ganhar um prêmio.\n",
        "A lista de participantes é numerada e devemos escolher aleatoriamente um número de acordo com a quantidade de participantes.\n",
        "Peça à pessoa usuária para fornecer o número de participantes do sorteio e devolva para ela o número sorteado.\n",
        "\"\"\"\n",
        "\n",
        "participantes = int(input(\"Digite a quantidade de pessoas que estão participando: \"))\n",
        "\n",
        "from random import randrange\n",
        "\n",
        "print(f\"O número escolhido foi {randrange(1, participantes+1)}.\")"
      ],
      "metadata": {
        "id": "fO4R3GLmEpa5",
        "colab": {
          "base_uri": "https://localhost:8080/"
        },
        "outputId": "4ab48d73-25cc-4148-cb75-b8323da85377"
      },
      "execution_count": 38,
      "outputs": [
        {
          "output_type": "stream",
          "name": "stdout",
          "text": [
            "Digite a quantidade de pessoas que estão participando: 150\n",
            "O número escolhido foi 35.\n"
          ]
        }
      ]
    },
    {
      "cell_type": "code",
      "source": [
        "\"\"\"\n",
        "7. Você recebeu uma demanda para gerar números de token para acessar o aplicativo de uma empresa.\n",
        "O token precisa ser par e variar de 1000 até 9998. Escreva um código que solicita à pessoa usuária o seu nome\n",
        "e exibe uma mensagem junto a esse token gerado aleatoriamente.\n",
        "\"Olá, [nome], o seu token de acesso é [token]! Seja bem-vindo(a)!\"\n",
        "\"\"\"\n",
        "from random import randrange\n",
        "\n",
        "nome = input(\"Digite seu nome: \")\n",
        "token = randrange(1000, 9998, 2)\n",
        "\n",
        "print(f\"\\nOlá, {nome}, o seu token de acesso é {token}! Seja bem-vindo(a)!\")\n"
      ],
      "metadata": {
        "id": "pR38Hoz-Ep6x",
        "colab": {
          "base_uri": "https://localhost:8080/"
        },
        "outputId": "19d4c990-0e6f-41de-9b16-69b0352c2455"
      },
      "execution_count": 45,
      "outputs": [
        {
          "output_type": "stream",
          "name": "stdout",
          "text": [
            "Digite seu nome: João Victor\n",
            "\n",
            "Olá, João Victor, o seu token de acesso é 2786! Seja bem-vindo(a)!\n"
          ]
        }
      ]
    },
    {
      "cell_type": "code",
      "source": [
        "\"\"\"\n",
        "8. Para diversificar e atrair novos(as) clientes, uma lanchonete criou um item misterioso em seu cardápio chamado \"salada de frutas surpresa\".\n",
        "Neste item, são escolhidas aleatoriamente 3 frutas de uma lista de 12 para compor a salada de frutas da pessoa cliente.\n",
        "Crie o código que faça essa seleção aleatória de acordo com a lista abaixo:\n",
        "frutas = [\"maçã\", \"banana\", \"uva\", \"pêra\",\n",
        "          \"manga\", \"coco\", \"melancia\", \"mamão\",\n",
        "          \"laranja\", \"abacaxi\", \"kiwi\", \"ameixa\"]\n",
        "\"\"\"\n",
        "\n",
        "frutas = [\"maçã\", \"banana\", \"uva\", \"pêra\",\n",
        "          \"manga\", \"coco\", \"melancia\", \"mamão\",\n",
        "          \"laranja\", \"abacaxi\", \"kiwi\", \"ameixa\"]\n",
        "\n",
        "from random import choices\n",
        "\n",
        "print(\"SALADA DE FRUTAS SURPRESA:\\n\")\n",
        "\n",
        "print(\"As frutas escolhidas foram:\")\n",
        "choices(frutas, k=3)"
      ],
      "metadata": {
        "id": "LZGDo2ZhEqVd",
        "colab": {
          "base_uri": "https://localhost:8080/"
        },
        "outputId": "899687c1-877d-4abe-ca13-a79ad010813e"
      },
      "execution_count": 73,
      "outputs": [
        {
          "output_type": "stream",
          "name": "stdout",
          "text": [
            "SALADA DE FRUTAS SURPRESA:\n",
            "\n",
            "As frutas escolhidas foram:\n"
          ]
        },
        {
          "output_type": "execute_result",
          "data": {
            "text/plain": [
              "['kiwi', 'ameixa', 'pêra']"
            ]
          },
          "metadata": {},
          "execution_count": 73
        }
      ]
    },
    {
      "cell_type": "code",
      "source": [
        "\"\"\"\n",
        "9. Você recebeu um desafio de calcular a raiz quadrada de uma lista de números, identificando quais resultaram em um número inteiro. A lista é a seguinte:\n",
        "numeros = [2, 8, 15, 23, 91, 112, 256]\n",
        "No final, informe quais números possuem raízes inteiras e seus respectivos valores.\n",
        "Dica: use a comparação entre a divisão inteira (//) da raiz por 1 com o valor da raiz para verificar se o número é inteiro. Por exemplo:\n",
        "num = 1.5\n",
        "num_2 = 2\n",
        "print(f'{num} é inteiro? :', num // 1 == num)\n",
        "print(f'{num_2} é inteiro? :', num_2 // 1 == num_2)\n",
        "Saída:\n",
        "1.5 é inteiro? : False\n",
        "2 é inteiro? : True\n",
        "\"\"\"\n",
        "\n",
        "numeros = [2, 8, 15, 23, 91, 112, 256]\n",
        "\n",
        "from math import sqrt\n",
        "\n",
        "for i in range(len(numeros)):\n",
        "  print(f\"Raiz quadrada de {numeros[i]} é inteiro?\")\n",
        "  print(sqrt(numeros[i]))\n",
        "  print(sqrt(numeros[i]) // 1 == sqrt(numeros[i]), \"\\n\")"
      ],
      "metadata": {
        "id": "ENlOPN6aEqq6",
        "colab": {
          "base_uri": "https://localhost:8080/"
        },
        "outputId": "12097d35-1e33-441d-e24f-3452c0eb1300"
      },
      "execution_count": 91,
      "outputs": [
        {
          "output_type": "stream",
          "name": "stdout",
          "text": [
            "Raiz quadrada de 2 é inteiro?\n",
            "1.4142135623730951\n",
            "False \n",
            "\n",
            "Raiz quadrada de 8 é inteiro?\n",
            "2.8284271247461903\n",
            "False \n",
            "\n",
            "Raiz quadrada de 15 é inteiro?\n",
            "3.872983346207417\n",
            "False \n",
            "\n",
            "Raiz quadrada de 23 é inteiro?\n",
            "4.795831523312719\n",
            "False \n",
            "\n",
            "Raiz quadrada de 91 é inteiro?\n",
            "9.539392014169456\n",
            "False \n",
            "\n",
            "Raiz quadrada de 112 é inteiro?\n",
            "10.583005244258363\n",
            "False \n",
            "\n",
            "Raiz quadrada de 256 é inteiro?\n",
            "16.0\n",
            "True \n",
            "\n"
          ]
        }
      ]
    },
    {
      "cell_type": "code",
      "source": [
        "\"\"\"\n",
        "10. Faça um programa para uma loja que vende grama para jardins.\n",
        "Essa loja trabalha com jardins circulares e o preço do metro quadrado da grama é de R$ 25,00.\n",
        "Peça à pessoa usuária o raio da área circular e devolva o valor em reais do quanto precisará pagar.\n",
        "Dica: use a variável pi e o método pow() da biblioteca math. O cálculo da área de um círculo é de: A = π*r^2 (lê-se pi vezes raio ao quadrado).\n",
        "\"\"\"\n",
        "\n",
        "from math import pow, pi\n",
        "\n",
        "area = float(input(f\"Digite o raio da área circular desejada: \"))\n",
        "metro_total = pi * pow(area, 2)\n",
        "valor = 25\n",
        "\n",
        "print(f\"O valor gasto para um raio circular de {area:.2f} metros é R${round(metro_total*valor, 2)}\")\n"
      ],
      "metadata": {
        "id": "2z0EBOG2ErB4",
        "colab": {
          "base_uri": "https://localhost:8080/"
        },
        "outputId": "5c4a7dad-fbbd-4e00-c5c8-090fc5ecdd38"
      },
      "execution_count": 105,
      "outputs": [
        {
          "output_type": "stream",
          "name": "stdout",
          "text": [
            "Digite o raio da área circular desejada: 10\n",
            "O valor gasto para um raio circular de 10.00 metros é R$7853.98\n"
          ]
        }
      ]
    },
    {
      "cell_type": "markdown",
      "source": [
        "# **Funções**"
      ],
      "metadata": {
        "id": "5vvuGN86bgEH"
      }
    },
    {
      "cell_type": "code",
      "source": [
        "\"\"\"\n",
        "1. Escreva um código que lê a lista abaixo e faça:\n",
        "lista = [16, 14, 63, 65, 17, 99, 70, 11, 20, 48, 79, 32, 17, 89, 12, 25, 66]\n",
        "- A leitura do tamanho da lista\n",
        "- A leitura do maior e menor valor\n",
        "- A soma dos valores da lista\n",
        "Ao final exiba uma mensagem dizendo:\n",
        "\"A lista possui [tam] números em que o maior número é [maior] e o menor número é [menor]. A soma dos valores presentes nela é igual a [soma]\"\n",
        "\"\"\"\n",
        "\n",
        "lista = [16, 14, 63, 65, 17, 99, 70, 11, 20, 48, 79, 32, 17, 89, 12, 25, 66]\n",
        "\n",
        "print(f\"A lista possui {len(lista)} números em que o maior número é {max(lista)} e o menor número é {min(lista)}. A soma dos valores presentes nela é igual a {sum(lista)}\")\n"
      ],
      "metadata": {
        "colab": {
          "base_uri": "https://localhost:8080/"
        },
        "id": "gF5ZH2QDblqf",
        "outputId": "57c12069-8f4b-422c-e3ae-015c1fdb8999"
      },
      "execution_count": 113,
      "outputs": [
        {
          "output_type": "stream",
          "name": "stdout",
          "text": [
            "A lista possui 17 números em que o maior número é 99 e o menor número é 11. A soma dos valores presentes nela é igual a 743\n"
          ]
        }
      ]
    },
    {
      "cell_type": "code",
      "source": [
        "\"\"\"\n",
        "2. Escreva uma função que gere a tabuada de um número inteiro de 1 a 10, de acordo com a escolha da pessoa usuária. Como exemplo, para o número 7, a tabuada deve ser mostrada no seguinte formato:\n",
        "Tabuada do 7:\n",
        "7 x 0 = 0\n",
        "7 x 1 = 7\n",
        "[...]\n",
        "7 x 10 = 70\n",
        "\"\"\"\n",
        "\n",
        "numero = int(input(\"Digite o número: \"))\n",
        "\n",
        "def tabuada(numero):\n",
        "  print(f\"\\nTabuada do {numero}:\")\n",
        "  for i in range(1, 11):\n",
        "    print(f\"{numero} x {i} = {numero*i}\")\n",
        "\n",
        "tabuada(numero)"
      ],
      "metadata": {
        "colab": {
          "base_uri": "https://localhost:8080/"
        },
        "id": "NjHdhkvkb2Oy",
        "outputId": "079ba91c-01bc-4403-c6fd-b31c1b3c55d8"
      },
      "execution_count": 121,
      "outputs": [
        {
          "output_type": "stream",
          "name": "stdout",
          "text": [
            "Digite o número: 10\n",
            "\n",
            "Tabuada do 10:\n",
            "10 x 1 = 10\n",
            "10 x 2 = 20\n",
            "10 x 3 = 30\n",
            "10 x 4 = 40\n",
            "10 x 5 = 50\n",
            "10 x 6 = 60\n",
            "10 x 7 = 70\n",
            "10 x 8 = 80\n",
            "10 x 9 = 90\n",
            "10 x 10 = 100\n"
          ]
        }
      ]
    },
    {
      "cell_type": "code",
      "source": [
        "\"\"\"\n",
        "3. Crie a função que leia a lista abaixo e retorne uma nova lista com os múltiplos de 3:\n",
        "[97, 80, 94, 88, 80, 1, 16, 53, 62, 32, 24, 99]\n",
        "Utilize o return na função e salve a nova lista na variável mult_3.\n",
        "\"\"\"\n",
        "\n",
        "lista = [97, 80, 94, 88, 80, 1, 16, 53, 62, 32, 24, 99]\n",
        "\n",
        "def mult_3 (lista):\n",
        "  verif_3 = []\n",
        "  for i in range(len(lista)):\n",
        "    if lista[i] % 3 == 0:\n",
        "      verif_3.append(lista[i])\n",
        "  return verif_3\n",
        "\n",
        "mult_3(lista)\n"
      ],
      "metadata": {
        "colab": {
          "base_uri": "https://localhost:8080/"
        },
        "id": "e444N5pAb2l9",
        "outputId": "cb16796d-6ece-4129-9556-bdddc0c80514"
      },
      "execution_count": 130,
      "outputs": [
        {
          "output_type": "execute_result",
          "data": {
            "text/plain": [
              "[24, 99]"
            ]
          },
          "metadata": {},
          "execution_count": 130
        }
      ]
    },
    {
      "cell_type": "code",
      "source": [
        "\"\"\"\n",
        "4. Crie uma lista dos quadrados dos números da seguinte lista [1, 2, 3, 4, 5, 6, 7, 8, 9, 10].\n",
        "Lembre-se de utilizar as funções lambda e map() para calcular o quadrado de cada elemento da lista.\n",
        "\"\"\"\n",
        "\n",
        "lista = [1, 2, 3, 4, 5, 6, 7, 8, 9, 10]\n",
        "\n",
        "from math import pow\n",
        "\n",
        "lista_quad = list(map(lambda x: pow(x, 2), lista))\n",
        "print(lista_quad)"
      ],
      "metadata": {
        "colab": {
          "base_uri": "https://localhost:8080/"
        },
        "id": "wKD6UzHjb26o",
        "outputId": "016e8334-0cb4-4aaa-e09d-9076a2ccd5f5"
      },
      "execution_count": 139,
      "outputs": [
        {
          "output_type": "stream",
          "name": "stdout",
          "text": [
            "[1.0, 4.0, 9.0, 16.0, 25.0, 36.0, 49.0, 64.0, 81.0, 100.0]\n"
          ]
        }
      ]
    },
    {
      "cell_type": "code",
      "source": [
        "\"\"\"\n",
        "5. Você foi contratado(a) como cientista de dados de uma associação de skate.\n",
        "Para analisar as notas recebidas de skatistas em algumas competições ao longo do ano,\n",
        "você precisa criar um código que calcula a pontuação dos(as) atletas.\n",
        "Para isso, o seu código deve receber 5 notas digitadas pelas pessoas juradas.\n",
        "\n",
        "Para calcular a pontuação de um(a) skatista, você precisa eliminar a maior e a menor pontuação dentre as 5 notas\n",
        "e tirar a média das 3 notas que sobraram. Retorne a média para apresentar o texto:\n",
        "\n",
        "\"Nota da manobra: [media]\"\n",
        "\"\"\"\n",
        "\n",
        "def media_manobra():\n",
        "  lista_notas = []\n",
        "  for i in range(5):\n",
        "    nota = float(input(f\"Nota da manobra {i+1}º Jurado: \"))\n",
        "    lista_notas.append(nota)\n",
        "  lista_notas.remove(max(lista_notas))\n",
        "  lista_notas.remove(min(lista_notas))\n",
        "  from statistics import mean\n",
        "  print(f\"\\nNota da manobra: {mean(lista_notas):.2f}\")\n",
        "\n",
        "media_manobra()"
      ],
      "metadata": {
        "colab": {
          "base_uri": "https://localhost:8080/"
        },
        "id": "aIk7rmHMb3Oo",
        "outputId": "ebba6c3f-47c5-449e-a439-973a8081965b"
      },
      "execution_count": 151,
      "outputs": [
        {
          "output_type": "stream",
          "name": "stdout",
          "text": [
            "Nota da manobra 1º Jurado: 7\n",
            "Nota da manobra 2º Jurado: 6\n",
            "Nota da manobra 3º Jurado: 9\n",
            "Nota da manobra 4º Jurado: 8\n",
            "Nota da manobra 5º Jurado: 6\n",
            "\n",
            "Nota da manobra: 7.00\n"
          ]
        }
      ]
    },
    {
      "cell_type": "code",
      "source": [
        "\"\"\"\n",
        "6. Para atender a uma demanda de uma instituição de ensino para a análise do desempenho de seus(suas) estudantes, você precisa criar uma função que receba uma lista de 4 notas e retorne:\n",
        "\n",
        "maior nota\n",
        "menor nota\n",
        "média\n",
        "situação (Aprovado(a) ou Reprovado(a))\n",
        "Para testar o comportamento da função, os dados podem ser exibidos em um texto:\n",
        "\"O(a) estudante obteve uma média de [media], com a sua maior nota de [maior] pontos e a menor nota de [menor] pontos e foi [situacao]\"\n",
        "\"\"\""
      ],
      "metadata": {
        "id": "wo53IxjXb3jH"
      },
      "execution_count": null,
      "outputs": []
    },
    {
      "cell_type": "code",
      "source": [
        "\"\"\"\n",
        "7. Você recebeu uma demanda para tratar 2 listas com os nomes e sobrenomes de cada estudante concatenando-as para apresentar seus nomes completos na forma Nome Sobrenome. As listas são:\n",
        "nomes = [\"joão\", \"MaRia\", \"JOSÉ\"]\n",
        "sobrenomes = [\"SILVA\", \"souza\", \"Tavares\"]\n",
        "O texto exibido ao fim deve ser parecido com:\n",
        "\"Nome completo: Ana Silva\"\n",
        "Dica: utilize a função map para mapear os nomes e sobrenomes e as funções de string para tratar o texto.\n",
        "\"\"\""
      ],
      "metadata": {
        "id": "bv3v5PDAb32F"
      },
      "execution_count": null,
      "outputs": []
    },
    {
      "cell_type": "code",
      "source": [
        "\"\"\"\n",
        "8. Como cientista de dados em um time de futebol, você precisa implementar novas formas de coleta de dados sobre o desempenho de jogadores e do time como um todo. Sua primeira ação é criar uma forma de calcular a pontuação do time no campeonato nacional a partir dos dados de gols marcados e sofridos em cada jogo.\n",
        "\n",
        "Escreva uma função chamada calcula_pontos que recebe como parâmetros duas listas de números inteiros, representando os gols marcados e sofridos pelo time em cada partida do campeonato. A função deve retornar a pontuação do time e o aproveitamento em percentual, levando em consideração que a vitória vale 3 pontos, o empate vale 1 ponto e a derrota 0 pontos.\n",
        "\n",
        "Observação: se a quantidade de gols marcados numa partida for maior que a de sofridos, o time venceu. Caso seja igual, o time empatou e se for menor, o time perdeu. Para calcular o aproveitamento devemos fazer a razão entre a pontuação do time pela pontuação máxima que ele poderia receber.\n",
        "\n",
        "Para teste, utilize as seguintes listas de gols marcados e sofridos:\n",
        "gols_marcados = [2, 1, 3, 1, 0]\n",
        "gols_sofridos = [1, 2, 2, 1, 3]\n",
        "Provável texto exibido:\n",
        "\"A pontuação do time foi de [pontos] e seu aproveitamento foi de [aprov]%\"\n",
        "\"\"\""
      ],
      "metadata": {
        "id": "6o61TzAcb4LR"
      },
      "execution_count": null,
      "outputs": []
    },
    {
      "cell_type": "code",
      "source": [
        "\"\"\"\n",
        "9. Você recebeu o desafio de criar um código que calcula os gastos de uma viagem para um das quatro cidades partindo de Recife, sendo elas: Salvador, Fortaleza, Natal e Aracaju.\n",
        "\n",
        "O custo da diária do hotel é de 150 reais em todas elas e o consumo de gasolina na viagem de carro é de 14 km/l, sendo que o valor da gasolina é de 5 reais o litro. O gastos com passeios e alimentação a se fazer em cada uma delas por dia seria de [200, 400, 250, 300], respectivamente.\n",
        "\n",
        "Sabendo que as distâncias entre Recife e cada uma das cidades é de aproximadamente [850, 800, 300, 550] km, crie três funções nas quais: a 1ª função calcule os gastos com hotel (gasto_hotel), a 2ª calcule os gastos com a gasolina (gasto_gasolina) e a 3ª os gastos com passeio e alimentação (gasto_passeio).\n",
        "\n",
        "Para testar, simule uma viagem de 3 dias para Salvador partindo de Recife. Considere a viagem de ida e volta de carro.\n",
        "\"Com base nos gastos definidos, uma viagem de [dias] dias para [cidade] saindo de Recife custaria [gastos] reais\"\n",
        "\"\"\""
      ],
      "metadata": {
        "id": "Ex9ODnDGb4e6"
      },
      "execution_count": null,
      "outputs": []
    },
    {
      "cell_type": "code",
      "source": [
        "\"\"\"\n",
        "10. Você iniciou um estágio em uma empresa que trabalha com processamento de linguagem natural (NLP). Sua líder requisitou que você criasse um trecho de código que recebe uma frase digitada pela pessoa usuária e filtre apenas as palavras com tamanho maior ou igual a 5, exibindo-as em uma lista. Essa demanda é voltada para a análise do padrão de comportamento de pessoas na escrita de palavras acima dessa quantidade de caracteres.\n",
        "\n",
        "Dica: utilize as funções lambda e filter() para filtrar essas palavras. Lembrando que a função embutida filter() recebe uma função (no nosso exemplo uma função lambda) e filtra um iterável de acordo com a função. Para tratar a frase use replace() para trocar a ',' '.', '!' e '?' por espaço.\n",
        "\n",
        "Use a frase \"Aprender Python aqui na Alura é muito bom\" para testar o código.\n",
        "\"\"\""
      ],
      "metadata": {
        "id": "ohNkH8z6b404"
      },
      "execution_count": null,
      "outputs": []
    }
  ]
}