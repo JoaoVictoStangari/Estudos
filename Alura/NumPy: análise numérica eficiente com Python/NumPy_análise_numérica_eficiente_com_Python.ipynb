{
  "nbformat": 4,
  "nbformat_minor": 0,
  "metadata": {
    "colab": {
      "provenance": [],
      "authorship_tag": "ABX9TyOix9I5qPo9d6tfNPUsUm2w",
      "include_colab_link": true
    },
    "kernelspec": {
      "name": "python3",
      "display_name": "Python 3"
    },
    "language_info": {
      "name": "python"
    }
  },
  "cells": [
    {
      "cell_type": "markdown",
      "metadata": {
        "id": "view-in-github",
        "colab_type": "text"
      },
      "source": [
        "<a href=\"https://colab.research.google.com/github/JoaoVictoStangari/Estudos/blob/main/Alura/NumPy%3A%20an%C3%A1lise%20num%C3%A9rica%20eficiente%20com%20Python/NumPy_an%C3%A1lise_num%C3%A9rica_eficiente_com_Python.ipynb\" target=\"_parent\"><img src=\"https://colab.research.google.com/assets/colab-badge.svg\" alt=\"Open In Colab\"/></a>"
      ]
    },
    {
      "cell_type": "markdown",
      "source": [
        "# **Conhecendo a biblioteca e nossos dados**"
      ],
      "metadata": {
        "id": "BTLOJASTUZrm"
      }
    },
    {
      "cell_type": "code",
      "execution_count": null,
      "metadata": {
        "id": "QNK7Ag5JUQGi"
      },
      "outputs": [],
      "source": []
    }
  ]
}