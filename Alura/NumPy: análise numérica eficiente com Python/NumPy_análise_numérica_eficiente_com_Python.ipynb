{
  "nbformat": 4,
  "nbformat_minor": 0,
  "metadata": {
    "colab": {
      "provenance": [],
      "authorship_tag": "ABX9TyMNmP9GeZRyQUjQJpanj9CO",
      "include_colab_link": true
    },
    "kernelspec": {
      "name": "python3",
      "display_name": "Python 3"
    },
    "language_info": {
      "name": "python"
    }
  },
  "cells": [
    {
      "cell_type": "markdown",
      "metadata": {
        "id": "view-in-github",
        "colab_type": "text"
      },
      "source": [
        "<a href=\"https://colab.research.google.com/github/JoaoVictoStangari/Estudos/blob/main/Alura/NumPy%3A%20an%C3%A1lise%20num%C3%A9rica%20eficiente%20com%20Python/NumPy_an%C3%A1lise_num%C3%A9rica_eficiente_com_Python.ipynb\" target=\"_parent\"><img src=\"https://colab.research.google.com/assets/colab-badge.svg\" alt=\"Open In Colab\"/></a>"
      ]
    },
    {
      "cell_type": "markdown",
      "source": [
        "# **Conhecendo a biblioteca e nossos dados**"
      ],
      "metadata": {
        "id": "BTLOJASTUZrm"
      }
    },
    {
      "cell_type": "code",
      "execution_count": 1,
      "metadata": {
        "id": "QNK7Ag5JUQGi"
      },
      "outputs": [],
      "source": [
        "import numpy as np"
      ]
    },
    {
      "cell_type": "code",
      "source": [
        "np.arange(1, 88, 1)\n",
        "  # cria um array pegando a posição 1 até a posição 87"
      ],
      "metadata": {
        "colab": {
          "base_uri": "https://localhost:8080/"
        },
        "id": "9ZcJWvgubz_P",
        "outputId": "e0dad7a8-41b7-441f-ed83-cf39aa0871d6"
      },
      "execution_count": 10,
      "outputs": [
        {
          "output_type": "execute_result",
          "data": {
            "text/plain": [
              "array([ 1,  2,  3,  4,  5,  6,  7,  8,  9, 10, 11, 12, 13, 14, 15, 16, 17,\n",
              "       18, 19, 20, 21, 22, 23, 24, 25, 26, 27, 28, 29, 30, 31, 32, 33, 34,\n",
              "       35, 36, 37, 38, 39, 40, 41, 42, 43, 44, 45, 46, 47, 48, 49, 50, 51,\n",
              "       52, 53, 54, 55, 56, 57, 58, 59, 60, 61, 62, 63, 64, 65, 66, 67, 68,\n",
              "       69, 70, 71, 72, 73, 74, 75, 76, 77, 78, 79, 80, 81, 82, 83, 84, 85,\n",
              "       86, 87])"
            ]
          },
          "metadata": {},
          "execution_count": 10
        }
      ]
    },
    {
      "cell_type": "code",
      "source": [
        "url = \"https://raw.githubusercontent.com/JoaoVictoStangari/Estudos/main/Alura/NumPy%3A%20an%C3%A1lise%20num%C3%A9rica%20eficiente%20com%20Python/apples_ts.csv\"\n",
        "\n",
        "dado = np.loadtxt(url, delimiter=\",\", usecols=np.arange(1, 88, 1))\n",
        "  # delimiter --> adicionar o delimitador do arquivo CSV\n",
        "  # usecols --> estipula qual os valores da base ira ser utilizado\n",
        "  # esta linha cria uma variável contendo várias listas de valores de acordo as linhas da base de dados"
      ],
      "metadata": {
        "id": "qDP347SpYe7L"
      },
      "execution_count": 11,
      "outputs": []
    },
    {
      "cell_type": "code",
      "source": [],
      "metadata": {
        "id": "Yj_BNyJzbnp_"
      },
      "execution_count": 8,
      "outputs": []
    }
  ]
}