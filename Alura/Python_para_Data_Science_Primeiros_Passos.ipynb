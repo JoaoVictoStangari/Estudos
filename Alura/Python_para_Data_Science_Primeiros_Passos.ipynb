{
  "nbformat": 4,
  "nbformat_minor": 0,
  "metadata": {
    "colab": {
      "provenance": [],
      "collapsed_sections": [
        "kUiEQiJEJX5E",
        "gkvN7y-AML9l"
      ],
      "authorship_tag": "ABX9TyPZowfzvsuQhnVryGVf1+F8",
      "include_colab_link": true
    },
    "kernelspec": {
      "name": "python3",
      "display_name": "Python 3"
    },
    "language_info": {
      "name": "python"
    }
  },
  "cells": [
    {
      "cell_type": "markdown",
      "metadata": {
        "id": "view-in-github",
        "colab_type": "text"
      },
      "source": [
        "<a href=\"https://colab.research.google.com/github/JoaoVictoStangari/Estudos/blob/main/Alura/Python_para_Data_Science_Primeiros_Passos.ipynb\" target=\"_parent\"><img src=\"https://colab.research.google.com/assets/colab-badge.svg\" alt=\"Open In Colab\"/></a>"
      ]
    },
    {
      "cell_type": "markdown",
      "source": [
        "# **Começando com Python**"
      ],
      "metadata": {
        "id": "kUiEQiJEJX5E"
      }
    },
    {
      "cell_type": "code",
      "execution_count": null,
      "metadata": {
        "colab": {
          "base_uri": "https://localhost:8080/"
        },
        "id": "Qe3oWge7IXn_",
        "outputId": "2e4deecd-2e87-4716-aea8-a69881467d10"
      },
      "outputs": [
        {
          "output_type": "stream",
          "name": "stdout",
          "text": [
            "Escola de Dados da Alura!\n"
          ]
        }
      ],
      "source": [
        "\"\"\"\n",
        "1 - Imprima a frase Escola de Dados da Alura!\n",
        "\"\"\"\n",
        "\n",
        "print(\"Escola de Dados da Alura!\")"
      ]
    },
    {
      "cell_type": "code",
      "source": [
        "\"\"\"\n",
        "2 - Imprima seu nome e seu sobrenome seguindo a estrutura abaixo:\n",
        "Nome: [seu nome]\n",
        "Sobrenome: [seu sobrenome]\n",
        "\"\"\"\n",
        "\n",
        "print(\"Nome: João Victor\")\n",
        "print(\"Sobrenome: Stangari Pompeo\")"
      ],
      "metadata": {
        "id": "l9ih_RnbJWml",
        "colab": {
          "base_uri": "https://localhost:8080/"
        },
        "outputId": "90b152e5-28b2-46e0-b7c6-ed3b2f971cfe"
      },
      "execution_count": null,
      "outputs": [
        {
          "output_type": "stream",
          "name": "stdout",
          "text": [
            "Nome: João Victor\n",
            "Sobrenome: Stangari Pompeo\n"
          ]
        }
      ]
    },
    {
      "cell_type": "code",
      "source": [
        "\"\"\"\n",
        "3 - Imprima o seu primeiro nome letra a letra. Por exemplo, meu nome é Mirla, então eu obtenho a seguinte saída:\n",
        "\n",
        "M\n",
        "I\n",
        "R\n",
        "L\n",
        "A\n",
        "\"\"\"\n",
        "\n",
        "print(\"J\")\n",
        "print(\"O\")\n",
        "print(\"A\")\n",
        "print(\"O\")\n",
        "print(\"\")\n",
        "print(\"V\")\n",
        "print(\"I\")\n",
        "print(\"C\")\n",
        "print(\"T\")\n",
        "print(\"O\")\n",
        "print(\"R\")"
      ],
      "metadata": {
        "colab": {
          "base_uri": "https://localhost:8080/"
        },
        "id": "AL-jul60EreP",
        "outputId": "f84521fa-e882-4a41-df3e-cad58bde93a9"
      },
      "execution_count": null,
      "outputs": [
        {
          "output_type": "stream",
          "name": "stdout",
          "text": [
            "J\n",
            "O\n",
            "A\n",
            "O\n",
            "\n",
            "V\n",
            "I\n",
            "C\n",
            "T\n",
            "O\n",
            "R\n"
          ]
        }
      ]
    },
    {
      "cell_type": "code",
      "source": [
        "\"\"\"\n",
        "4 - Imprima o dia do seu nascimento em formato dia mês ano. Lembrando que os valores de dia e ano não podem estar entre aspas.\n",
        "Supondo uma data de aniversário dia 28 de fevereiro de 2003, o formato deve estar como no exemplo abaixo:\n",
        "28 fevereiro 2003\n",
        "\"\"\"\n",
        "\n",
        "print(18, \"Maio\", 1997)"
      ],
      "metadata": {
        "colab": {
          "base_uri": "https://localhost:8080/"
        },
        "id": "AonznEtnFHvx",
        "outputId": "57185f1b-b245-4ed1-8af1-7ae9d10c0863"
      },
      "execution_count": null,
      "outputs": [
        {
          "output_type": "stream",
          "name": "stdout",
          "text": [
            "18 Maio 1997\n"
          ]
        }
      ]
    },
    {
      "cell_type": "code",
      "source": [
        "\"\"\"\n",
        "Imprima, em um único print, o atual ano que você está fazendo esse curso.\n",
        "O valor do ano deve ser um dado numérico e a saída do print deve ser a seguinte:\n",
        "Ano atual: [ano]\n",
        "\"\"\"\n",
        "\n",
        "print(\"Ano atual:\", 2024)"
      ],
      "metadata": {
        "colab": {
          "base_uri": "https://localhost:8080/"
        },
        "id": "3eGu2_uqLn8q",
        "outputId": "826aea62-2387-4b9b-8ff5-37dc535a0898"
      },
      "execution_count": null,
      "outputs": [
        {
          "output_type": "stream",
          "name": "stdout",
          "text": [
            "Ano atual: 2024\n"
          ]
        }
      ]
    },
    {
      "cell_type": "markdown",
      "source": [
        "# **Manipulando dados no Python**"
      ],
      "metadata": {
        "id": "gkvN7y-AML9l"
      }
    },
    {
      "cell_type": "markdown",
      "source": [
        "## *Coleta e Amostragem de dados*"
      ],
      "metadata": {
        "id": "1BXBjuXzOWmE"
      }
    },
    {
      "cell_type": "code",
      "source": [
        "\"\"\"\n",
        "1 - Crie um programa que solicite à pessoa usuária digitar seu nome, e imprima “Olá, [nome]!”.\n",
        "\"\"\"\n",
        "\n",
        "nome = input(\"Qual seu nome? \\n\")\n",
        "print(f\"Olá, {nome}.\")"
      ],
      "metadata": {
        "colab": {
          "base_uri": "https://localhost:8080/"
        },
        "id": "O8xRCbKUMfSH",
        "outputId": "2d01b242-e0b8-48aa-dcfb-2f557b7d8ee5"
      },
      "execution_count": null,
      "outputs": [
        {
          "output_type": "stream",
          "name": "stdout",
          "text": [
            "Qual seu nome? \n",
            "João\n",
            "Olá, João.\n"
          ]
        }
      ]
    },
    {
      "cell_type": "code",
      "source": [
        "\"\"\"\n",
        "2 - Crie um programa que solicite à pessoa usuária digitar seu nome e idade, e imprima “Olá, [nome], você tem [idade] anos.”.\n",
        "\"\"\"\n",
        "\n",
        "nome = input(\"Qual seu nome? \\n\")\n",
        "idade = input(\"Quantos anos você tem? \\n\")\n",
        "\n",
        "print(f\"Olá, {nome}, você tem {idade} anos.\")"
      ],
      "metadata": {
        "colab": {
          "base_uri": "https://localhost:8080/"
        },
        "id": "xZ2mfKQkNMpz",
        "outputId": "571e0d16-7102-406b-d51f-e9648a8bee7b"
      },
      "execution_count": null,
      "outputs": [
        {
          "output_type": "stream",
          "name": "stdout",
          "text": [
            "Qual seu nome? \n",
            "João\n",
            "Quantos anos você tem? \n",
            "25\n",
            "Olá, João, você tem 25 anos.\n"
          ]
        }
      ]
    },
    {
      "cell_type": "code",
      "source": [
        "\"\"\"\n",
        "3 - Crie um programa que solicite à pessoa usuária digitar seu nome, idade e altura em metros, e imprima\n",
        "“Olá, [nome], você tem [idade] anos e mede [altura] metros!”.\n",
        "\"\"\"\n",
        "\n",
        "nome = input(\"Qual seu nome? \\n\")\n",
        "idade = input(\"Quantos anos você tem? \\n\")\n",
        "altura = input(\"Qual sua altura? \\n\")\n",
        "\n",
        "print(f\"Olá, {nome}, você tem {idade} anos e mede {altura} metros!\")"
      ],
      "metadata": {
        "colab": {
          "base_uri": "https://localhost:8080/"
        },
        "id": "rZTkRK0oNnPn",
        "outputId": "8c584dfd-c2f7-4443-da11-2a3d44a4a165"
      },
      "execution_count": null,
      "outputs": [
        {
          "output_type": "stream",
          "name": "stdout",
          "text": [
            "Qual seu nome? \n",
            "João\n",
            "Quantos anos você tem? \n",
            "25\n",
            "Qual sua altura? \n",
            "1,54\n",
            "Olá, João, você tem 25 anos e mede 1,54 metros!\n"
          ]
        }
      ]
    },
    {
      "cell_type": "markdown",
      "source": [
        "## *Calculadora com operadores*"
      ],
      "metadata": {
        "id": "yNP7L86vOeLK"
      }
    },
    {
      "cell_type": "code",
      "source": [
        "\"\"\"\n",
        "1 - Crie um programa que solicite dois valores numéricos à pessoa usuária e imprima a soma dos dois valores.\n",
        "\"\"\"\n",
        "print(\"SOMA ENTRE NÚMEROS:\")\n",
        "numero1 = int(input(\"Digite um número: \\n\"))\n",
        "numero2 = int(input(\"Digte outro número: \\n\"))\n",
        "\n",
        "print(f'A soma entre os número {numero1} + {numero2} = {numero1 + numero2}')"
      ],
      "metadata": {
        "colab": {
          "base_uri": "https://localhost:8080/"
        },
        "id": "9bNikjLCOMZa",
        "outputId": "428526e4-a66f-4ca9-8220-63529346183d"
      },
      "execution_count": null,
      "outputs": [
        {
          "output_type": "stream",
          "name": "stdout",
          "text": [
            "Digite um número: \n",
            "5\n",
            "Digte outro número: \n",
            "19\n",
            "A soma entre os número 5 + 19 = 24\n"
          ]
        }
      ]
    },
    {
      "cell_type": "code",
      "source": [
        "\"\"\"\n",
        "2- Crie um programa que solicite três valores numéricos à pessoa usuária e imprima a soma dos três valores.\n",
        "\"\"\"\n",
        "\n",
        "print(\"SOMA ENTRE NÚMEROS:\")\n",
        "numero1 = int(input(\"Digite o 1º número: \"))\n",
        "numero2 = int(input(\"Digite o 2º número: \"))\n",
        "numero3 = int(input(\"Digite o 3º número: \"))\n",
        "\n",
        "print(f'A soma entre os número {numero1} + {numero2} + {numero3} = {numero1 + numero2 + numero3}')"
      ],
      "metadata": {
        "colab": {
          "base_uri": "https://localhost:8080/"
        },
        "id": "uCRt1THdQBP1",
        "outputId": "5df7749d-1afd-49e8-f830-3ef179f3ea74"
      },
      "execution_count": null,
      "outputs": [
        {
          "output_type": "stream",
          "name": "stdout",
          "text": [
            "Digite o 1º número: 10\n",
            "Digite o 2º número: 10\n",
            "Digite o 3º número: 10\n",
            "A soma entre os número 10 + 10 + 10 = 30\n"
          ]
        }
      ]
    },
    {
      "cell_type": "code",
      "source": [
        "\"\"\"\n",
        "3 - Crie um programa que solicite dois valores numéricos à pessoa usuária e imprima a subtração do primeiro pelo o segundo valor.\n",
        "\"\"\"\n",
        "\n",
        "print(\"SUBTRAÇÃO ENTRE 2 NÚMEROS:\")\n",
        "numero1 = int(input(\"Digite um número: \\n\"))\n",
        "numero2 = int(input(\"Digte outro número: \\n\"))\n",
        "\n",
        "print(f'A subtração entre os número {numero1} - {numero2} = {numero1 - numero2}')"
      ],
      "metadata": {
        "colab": {
          "base_uri": "https://localhost:8080/"
        },
        "id": "FkSa4dmwQjjH",
        "outputId": "c6bd3347-6976-4587-d5b8-485432576fb8"
      },
      "execution_count": null,
      "outputs": [
        {
          "output_type": "stream",
          "name": "stdout",
          "text": [
            "SUBTRAÇÃO ENTRE 2 NÚMEROS:\n",
            "Digite um número: \n",
            "10\n",
            "Digte outro número: \n",
            "5\n",
            "A subtração entre os número 10 - 5 = 5\n"
          ]
        }
      ]
    },
    {
      "cell_type": "code",
      "source": [
        "\"\"\"\n",
        "4 - Crie um programa que solicite dois valores numéricos à pessoa usuária e imprima a multiplicação dos dois valores.\n",
        "\"\"\"\n",
        "\n",
        "print(\"MULTIPLICAÇÃO ENTRE NÚMEROS:\")\n",
        "numero1 = int(input(\"Digite um número: \\n\"))\n",
        "numero2 = int(input(\"Digte outro número: \\n\"))\n",
        "\n",
        "print(f'A multiplicação entre os número {numero1} x {numero2} = {numero1 * numero2}')"
      ],
      "metadata": {
        "colab": {
          "base_uri": "https://localhost:8080/"
        },
        "id": "0L2dS_nZRRX_",
        "outputId": "06c38e77-0262-4f11-fc7d-e8c7f8b4de88"
      },
      "execution_count": null,
      "outputs": [
        {
          "output_type": "stream",
          "name": "stdout",
          "text": [
            "MULTIPLICAÇÃO ENTRE NÚMEROS:\n",
            "Digite um número: \n",
            "5\n",
            "Digte outro número: \n",
            "10\n",
            "A multiplicação entre os número 5 x 10 = 50\n"
          ]
        }
      ]
    },
    {
      "cell_type": "code",
      "source": [
        "\"\"\"\n",
        "5- Crie um programa que solicite dois valores numéricos, um numerador e um denominador, e realize a divisão entre os dois valores.\n",
        "Deixe claro que o valor do denominador não pode ser 0\n",
        "\"\"\"\n",
        "\n",
        "print(\"DIVISÃO ENTRE NÚMEROS:\")\n",
        "numero1 = int(input(\"Digite um número: \\n\"))\n",
        "numero2 = int(input(\"Digite outro número: \\nOBS: PRECISA SER MAIOR QUE ZERO\\n\"))\n",
        "\n",
        "print(f'A divisão entre os número {numero1} / {numero2} = {numero1 / numero2}')"
      ],
      "metadata": {
        "colab": {
          "base_uri": "https://localhost:8080/"
        },
        "id": "vYxb0CaLRvEF",
        "outputId": "4822d6bf-599c-485f-8c9b-1daa5f866e00"
      },
      "execution_count": null,
      "outputs": [
        {
          "output_type": "stream",
          "name": "stdout",
          "text": [
            "DIVISÃO ENTRE NÚMEROS:\n",
            "Digite um número: \n",
            "10\n",
            "Digite outro número: \n",
            "OBS: PRECISA SER MAIOR QUE ZERO\n",
            "2\n",
            "A subtração entre os número 10 / 2 = 5.0\n"
          ]
        }
      ]
    },
    {
      "cell_type": "code",
      "source": [
        "\"\"\"\n",
        "6 - Crie um programa que solicite dois valores numéricos, um operador e uma potência, e realize a exponenciação entre esses dois valores.\n",
        "\"\"\"\n",
        "\n",
        "print(\"EXPONENCIAÇÃO ENTRE NÚMEROS:\")\n",
        "numero1 = int(input(\"Digite um número: \\n\"))\n",
        "numero2 = int(input(\"Digte outro número: \\n\"))\n",
        "\n",
        "print(f'A exponenciação entre os número {numero1} ^ {numero2} = {numero1 ** numero2}')"
      ],
      "metadata": {
        "colab": {
          "base_uri": "https://localhost:8080/"
        },
        "id": "rJIRWOsLS3Yk",
        "outputId": "557bb628-c3d4-49e4-a38b-55a1fd68965c"
      },
      "execution_count": null,
      "outputs": [
        {
          "output_type": "stream",
          "name": "stdout",
          "text": [
            "EXPONENCIAÇÃO ENTRE NÚMEROS:\n",
            "Digite um número: \n",
            "2\n",
            "Digte outro número: \n",
            "4\n",
            "A exponenciação entre os número 2 ^ 4 = 16\n"
          ]
        }
      ]
    },
    {
      "cell_type": "code",
      "source": [
        "\"\"\"\n",
        "7 - Crie um programa que solicite dois valores numéricos, um numerador e um denominador e realize a divisão inteira entre os dois valores.\n",
        "Deixe claro que o valor do denominador não pode ser 0.\n",
        "\"\"\"\n",
        "\n",
        "print(\"DIVISÃO INTEIRA ENTRE NÚMEROS:\")\n",
        "numero1 = int(input(\"Digite um número: \\n\"))\n",
        "numero2 = int(input(\"Digite outro número: \\nOBS: PRECISA SER MAIOR QUE ZERO\\n\"))\n",
        "\n",
        "print(f'A divisão inteira entre os número {numero1} / {numero2} = {numero1 // numero2}')"
      ],
      "metadata": {
        "colab": {
          "base_uri": "https://localhost:8080/"
        },
        "id": "APRACZLcTgsV",
        "outputId": "d091c060-d361-44a8-f191-fe29d4808c6d"
      },
      "execution_count": null,
      "outputs": [
        {
          "output_type": "stream",
          "name": "stdout",
          "text": [
            "DIVISÃO INTEIRA ENTRE NÚMEROS:\n",
            "Digite um número: \n",
            "10\n",
            "Digite outro número: \n",
            "OBS: PRECISA SER MAIOR QUE ZERO\n",
            "3\n",
            "A subtração entre os número 10 / 3 = 3\n"
          ]
        }
      ]
    },
    {
      "cell_type": "code",
      "source": [
        "\"\"\"\n",
        "8 - Crie um programa que solicite dois valores numéricos, um numerador e um denominador, e retorne o resto da divisão entre os dois valores.\n",
        "Deixe claro que o valor do denominador não pode ser 0.\n",
        "\"\"\"\n",
        "\n",
        "print(\"RESTO DA DIVISÃO ENTRE NÚMEROS:\")\n",
        "numero1 = int(input(\"Digite um número: \\n\"))\n",
        "numero2 = int(input(\"Digite outro número: \\nOBS: PRECISA SER MAIOR QUE ZERO\\n\"))\n",
        "\n",
        "print(f'O resto da divisão entre os número {numero1} e {numero2} = {numero1 % numero2}')"
      ],
      "metadata": {
        "colab": {
          "base_uri": "https://localhost:8080/"
        },
        "id": "tik3Bi6OT7ll",
        "outputId": "b526cd0e-068a-4b60-a9f2-0c44326a152c"
      },
      "execution_count": null,
      "outputs": [
        {
          "output_type": "stream",
          "name": "stdout",
          "text": [
            "RESTO DA DIVISÃO ENTRE NÚMEROS:\n",
            "Digite um número: \n",
            "10\n",
            "Digite outro número: \n",
            "OBS: PRECISA SER MAIOR QUE ZERO\n",
            "3\n",
            "O resto da divisão entre os número 10 e 3 = 1\n"
          ]
        }
      ]
    },
    {
      "cell_type": "code",
      "source": [
        "\"\"\"\n",
        "9 - Crie um código que solicita 3 notas de um estudante e imprima a média das notas.\n",
        "\"\"\"\n",
        "\n",
        "print('NOTAS ESCOLARES')\n",
        "nota1 = float(input(\"Digite a 1º nota: \"))\n",
        "nota2 = float(input(\"Digite a 2º nota: \"))\n",
        "nota3 = float(input(\"Digite a 3º nota: \"))\n",
        "media = (nota1 + nota2 + nota3) / 3\n",
        "\n",
        "print(f\"A média das notas é: {round(media,2)}\")"
      ],
      "metadata": {
        "colab": {
          "base_uri": "https://localhost:8080/"
        },
        "id": "TJyclZ99UfmI",
        "outputId": "414cf3fa-f0f1-4519-fc84-9c9f7db9379a"
      },
      "execution_count": null,
      "outputs": [
        {
          "output_type": "stream",
          "name": "stdout",
          "text": [
            "NOTAS ESCOLARES\n",
            "Digite a 1º nota: 10\n",
            "Digite a 2º nota: 9\n",
            "Digite a 3º nota: 7\n",
            "A média das notas é: 8.67\n"
          ]
        }
      ]
    },
    {
      "cell_type": "code",
      "source": [
        "\"\"\"\n",
        "10 - Crie um código que calcule e imprima a média ponderada dos números 5, 12, 20 e 15 com pesos respectivamente iguais a 1, 2, 3 e 4.\n",
        "\"\"\"\n",
        "\n",
        "print(\"A média ponderada entre os números\")\n",
        "print(\"5x1 + 12x2 + 20x3 + 15x4\")\n",
        "print(f'= {(5*1 + 12*2 + 20*3 + 15*4) / (1+2+3+4)}')"
      ],
      "metadata": {
        "colab": {
          "base_uri": "https://localhost:8080/"
        },
        "id": "vcB2fYxwYchn",
        "outputId": "a07eeda8-e1de-4d95-f6d7-9549c3352d38"
      },
      "execution_count": null,
      "outputs": [
        {
          "output_type": "stream",
          "name": "stdout",
          "text": [
            "A média ponderada entre os números\n",
            "5x1 + 12x2 + 20x3 + 15x4\n",
            "= 14.9\n"
          ]
        }
      ]
    },
    {
      "cell_type": "markdown",
      "source": [
        "## *Editando textos*"
      ],
      "metadata": {
        "id": "bfpfEBKJaIAo"
      }
    },
    {
      "cell_type": "code",
      "source": [
        "\"\"\"\n",
        "1 - Crie uma variável chamada “frase” e atribua a ela uma string de sua escolha. Em seguida, imprima a frase na tela.\n",
        "\"\"\"\n",
        "\n",
        "frase = \"Olá Mundo!\"\n",
        "\n",
        "print(frase)"
      ],
      "metadata": {
        "colab": {
          "base_uri": "https://localhost:8080/"
        },
        "id": "7M_L2e6baQT5",
        "outputId": "ec59459b-938f-4d5d-827a-3ee5c41c5586"
      },
      "execution_count": null,
      "outputs": [
        {
          "output_type": "stream",
          "name": "stdout",
          "text": [
            "Olá Mundo!\n"
          ]
        }
      ]
    },
    {
      "cell_type": "code",
      "source": [
        "\"\"\"\n",
        "2 - Crie um código que solicite uma frase e depois imprima a frase na tela.\n",
        "\"\"\"\n",
        "\n",
        "frase = input(\"Digite uma frase:\\n\")\n",
        "\n",
        "print(frase)"
      ],
      "metadata": {
        "colab": {
          "base_uri": "https://localhost:8080/"
        },
        "id": "n4y51GobajCq",
        "outputId": "b4bb12ac-8bce-4d38-86d0-093b50564921"
      },
      "execution_count": null,
      "outputs": [
        {
          "output_type": "stream",
          "name": "stdout",
          "text": [
            "Digite uma frase:\n",
            "Olá mundo!\n",
            "Olá mundo!\n"
          ]
        }
      ]
    },
    {
      "cell_type": "code",
      "source": [
        "\"\"\"\n",
        "3 - Crie um código que solicite uma frase à pessoa usuária e imprima a mesma frase digitada mas com todas as letras maiúsculas.\n",
        "\"\"\"\n",
        "\n",
        "frase = input(\"Digite uma frase:\\n\").upper()\n",
        "\n",
        "print(frase)"
      ],
      "metadata": {
        "colab": {
          "base_uri": "https://localhost:8080/"
        },
        "id": "PMceTxUAa00g",
        "outputId": "e67a954a-9859-42dc-e082-b99ebe04bb20"
      },
      "execution_count": null,
      "outputs": [
        {
          "output_type": "stream",
          "name": "stdout",
          "text": [
            "Digite uma frase:\n",
            "Olá Mundo!\n",
            "OLÁ MUNDO!\n"
          ]
        }
      ]
    },
    {
      "cell_type": "code",
      "source": [
        "\"\"\"\n",
        "4 - Crie um código que solicite uma frase à pessoa usuária e imprima a mesma frase digitada mas com todas as letras minúsculas.\n",
        "\"\"\"\n",
        "\n",
        "frase = input(\"Digite uma frase:\\n\").lower()\n",
        "\n",
        "print(frase)"
      ],
      "metadata": {
        "colab": {
          "base_uri": "https://localhost:8080/"
        },
        "id": "RsKlEA8SbBHq",
        "outputId": "60e9cb9c-bd65-45f7-9262-4504cc6ecbef"
      },
      "execution_count": null,
      "outputs": [
        {
          "output_type": "stream",
          "name": "stdout",
          "text": [
            "Digite uma frase:\n",
            "Olá Mundo!\n",
            "olá mundo!\n"
          ]
        }
      ]
    },
    {
      "cell_type": "code",
      "source": [
        "\"\"\"\n",
        "5 - Crie uma variável chamada “frase” e atribua a ela uma string de sua escolha. Em seguida, imprima a frase sem espaços em branco no início e no fim.\n",
        "\"\"\"\n",
        "\n",
        "frase = \"      OLÁ MUNDO!     \"\n",
        "\n",
        "print(frase)\n",
        "print(frase.strip())"
      ],
      "metadata": {
        "colab": {
          "base_uri": "https://localhost:8080/"
        },
        "id": "lU8ViUb5bIEP",
        "outputId": "5d02a84f-0ed2-41d9-f968-d6bca5a52be2"
      },
      "execution_count": null,
      "outputs": [
        {
          "output_type": "stream",
          "name": "stdout",
          "text": [
            "      OLÁ MUNDO!     \n",
            "OLÁ MUNDO!\n"
          ]
        }
      ]
    },
    {
      "cell_type": "code",
      "source": [
        "\"\"\"\n",
        "6 - Crie um código que solicite uma frase à pessoa usuária e imprima a mesma frase sem espaços em branco no início e no fim.\n",
        "\"\"\"\n",
        "\n",
        "frase = input(\"Digite uma frase:\\n\").strip()\n",
        "\n",
        "print(frase)"
      ],
      "metadata": {
        "colab": {
          "base_uri": "https://localhost:8080/"
        },
        "id": "h5hEkzkbbg-9",
        "outputId": "7f945c17-040b-43ad-ea29-0593fde84dd4"
      },
      "execution_count": null,
      "outputs": [
        {
          "output_type": "stream",
          "name": "stdout",
          "text": [
            "Digite uma frase:\n",
            "              OLÁ MUNDO!             \n",
            "OLÁ MUNDO!\n"
          ]
        }
      ]
    },
    {
      "cell_type": "code",
      "source": [
        "\"\"\"\n",
        "7 - Crie um código que solicite uma frase à pessoa usuária e imprima a mesma frase sem espaços em branco no início e no fim e em letras minúsculas.\n",
        "\"\"\"\n",
        "\n",
        "frase = input(\"Digite uma frase:\\n\").strip().lower()\n",
        "\n",
        "print(frase)"
      ],
      "metadata": {
        "colab": {
          "base_uri": "https://localhost:8080/"
        },
        "id": "ll9rkE7ScGBz",
        "outputId": "d4574545-0fc4-4ddc-d446-231623cffda8"
      },
      "execution_count": null,
      "outputs": [
        {
          "output_type": "stream",
          "name": "stdout",
          "text": [
            "Digite uma frase:\n",
            "             OLÁ, MUNDO!           \n",
            "olá, mundo!\n"
          ]
        }
      ]
    },
    {
      "cell_type": "code",
      "source": [
        "\"\"\"\n",
        "8 - Crie um código que solicite uma frase à pessoa usuária e imprima a mesma frase com todas as vogais “e” trocadas pela letra “f”.\n",
        "\"\"\"\n",
        "\n",
        "frase = input(\"Digite uma frase:\\n\").replace(\"e\", \"f\")\n",
        "\n",
        "print(frase)"
      ],
      "metadata": {
        "colab": {
          "base_uri": "https://localhost:8080/"
        },
        "id": "0ZrHw1PAcTmu",
        "outputId": "93b242c2-d068-4cdd-f436-29976ab413e8"
      },
      "execution_count": null,
      "outputs": [
        {
          "output_type": "stream",
          "name": "stdout",
          "text": [
            "Digite uma frase:\n",
            "Ele é uma pessoa boa.\n",
            "Elf é uma pfssoa boa.\n"
          ]
        }
      ]
    },
    {
      "cell_type": "code",
      "source": [
        "\"\"\"\n",
        "9 - Crie um código que solicite uma frase à pessoa usuária e imprima a mesma frase com todas as vogais “a” trocadas pela caractere “@”.\n",
        "\"\"\"\n",
        "\n",
        "frase = input(\"Digite uma frase:\\n\").replace(\"a\", chr(64))\n",
        "\n",
        "print(frase)"
      ],
      "metadata": {
        "colab": {
          "base_uri": "https://localhost:8080/"
        },
        "id": "1vLCghUgcz6d",
        "outputId": "b28899ed-c85e-4e8c-b551-cfcfa2058bcf"
      },
      "execution_count": null,
      "outputs": [
        {
          "output_type": "stream",
          "name": "stdout",
          "text": [
            "Digite uma frase:\n",
            "Ele é uma pessoa muito boa.\n",
            "Ele é um@ pesso@ muito bo@.\n"
          ]
        }
      ]
    },
    {
      "cell_type": "code",
      "source": [
        "\"\"\"\n",
        "10 - Crie um código que solicite uma frase à pessoa usuária e imprima a mesma frase com todas as consoantes “s” trocadas pelo caractere “$”.\n",
        "\"\"\"\n",
        "\n",
        "frase = input(\"Digite uma frase:\\n\").replace(\"s\", chr(36))\n",
        "\n",
        "print(frase)"
      ],
      "metadata": {
        "colab": {
          "base_uri": "https://localhost:8080/"
        },
        "id": "jpB5_JlMdLgl",
        "outputId": "137c5769-5fe8-4a4e-dc95-cdca36698020"
      },
      "execution_count": null,
      "outputs": [
        {
          "output_type": "stream",
          "name": "stdout",
          "text": [
            "Digite uma frase:\n",
            "Ele é uma pessoa muito boa.\n",
            "Ele é uma pe$$oa muito boa.\n"
          ]
        }
      ]
    },
    {
      "cell_type": "markdown",
      "source": [
        "# **Estruturas Condicionais**"
      ],
      "metadata": {
        "id": "fPo67SD2d9SH"
      }
    },
    {
      "cell_type": "code",
      "source": [
        "\"\"\"\n",
        "1) Escreva um programa que peça à pessoa usuária para fornecer dois números e exibir o número maior.\n",
        "\"\"\"\n",
        "\n",
        "numero1 = int(input(\"Digite um número: \"))\n",
        "numero2 = int(input(\"Digite outro número: \"))\n",
        "\n",
        "if numero1>numero2:\n",
        "  print(f\"{numero1} é maior que {numero2}.\")\n",
        "elif numero1 == numero2:\n",
        "  print(\"Os números digitados são iguais.\")\n",
        "else:\n",
        "  print(f\"{numero2} é maior que {numero1}.\")"
      ],
      "metadata": {
        "colab": {
          "base_uri": "https://localhost:8080/"
        },
        "id": "1y5_fqOYeKGH",
        "outputId": "5746a4a5-b4ff-4dc0-c6b9-3667feeb9c12"
      },
      "execution_count": null,
      "outputs": [
        {
          "output_type": "stream",
          "name": "stdout",
          "text": [
            "Digite um número: 10\n",
            "Digite outro número: 10\n",
            "Os números digitados são iguais.\n"
          ]
        }
      ]
    },
    {
      "cell_type": "code",
      "source": [
        "\"\"\"\n",
        "2) Escreva um programa que solicite o percentual de crescimento de produção de uma empresa\n",
        "e informe se houve um crescimento (porcentagem positiva) ou decrescimento (porcentagem negativa).\n",
        "\"\"\"\n",
        "\n",
        "porcentagem = float(input(\"Qual a porcentagem de crescimento deste ano?\\n\"))\n",
        "\n",
        "if porcentagem>0:\n",
        "  print(f\"O crescimento obtido foi positivo: {porcentagem:.2f}%\")\n",
        "elif porcentagem==0:\n",
        "  print(\"Não houve porcentagem positiva ou negativa.\")\n",
        "else:\n",
        "    print(f\"O crescimento obtido foi negativo: {porcentagem:.2f}%\")"
      ],
      "metadata": {
        "colab": {
          "base_uri": "https://localhost:8080/"
        },
        "id": "Wtj08wlspGIA",
        "outputId": "0a161cfe-2afb-4d98-b38d-a87cd125d73d"
      },
      "execution_count": null,
      "outputs": [
        {
          "output_type": "stream",
          "name": "stdout",
          "text": [
            "Qual a porcentagem de crescimento deste ano?\n",
            "0\n",
            "Não houve porcentagem positiva ou negativa.\n"
          ]
        }
      ]
    },
    {
      "cell_type": "code",
      "source": [
        "\"\"\"\n",
        "3) Escreva um programa que determine se uma letra fornecida pela pessoa usuária é uma vogal ou consoante.\n",
        "\"\"\"\n",
        "\n",
        "letra = input(\"Digite uma letra: \").upper()\n",
        "\n",
        "if letra in {\"A\", \"E\", \"I\", \"O\", \"U\"}:\n",
        "  print(f\"A letra {letra} é uma vogal!\")\n",
        "else:\n",
        "  print(f\"A letra {letra} é uma consoante!\")"
      ],
      "metadata": {
        "colab": {
          "base_uri": "https://localhost:8080/"
        },
        "id": "bhOBBq3fE6W2",
        "outputId": "59038410-ddca-4721-9e2e-c37db630e954"
      },
      "execution_count": null,
      "outputs": [
        {
          "output_type": "stream",
          "name": "stdout",
          "text": [
            "Digite uma letra: A\n",
            "A letra A é uma vogal!\n"
          ]
        }
      ]
    },
    {
      "cell_type": "code",
      "source": [
        "\"\"\"\n",
        "4) Escreva um programa que leia valores médios de preços de um modelo de carro por 3 anos consecutivos\n",
        "e exiba o valor mais alto e mais baixo entre esses três anos.\n",
        "\"\"\"\n",
        "\n",
        "valor1 = float(input(\"Digite o valor do 1º ano: R$\"))\n",
        "valor2 = float(input(\"Digite o valor do 2º ano: R$\"))\n",
        "valor3 = float(input(\"Digite o valor do 3º ano: R$\"))\n",
        "\n",
        "if valor1 > valor2 and valor2 > valor3:\n",
        "  print(f\"\\nO 1º ano é o valor mais alto: R${valor1:.2f}\\n\"\n",
        "  f\"E o 3º ano é o valor mais baixo: R${valor3:.2f}\")\n",
        "elif valor1 > valor2 and valor1 > valor3 and valor2 < valor3:\n",
        "  print(f\"\\nO 1º ano é o valor mais alto: R${valor1:.2f}\\n\"\n",
        "  f\"E o 2º ano é o valor mais baixo: R${valor2:.2f}\")\n",
        "elif valor1 < valor2 and valor1 < valor3 and valor2 > valor3:\n",
        "  print(f\"\\nO 2º ano é o valor mais alto: R${valor2:.2f}\\n\"\n",
        "  f\"E o 1º ano é o valor mais baixo: R${valor1:.2f}\")\n",
        "elif valor1 < valor2 and valor1 > valor3:\n",
        "  print(f\"\\nO 2º ano é o valor mais alto: R${valor2:.2f}\\n\"\n",
        "  f\"E o 3º ano é o valor mais baixo: R${valor3:.2f}\")\n",
        "elif valor1 < valor2 and valor2 < valor3:\n",
        "  print(f\"\\nO 3º ano é o valor mais alto: R${valor3:.2f}\\n\"\n",
        "  f\"E o 1º ano é o valor mais baixo: R${valor1:.2f}\")\n",
        "else:\n",
        "  print(f\"\\nO 3º ano é o valor mais alto: R${valor3:.2f}\\n\"\n",
        "  f\"E o 2º ano é o valor mais baixo: R${valor1:.2f}\")\n"
      ],
      "metadata": {
        "colab": {
          "base_uri": "https://localhost:8080/"
        },
        "id": "E0Gl4gDSF5Ms",
        "outputId": "cbc60a1f-a709-43a8-ff4d-ffb456e3a7d4"
      },
      "execution_count": null,
      "outputs": [
        {
          "output_type": "stream",
          "name": "stdout",
          "text": [
            "Digite o valor do 1º ano: R$20\n",
            "Digite o valor do 2º ano: R$10\n",
            "Digite o valor do 3º ano: R$30\n",
            "\n",
            "O 3º ano é o valor mais alto: R$30.00\n",
            "E o 2º ano é o valor mais baixo: R$20.00\n"
          ]
        }
      ]
    },
    {
      "cell_type": "code",
      "source": [
        "\"\"\"\n",
        "5) Escreva um programa que pergunte sobre o preço de três produtos e indique qual é o produto mais barato para comprar.\n",
        "\"\"\"\n",
        "\n",
        "produto1 = float(input(\"Qual o valor do 1º produto?\\nR$ \"))\n",
        "produto2 = float(input(\"Qual o valor do 2º produto?\\nR$ \"))\n",
        "produto3 = float(input(\"Qual o valor do 3º produto?\\nR$ \"))\n",
        "\n",
        "if produto1 < produto2 and produto1 < produto3:\n",
        "  print(f\"O 1º produto é mais barato: R${produto1:.2f}\")\n",
        "elif produto2 < produto1 and produto2 < produto3:\n",
        "  print(f\"O 2º produto é mais barato: R${produto2:.2f}\")\n",
        "else:\n",
        "  print(f\"O 3º produto é mais barato: R${produto3:.2f}\")"
      ],
      "metadata": {
        "colab": {
          "base_uri": "https://localhost:8080/"
        },
        "id": "5tYWeRBNOJjP",
        "outputId": "bb8254fe-b6a8-442d-c56c-498579029b55"
      },
      "execution_count": null,
      "outputs": [
        {
          "output_type": "stream",
          "name": "stdout",
          "text": [
            "Qual o valor do 1º produto?\n",
            "R$ 15\n",
            "Qual o valor do 2º produto?\n",
            "R$ 10\n",
            "Qual o valor do 3º produto?\n",
            "R$ 5\n",
            "O 3º produto é mais barato: R$5.00\n"
          ]
        }
      ]
    },
    {
      "cell_type": "code",
      "source": [
        "\"\"\"\n",
        "6) Escreva um programa que leia três números e os exiba em ordem decrescente.\n",
        "\"\"\"\n",
        "\n",
        "numero1 = int(input(\"Digite um número: \"))\n",
        "numero2 = int(input(\"Digite outro número: \"))\n",
        "numero3 = int(input(\"Digite mais um número: \"))\n",
        "\n",
        "print(\"\\nNúmeros em ordem decrescente:\")\n",
        "\n",
        "if numero1 >= numero2 and numero1 >= numero3:\n",
        "  print(numero1)\n",
        "  if numero2 >= numero3:\n",
        "    print(numero2)\n",
        "    print(numero3)\n",
        "  else:\n",
        "    print(numero3)\n",
        "    print(numero2)\n",
        "elif numero2 >= numero1 and numero2 >= numero3:\n",
        "  print(numero2)\n",
        "  if numero1 >= numero3:\n",
        "    print(numero1)\n",
        "    print(numero3)\n",
        "  else:\n",
        "    print(numero3)\n",
        "    print(numero1)\n",
        "else:\n",
        "  print(numero3)\n",
        "  if numero1 >= numero2:\n",
        "    print(numero1)\n",
        "    print(numero2)\n",
        "  else:\n",
        "    print(numero2)\n",
        "    print(numero1)\n"
      ],
      "metadata": {
        "colab": {
          "base_uri": "https://localhost:8080/"
        },
        "id": "NgnNqi8oRLuk",
        "outputId": "a932066d-32b6-41eb-e943-9edfff8368a2"
      },
      "execution_count": null,
      "outputs": [
        {
          "output_type": "stream",
          "name": "stdout",
          "text": [
            "Digite um número: 1\n",
            "Digite outro número: 2\n",
            "Digite mais um número: 3\n",
            "\n",
            "Números em ordem decrescente:\n",
            "3\n",
            "2\n",
            "1\n"
          ]
        }
      ]
    },
    {
      "cell_type": "code",
      "source": [
        "\"\"\"\n",
        "7) Escreva um programa que pergunte em qual turno a pessoa usuária estuda (\"manhã\", \"tarde\" ou \"noite\")\n",
        "e exiba a mensagem \"Bom Dia!\", \"Boa Tarde!\", \"Boa Noite!\", ou \"Valor Inválido!\", conforme o caso.\n",
        "\"\"\"\n",
        "\n",
        "turno = input(\"Qual turno você estuda?\\n\").lower()\n",
        "\n",
        "if turno == \"manhã\":\n",
        "  print(\"Bom Dia!\")\n",
        "elif turno == \"tarde\":\n",
        "  print(\"Boa Tarde!\")\n",
        "elif turno == \"noite\":\n",
        "  print(\"Boa Noite!\")\n",
        "else:\n",
        "  print(\"Valor Inválido!\")"
      ],
      "metadata": {
        "colab": {
          "base_uri": "https://localhost:8080/"
        },
        "id": "E7Ro-inka7PN",
        "outputId": "a07ae67b-2b1a-4401-d5ec-41ca10eaeb14"
      },
      "execution_count": null,
      "outputs": [
        {
          "output_type": "stream",
          "name": "stdout",
          "text": [
            "Qual turno você estuda?\n",
            "AZUL\n",
            "Valor Inválido!\n"
          ]
        }
      ]
    },
    {
      "cell_type": "code",
      "source": [
        "\"\"\"\n",
        "8) Escreva um programa que peça um número inteiro à pessoa usuária e determine se ele é par ou ímpar. Dica: Você pode utilizar o operador módulo %.\n",
        "\"\"\"\n",
        "\n",
        "numero = int(input(\"Digite um número inteiro: \"))\n",
        "\n",
        "if numero % 2 == 0:\n",
        "  print(f\"O número {numero} é PAR\")\n",
        "else:\n",
        "  print(f\"O número {numero} é IMPAR\")\n"
      ],
      "metadata": {
        "colab": {
          "base_uri": "https://localhost:8080/"
        },
        "id": "WrU7Qtmcb0AT",
        "outputId": "e09879fb-09b9-44f1-af3a-55b4e5c9bd7a"
      },
      "execution_count": null,
      "outputs": [
        {
          "output_type": "stream",
          "name": "stdout",
          "text": [
            "Digite um número inteiro: 15\n",
            "O número 15 é IMPAR\n"
          ]
        }
      ]
    },
    {
      "cell_type": "code",
      "source": [
        "\"\"\"\n",
        "9) Escreva um programa que peça um número à pessoa usuária e informe se ele é inteiro ou decimal.\n",
        "\"\"\"\n",
        "\n",
        "numero = float(input(\"Digite um número: \"))\n",
        "\n",
        "if (numero // 1) == numero:\n",
        "  print(\"Número INTEIRO\")\n",
        "else:\n",
        "  print(\"Número DECIMAL\")\n",
        "\n",
        "# o número da variavel foi dividido por 1 porém retornando apenas a parte inteira do número, caso corresponda com oque foi atribuido ativa o PRINT numero INTEIRO\n",
        "# caso a equação não sejá igual o valor atribuido na variavél retorna o PRINT numero decimal.\n"
      ],
      "metadata": {
        "id": "h10vpWDlcfMX",
        "colab": {
          "base_uri": "https://localhost:8080/"
        },
        "outputId": "64cb2a26-aa4d-4482-91c0-053e4672b7bb"
      },
      "execution_count": null,
      "outputs": [
        {
          "output_type": "stream",
          "name": "stdout",
          "text": [
            "Digite um número: 10.43\n",
            "Número DECIMAL\n"
          ]
        }
      ]
    },
    {
      "cell_type": "code",
      "source": [
        "\"\"\"\n",
        "10) Um programa deve ser escrito para ler dois números e, em seguida, perguntar à pessoa usuária qual operação ele deseja realizar.\n",
        "O resultado da operação deve incluir informações sobre o número - se é par ou ímpar, positivo ou negativo e inteiro ou decimal.\n",
        "\"\"\"\n",
        "\n",
        "valor1 = float(input(\"Digite um número: \"))\n",
        "valor2 = float(input(\"Digite outro valor: \"))\n",
        "\n",
        "print(\"\\nOPERAÇÕES:\\n1 - Adição\\n2 - Subtração\\n3 - Multiplicação\\n4 - Divisão\")\n",
        "operador = int(input(\"Digite o número da operação que deseja realizar: \"))\n",
        "\n",
        "# OPERAÇÃO MATEMÁTICA\n",
        "if operador == 1:\n",
        "  resultado = valor1 + valor2\n",
        "  print(f\"\\nResultado: {resultado}\")\n",
        "elif operador == 2:\n",
        "  resultado = valor1 - valor2\n",
        "  print(f\"\\nResultado: {resultado}\")\n",
        "elif operador == 3:\n",
        "  resultado = valor1 * valor2\n",
        "  print(f\"\\nResultado: {resultado}\")\n",
        "elif operador == 4:\n",
        "  resultado = valor1 / valor2\n",
        "  print(f\"\\nResultado: {resultado}\")\n",
        "else:\n",
        "  print(\"Número Invalido!\")\n",
        "\n",
        "# NÚMERO IMPAR OU PAR\n",
        "if resultado % 2 == 0:\n",
        "  print(\"Número PAR\")\n",
        "else:\n",
        "  print(\"Número IMPAR\")\n",
        "\n",
        "# NÚMERO POSITIVO OU NEGATIVO\n",
        "if resultado < 0:\n",
        "  print(\"Número NEGATIVO\")\n",
        "elif resultado > 0:\n",
        "  print(\"Número POSITIVO\")\n",
        "else:\n",
        "  print(\"Número NEUTRO\")\n",
        "\n",
        "# NÚMERO INTEIRO OU DECIMAL\n",
        "if (resultado // 1) == resultado:\n",
        "  print(\"Número INTEIRO\")\n",
        "else:\n",
        "  print(\"Número DECIMAL\")"
      ],
      "metadata": {
        "colab": {
          "base_uri": "https://localhost:8080/"
        },
        "id": "_1bI_6u7kU-G",
        "outputId": "695e2c66-2a57-4d1b-805b-9bbb94525aef"
      },
      "execution_count": null,
      "outputs": [
        {
          "output_type": "stream",
          "name": "stdout",
          "text": [
            "Digite um número: 15.3\n",
            "Digite outro valor: 15.3\n",
            "\n",
            "OPERAÇÕES:\n",
            "1 - Adição\n",
            "2 - Subtração\n",
            "3 - Multiplicação\n",
            "4 - Divisão\n",
            "Digite o número da operação que deseja realizar: 1\n",
            "\n",
            "Resultado: 30.6\n",
            "Número IMPAR\n",
            "Número POSITIVO\n",
            "Número DECIMAL\n"
          ]
        }
      ]
    },
    {
      "cell_type": "code",
      "source": [
        "\"\"\"\n",
        "11) Escreva um programa que peça à pessoa usuária três números que representam os lados de um triângulo.\n",
        "O programa deve informar se os valores podem ser utilizados para formar um triângulo e, caso afirmativo,\n",
        "se ele é equilátero, isósceles ou escaleno. Tenha em mente algumas dicas:\n",
        "\n",
        "Três lados formam um triângulo quando a soma de quaisquer dois lados for maior que o terceiro;\n",
        "Triângulo Equilátero: três lados iguais;\n",
        "Triângulo Isósceles: quaisquer dois lados iguais;\n",
        "Triângulo Escaleno: três lados diferentes.\n",
        "\"\"\"\n",
        "\n",
        "print(\"TIPO DE TRIÂNGULO\\n\")\n",
        "lado1 = float(input(\"Digite o tamanho do 1º lado do triângulo: \"))\n",
        "lado2 = float(input(\"Digite o tamanho do 2º lado do triângulo: \"))\n",
        "lado3 = float(input(\"Digite o tamanho do 3º lado do triângulo: \"))\n",
        "\n",
        "if (lado1+lado2)>lado3 and (lado1+lado3)>lado2 and (lado2+lado3)>lado1:\n",
        "  if lado1==lado2 and lado2==lado3:\n",
        "    print(\"\\nOs valores informados formam um triângulo EQUILÁTERO!\")\n",
        "  elif lado1==lado2 or lado2==lado3 or lado3==lado1:\n",
        "    print(\"\\nOs valores informados formam um triângulo ISÓSCELES!\")\n",
        "  elif lado1!=lado2 and lado2!=lado3 and lado1!=lado3:\n",
        "    print(\"\\nOs valores informados formam um triângulo ESCALENO!\")\n",
        "else:\n",
        "  print(\"\\nNão é possível formar um triângulo!\")\n"
      ],
      "metadata": {
        "id": "AxeVzWZQrIPJ",
        "colab": {
          "base_uri": "https://localhost:8080/"
        },
        "outputId": "ee779265-fffb-4a40-d3ef-83de03d930c9"
      },
      "execution_count": null,
      "outputs": [
        {
          "output_type": "stream",
          "name": "stdout",
          "text": [
            "TIPO DE TRIÂNGULO\n",
            "\n",
            "Digite o tamanho do 1º lado do triângulo: 15\n",
            "Digite o tamanho do 2º lado do triângulo: 15\n",
            "Digite o tamanho do 3º lado do triângulo: 15\n",
            "\n",
            "Os valores informados formam um triângulo EQUILÁTERO!\n"
          ]
        }
      ]
    },
    {
      "cell_type": "code",
      "source": [
        "\"\"\"\n",
        "12) Um estabelecimento está vendendo combustíveis com descontos variados.\n",
        "Para o etanol, se a quantidade comprada for até 15 litros, o desconto será de 2% por litro. Caso contrário, será de 4% por litro.\n",
        "Para o diesel, se a quantidade comprada for até 15 litros, o desconto será de 3% por litro. Caso contrário, será de 5% por litro.\n",
        "O preço do litro de diesel é R$ 2,00 e o preço do litro de etanol é R$ 1,70.\n",
        "Escreva um programa que leia a quantidade de litros vendidos e o tipo de combustível (E para etanol e D para diesel) e calcule o valor a ser pago pelo cliente. Tenha em mente algumas dicas:\n",
        "\n",
        "O do valor do desconto será a multiplicação entre preço do litro, quantidade de litros e o valor do desconto.\n",
        "O valor a ser pago por um cliente será o resultado da multiplicação do preço do litro pela quantidade de litros menos o valor de desconto resultante do cálculo.\n",
        "\"\"\"\n",
        "\n",
        "quantidade = float(input(\"Digite a quantidade abastecida: \"))\n",
        "print(\"\\nCombustíveis:\\nE - Etanol\\nD - Disel\")\n",
        "tipo = input(\"Digite o tipo de compustível utilizado: \").upper().strip()\n",
        "\n",
        "if tipo == \"E\":\n",
        "  if quantidade <= 15:\n",
        "    desconto = (1.70*quantidade)*0.02\n",
        "    valor_pago = (1.70*quantidade) - desconto\n",
        "    print(f\"\\nVALOR TOTAL: R${1.70*quantidade:.2f}\\nVALOR DESCONTO: R$ {desconto:.2f}\\nVALOR A PAGAR: R$ {valor_pago:.2f}\")\n",
        "  else:\n",
        "    desconto = (1.70*quantidade)*0.04\n",
        "    valor_pago = (1.70*quantidade) - desconto\n",
        "    print(f\"\\nVALOR TOTAL: R${1.70*quantidade:.2f}\\nVALOR DESCONTO: R$ {desconto:.2f}\\nVALOR A PAGAR: R$ {valor_pago:.2f}\")\n",
        "elif tipo == \"D\":\n",
        "  if quantidade <= 15:\n",
        "    desconto = (2*quantidade)*0.03\n",
        "    valor_pago = (2*quantidade) - desconto\n",
        "    print(f\"\\nVALOR TOTAL: R${2*quantidade:.2f}\\nVALOR DESCONTO: R$ {desconto:.2f}\\nVALOR A PAGAR: R$ {valor_pago:.2f}\")\n",
        "  else:\n",
        "    desconto = (2*quantidade)*0.05\n",
        "    valor_pago = (2*quantidade) - desconto\n",
        "    print(f\"\\nVALOR TOTAL: R${2*quantidade:.2f}\\nVALOR DESCONTO: R$ {desconto:.2f}\\nVALOR A PAGAR: R$ {valor_pago:.2f}\")\n",
        "else:\n",
        "  print(\"\\nCOMBUSTÍVEL INVÁLIDO!\")"
      ],
      "metadata": {
        "colab": {
          "base_uri": "https://localhost:8080/"
        },
        "id": "u4_FC2UMJ01X",
        "outputId": "ccbf8e8f-fc36-47d3-807c-874fab24d1a0"
      },
      "execution_count": null,
      "outputs": [
        {
          "output_type": "stream",
          "name": "stdout",
          "text": [
            "Digite a quantidade abastecida: 150\n",
            "\n",
            "Combustíveis:\n",
            "E - Etanol\n",
            "D - Disel\n",
            "Digite o tipo de compustível utilizado: d\n",
            "\n",
            "VALOR TOTAL: R$300.00\n",
            "VALOR DESCONTO: R$ 15.00\n",
            "VALOR A PAGAR: R$ 285.00\n"
          ]
        }
      ]
    },
    {
      "cell_type": "code",
      "source": [
        "\"\"\"\n",
        "13) Em uma empresa de venda de imóveis você precisa criar um código que analise os dados de vendas anuais para ajudar a diretoria na tomada de decisão.\n",
        "O código precisa coletar os dados de quantidade de venda durante os anos de 2022 e 2023 e fazer um cálculo de variação percentual.\n",
        "A partir do valor da variação, deve ser enviada às seguintes sugestões:\n",
        "\n",
        "Para variação acima de 20%: bonificação para o time de vendas.\n",
        "Para variação entre 2% e 20%: pequena bonificação para time de vendas.\n",
        "Para variação entre 2% e -10%: planejamento de políticas de incentivo às vendas.\n",
        "Para bonificações abaixo de -10%: corte de gastos.\n",
        "\"\"\"\n",
        "\n",
        "print(\"CALCULO DE BONIFICAÇÃO\")\n",
        "ano2022 = float(input(\"\\nDigite a quantidade vendida em 2022: R$ \"))\n",
        "ano2023 = float(input(\"Digite a quantidade vendida em 2023: R$ \"))\n",
        "\n",
        "var_ano = ((ano2023/ano2022)-1)*100\n",
        "\n",
        "if var_ano > 20:\n",
        "  print(f\"\\nVariação de {var_ano:.2f}%\\nRESULTADO: BONIFICAÇÃO PARA O TIME DE VENDAS.\")\n",
        "elif var_ano>2 and var_ano<=20:\n",
        "  print(f\"\\nVariação de {var_ano:.2f}%\\nRESULTADO: PEQUENA BONIFICAÇÃO PARA O TIME DE VENDAS.\")\n",
        "elif var_ano>-10 and var_ano<=2:\n",
        "  print(f\"\\nVariação de {var_ano:.2f}%\\nRESULTADO: PLANEJAMENTO DE POLÍTICAS DE INCENTIVO ÀS VENDAS.\")\n",
        "else:\n",
        "  print(f\"\\nVariação de {var_ano:.2f}%\\nRESULTADO: CORTE DE GASTOS.\")"
      ],
      "metadata": {
        "colab": {
          "base_uri": "https://localhost:8080/"
        },
        "id": "_wSdiPKLKKVC",
        "outputId": "80ad986a-8d48-42e5-e8e7-4a2f94c15430"
      },
      "execution_count": null,
      "outputs": [
        {
          "output_type": "stream",
          "name": "stdout",
          "text": [
            "CALCULO DE BONIFICAÇÃO\n",
            "\n",
            "Digite a quantidade vendida em 2022: R$ 150\n",
            "Digite a quantidade vendida em 2023: R$ 130\n",
            "\n",
            "Variação de -13.33%\n",
            "RESULTADO: CORTE DE GASTOS.\n"
          ]
        }
      ]
    },
    {
      "cell_type": "markdown",
      "source": [
        "# **Estrutura de Repetição**"
      ],
      "metadata": {
        "id": "wQ61sU_2TRgQ"
      }
    },
    {
      "cell_type": "code",
      "source": [
        "\"\"\"\n",
        "1) Escreva um programa que peça dois números inteiros e imprima todos os números inteiros entre eles.\n",
        "\"\"\"\n",
        "\n",
        "numero1 = int(input(\"Digite um número inteiro: \"))\n",
        "numero2 = int(input(\"Digite outro número inteiro: \"))\n",
        "\n",
        "if numero1<numero2:\n",
        "  print(f\"\\nOs valores entre os número {numero1} e {numero2} são:\")\n",
        "  for valor in range((numero1+1),numero2):\n",
        "    print(valor)\n",
        "else:\n",
        "  print(f\"\\nOs valores entre os número {numero2} e {numero1} são:\")\n",
        "  for valor in range((numero2+1),numero1):\n",
        "    print(valor)"
      ],
      "metadata": {
        "colab": {
          "base_uri": "https://localhost:8080/"
        },
        "id": "9-Mgz5g3Tc4V",
        "outputId": "6f80cd1c-94b9-47d5-ee62-43fef9262ace"
      },
      "execution_count": null,
      "outputs": [
        {
          "output_type": "stream",
          "name": "stdout",
          "text": [
            "Digite um número inteiro: 15\n",
            "Digite outro número inteiro: 17\n",
            "\n",
            "Os valores entre os número 15 e 17 são:\n",
            "16\n"
          ]
        }
      ]
    },
    {
      "cell_type": "code",
      "source": [
        "\"\"\"\n",
        "2) Escreva um programa para calcular quantos dias levará para a colônia de uma bactéria A ultrapassar ou igualar a colônia de uma bactéria B,\n",
        "com base nas taxas de crescimento de 3% e 1,5% respectivamente. Considere que a colônia A inicia com 4 elementos e a B com 10.\n",
        "\"\"\"\n",
        "\n",
        "bac_a = 4\n",
        "bac_b = 10\n",
        "dia = 0\n",
        "\n",
        "while bac_a <= bac_b:\n",
        "  dia += 1\n",
        "  bac_a = bac_a * 1.03\n",
        "  bac_b = bac_b * 1.015\n",
        "\n",
        "print(f\"No dia {dia} a colônia de bactéria A ira ultrapssar a colônia B!\\nBactéria A = {bac_a:.2f}\\nBactéria B = {bac_b:.2f}\")"
      ],
      "metadata": {
        "id": "ryrBBVamUC1x",
        "colab": {
          "base_uri": "https://localhost:8080/"
        },
        "outputId": "10430601-2bd9-47f4-e061-956e84dd602c"
      },
      "execution_count": null,
      "outputs": [
        {
          "output_type": "stream",
          "name": "stdout",
          "text": [
            "No dia 63 a colônia de bactéria A ira ultrapssar a colônia B!\n",
            "Bactéria A = 25.75\n",
            "Bactéria B = 25.55\n"
          ]
        }
      ]
    },
    {
      "cell_type": "code",
      "source": [
        "\"\"\"\n",
        "3) Para tratar uma quantidade de 15 dados de avaliações de pessoas usuárias de um serviço da empresa, precisamos verificar se as notas são válidas.\n",
        "Então, escreva um programa que vai receber a nota de 0 a 5 de todos os dados e verificar se é um valor válido.\n",
        "Caso seja inserido uma nota acima de 5 ou abaixo de 0, repita até que a pessoa usuária insira um valor válido.\n",
        "\"\"\"\n",
        "\n",
        "for i in range(1, 16):\n",
        "  nota = int(input(f\"Digite a {i}º nota: \"))\n",
        "  while nota not in {1, 2, 3, 4, 5}:\n",
        "    nota = int(input(\"Valor invalido! Digite novamente: \"))"
      ],
      "metadata": {
        "id": "1ZrkU2iMUDSW",
        "colab": {
          "base_uri": "https://localhost:8080/"
        },
        "outputId": "5814e2c6-4645-4c0e-8135-eef26e34606c"
      },
      "execution_count": null,
      "outputs": [
        {
          "name": "stdout",
          "output_type": "stream",
          "text": [
            "Digite a 1º nota: 1\n",
            "Digite a 2º nota: 2\n",
            "Digite a 3º nota: 3\n",
            "Digite a 4º nota: 4\n",
            "Digite a 5º nota: 5\n",
            "Digite a 6º nota: 6\n",
            "Valor invalido! Digite novamente: 1\n",
            "Digite a 7º nota: 2\n",
            "Digite a 8º nota: 3\n",
            "Digite a 9º nota: 4\n",
            "Digite a 10º nota: 5\n",
            "Digite a 11º nota: 6\n",
            "Valor invalido! Digite novamente: 1\n",
            "Digite a 12º nota: 2\n",
            "Digite a 13º nota: 3\n",
            "Digite a 14º nota: 4\n",
            "Digite a 15º nota: 5\n"
          ]
        }
      ]
    },
    {
      "cell_type": "code",
      "source": [
        "\"\"\"\n",
        "4) Desenvolva um programa que leia um conjunto indeterminado de temperaturas em Celsius e informe a média delas.\n",
        "A leitura deve ser encerrada ao ser enviado o valor -273°C.\n",
        "\"\"\"\n",
        "temp = 0\n",
        "quant = 0\n",
        "total = 0\n",
        "\n",
        "print(\"MÉDIA GRAUS CELSIUS\\nOBS: Digite -273 para finalizar.\\n\")\n",
        "while temp != -273:\n",
        "  temp = float(input(f\"Digite a {quant+1}º temperatura (ºC): \"))\n",
        "  if temp != -273:\n",
        "    quant += 1\n",
        "    total += temp\n",
        "  else:\n",
        "    print(f\"\\nA média é {total / quant:.2f} ºC\")"
      ],
      "metadata": {
        "id": "8bk-30Q6UDuG",
        "colab": {
          "base_uri": "https://localhost:8080/"
        },
        "outputId": "7c352335-a4be-48c8-b17e-d55d63ed299c"
      },
      "execution_count": null,
      "outputs": [
        {
          "output_type": "stream",
          "name": "stdout",
          "text": [
            "MÉDIA GRAUS CELSIUS\n",
            "OBS: Digite -273 para finalizar.\n",
            "\n",
            "Digite a 1º temperatura(ºC): 15\n",
            "Digite a 2º temperatura(ºC): 13\n",
            "Digite a 3º temperatura(ºC): -273\n",
            "\n",
            "A média é 14.00 ºC\n"
          ]
        }
      ]
    },
    {
      "cell_type": "code",
      "source": [
        "\"\"\"\n",
        "5) Escreva um programa que calcule o fatorial de um número inteiro fornecido pela pessoa usuária.\n",
        "Lembrando que o fatorial de um número inteiro é a multiplicação desse número por todos os seus antecessores até o número 1.\n",
        "Por exemplo, o fatorial de 5 é 5 x 4 x 3 x 2 x 1 = 120.\n",
        "\"\"\"\n",
        "\n",
        "numero = int(input(\"Digite um número: \"))\n",
        "fatorial = 1\n",
        "\n",
        "for i in range(1, numero+1):\n",
        "  fatorial = fatorial*i\n",
        "\n",
        "print(f\"O fatorial de {numero} é {fatorial}.\")"
      ],
      "metadata": {
        "id": "yDoFkTxGUEXR",
        "colab": {
          "base_uri": "https://localhost:8080/"
        },
        "outputId": "c1521b0d-8126-4690-94a8-e5dad2a5686f"
      },
      "execution_count": null,
      "outputs": [
        {
          "output_type": "stream",
          "name": "stdout",
          "text": [
            "Digite um número: 10\n",
            "O fatorial de 10 é 3628800.\n"
          ]
        }
      ]
    },
    {
      "cell_type": "code",
      "source": [
        "\"\"\"\n",
        "6) Escreva um programa que gere a tabuada de um número inteiro de 1 a 10, de acordo com a escolha da pessoa usuária.\n",
        "Como exemplo, para o número 2, a tabuada deve ser mostrada no seguinte formato:\n",
        "Tabuada do 2:\n",
        "2 x 1 = 2\n",
        "2 x 2 = 4\n",
        "[...]\n",
        "2 x 10 = 20\n",
        "\"\"\"\n",
        "numero = int(input(\"Digite o número da tabuada que desejá ver: \"))\n",
        "\n",
        "print(f\"\\nTabuada do {numero}:\")\n",
        "for i in range(1, 11):\n",
        "  print(f\"{numero} x {i} = {i * numero}\")"
      ],
      "metadata": {
        "id": "K3cY_KIaUEwo",
        "colab": {
          "base_uri": "https://localhost:8080/"
        },
        "outputId": "fe94b609-b8b4-4516-ba00-ee1f2771502b"
      },
      "execution_count": null,
      "outputs": [
        {
          "output_type": "stream",
          "name": "stdout",
          "text": [
            "Digite o número da tabuada que desejá ver: 2\n",
            "\n",
            "Tabuada do 2:\n",
            "2 x 1 = 2\n",
            "2 x 2 = 4\n",
            "2 x 3 = 6\n",
            "2 x 4 = 8\n",
            "2 x 5 = 10\n",
            "2 x 6 = 12\n",
            "2 x 7 = 14\n",
            "2 x 8 = 16\n",
            "2 x 9 = 18\n",
            "2 x 10 = 20\n"
          ]
        }
      ]
    },
    {
      "cell_type": "code",
      "source": [
        "\"\"\"\n",
        "7) Os números primos possuem várias aplicações dentro da Ciência de Dados em criptografia e segurança, por exemplo.\n",
        "Um número primo é aquele que é divisível apenas por um e por ele mesmo.\n",
        "Assim, faça um programa que peça um número inteiro e determine se ele é ou não um número primo.\n",
        "\"\"\"\n",
        "\n",
        "numero = int(input(\"Digite um número: \"))\n",
        "\n",
        "for i in range(2, numero):\n",
        "  if (numero % i) == 0:\n",
        "    print(\"Esse número NÃO É PRIMO.\")\n",
        "    break\n",
        "else:\n",
        "  print(\"Esse número É PRIMO.\")"
      ],
      "metadata": {
        "id": "N7HUEDxcUFRF",
        "colab": {
          "base_uri": "https://localhost:8080/"
        },
        "outputId": "2f315745-0646-472f-f7b8-9fe64d8090a4"
      },
      "execution_count": null,
      "outputs": [
        {
          "output_type": "stream",
          "name": "stdout",
          "text": [
            "Digite um número: 11\n",
            "Esse número É PRIMO.\n"
          ]
        }
      ]
    },
    {
      "cell_type": "code",
      "source": [
        "\"\"\"\n",
        "8) Vamos entender a distribuição de idades de pensionistas de uma empresa de previdência.\n",
        "Escreva um programa que leia as idades de uma quantidade não informada de clientes e mostre a distribuição em intervalos de\n",
        "[0-25], [26-50], [51-75] e [76-100]. Encerre a entrada de dados com um número negativo.\n",
        "\"\"\"\n",
        "\n",
        "faixa1 = 0\n",
        "faixa2 = 0\n",
        "faixa3 = 0\n",
        "faixa4 = 0\n",
        "\n",
        "print(\"IDADE DOS PENSIONISTAS DA PREVIDÊNCIA\")\n",
        "print(f\"OBS: Digite -1 para finalizar\\n\")\n",
        "\n",
        "idade = int(input(\"Digite a idade: \"))\n",
        "while idade != -1:\n",
        "  idade = int(input(\"Digite a idade: \"))\n",
        "  if idade <= 25:\n",
        "    faixa1 += 1\n",
        "  elif idade <= 50:\n",
        "    faixa2 += 1\n",
        "  elif idade <= 75:\n",
        "    faixa3 += 1\n",
        "  else:\n",
        "    faixa4 += 1\n",
        "\n",
        "print(f\"\\nQUANTIDADE POR FAIXA:\\n[0-25] = {faixa1}\\n[26-50] = {faixa2}\\n[51-75] = {faixa3}\\n[76-100] = {faixa4}\")"
      ],
      "metadata": {
        "id": "ALvpihISUFqW",
        "colab": {
          "base_uri": "https://localhost:8080/"
        },
        "outputId": "cfae032e-b522-4672-ef50-96ec55e093ff"
      },
      "execution_count": null,
      "outputs": [
        {
          "output_type": "stream",
          "name": "stdout",
          "text": [
            "IDADE DOS PENSIONISTAS DA PREVIDÊNCIA\n",
            "OBS: Digite -1 para finalizar\n",
            "\n",
            "Digite a idade: 40\n",
            "Digite a idade: 76\n",
            "Digite a idade: 58\n",
            "Digite a idade: 43\n",
            "Digite a idade: 15\n",
            "Digite a idade: 28\n",
            "Digite a idade: -1\n",
            "\n",
            "QUANTIDADE POR FAIXA:\n",
            "[0-25] = 2\n",
            "[26-50] = 2\n",
            "[51-75] = 1\n",
            "[76-100] = 1\n"
          ]
        }
      ]
    },
    {
      "cell_type": "code",
      "source": [
        "\"\"\"\n",
        "9) Em uma eleição para gerência em uma empresa com 20 pessoas colaboradoras, existem quatro candidatos(as).\n",
        "Escreva um programa que calcule o(a) vencedor(a) da eleição. A votação ocorreu da seguinte maneira:\n",
        "\n",
        "Cada colaborador(a) votou em uma das quatro pessoas candidatas (que representamos pelos números 1, 2, 3 e 4).\n",
        "Também foram contabilizados os votos nulos (representados pelo número 5) e os votos em branco (representados pelo número 6).\n",
        "Ao final da votação, o programa deve exibir o número total de votos para cada candidato(a), os nulos e os votos em branco.\n",
        "Além disso, deve calcular e exibir a porcentagem de votos nulos em relação ao total de votos e a porcentagem de votos em branco em relação ao total de votos.\n",
        "\"\"\"\n",
        "\n",
        "candidato1 = 0\n",
        "candidato2 = 0\n",
        "candidato3 = 0\n",
        "candidato4 = 0\n",
        "nulo = 0\n",
        "branco = 0\n",
        "total_votos = 0\n",
        "\n",
        "print(\"NÚMEROS PARA VOTAÇÃO:\\n1 - Candidato1\\n2 - Candidato2\\n3 - Candidato3\\n4 - Candidato4\\n5 - Nulo\\n6 - Branco\\n\")\n",
        "\n",
        "for i in range(20):\n",
        "  voto = int(input(\"Digite o número de seu voto: \"))\n",
        "  while voto not in [1, 2, 3, 4, 5, 6]:\n",
        "    voto = int(input(\"Valor incorreto! Digite novamente: \"))\n",
        "  total_votos += 1\n",
        "  if voto == 1:\n",
        "    candidato1 += 1\n",
        "  elif voto == 2:\n",
        "    candidato2 += 1\n",
        "  elif voto == 3:\n",
        "    candidato3 += 1\n",
        "  elif voto == 4:\n",
        "    candidato4 += 1\n",
        "  elif voto == 5:\n",
        "    nulo += 1\n",
        "  else:\n",
        "    branco += 1\n",
        "\n",
        "print(f\"\\nRESULTADO:\")\n",
        "print(f\"\\nCandidato 1 = {candidato1}\\nCandidato 2 = {candidato2}\\nCandidato 3 = {candidato3}\\nCandidato 4 = {candidato4}\")\n",
        "print(f\"Votos em Branco = {branco}\\nVotos Nulos = {nulo}\")\n",
        "\n",
        "print(f\"\\n{(branco/total_votos)*100:.2f}% dos votos foram brancos.\")\n",
        "print(f\"{(nulo/total_votos)*100:.2f}% dos votos foram nulos.\")\n"
      ],
      "metadata": {
        "id": "V5wqaHPEUGEx",
        "colab": {
          "base_uri": "https://localhost:8080/"
        },
        "outputId": "983a52b8-4af0-47ee-da96-566ecd1f9849"
      },
      "execution_count": null,
      "outputs": [
        {
          "output_type": "stream",
          "name": "stdout",
          "text": [
            "NÚMEROS PARA VOTAÇÃO:\n",
            "1 - Candidato1\n",
            "2 - Candidato2\n",
            "3 - Candidato3\n",
            "4 - Candidato4\n",
            "5 - Nulo\n",
            "6 - Branco\n",
            "\n",
            "Digite o número de seu voto: 1\n",
            "Digite o número de seu voto: 2\n",
            "Digite o número de seu voto: 3\n",
            "Digite o número de seu voto: 4\n",
            "Digite o número de seu voto: 5\n",
            "Digite o número de seu voto: 6\n",
            "Digite o número de seu voto: 1\n",
            "Digite o número de seu voto: 2\n",
            "Digite o número de seu voto: 3\n",
            "Digite o número de seu voto: 4\n",
            "Digite o número de seu voto: 5\n",
            "Digite o número de seu voto: 6\n",
            "Digite o número de seu voto: 1\n",
            "Digite o número de seu voto: 2\n",
            "Digite o número de seu voto: 3\n",
            "Digite o número de seu voto: 4\n",
            "Digite o número de seu voto: 5\n",
            "Digite o número de seu voto: 6\n",
            "Digite o número de seu voto: 1\n",
            "Digite o número de seu voto: 2\n",
            "\n",
            "RESULTADO:\n",
            "\n",
            "Candidato 1 = 4\n",
            "Candidato 2 = 4\n",
            "Candidato 3 = 3\n",
            "Candidato 4 = 3\n",
            "Votos em Branco = 3\n",
            "Votos Nulos = 3\n",
            "\n",
            "15.00% dos votos foram brancos.\n",
            "15.00% dos votos foram nulos.\n"
          ]
        }
      ]
    },
    {
      "cell_type": "markdown",
      "source": [
        "# **Estrutura de Dados**"
      ],
      "metadata": {
        "id": "5hT1C95Cn--_"
      }
    },
    {
      "cell_type": "code",
      "source": [
        "\"\"\"\n",
        "1) Faça um programa que tenha a seguinte lista contendo os valores de gastos de uma empresa de papel\n",
        "[2172.54, 3701.35, 3518.09, 3456.61, 3249.38, 2840.82, 3891.45, 3075.26, 2317.64, 3219.08].\n",
        "Com esses valores, faça um programa que calcule a média de gastos. Dica: use as funções built-in sum() e len().\n",
        "\"\"\"\n",
        "\n",
        "lista_gastos = [2172.54, 3701.35, 3518.09, 3456.61, 3249.38, 2840.82, 3891.45, 3075.26, 2317.64, 3219.08]\n",
        "\n",
        "print(f\"O valor médio gasto é R${sum(lista_gastos)/len(lista_gastos):.2f}.\")"
      ],
      "metadata": {
        "colab": {
          "base_uri": "https://localhost:8080/"
        },
        "id": "TRqdWezSoWOw",
        "outputId": "74e0ba16-8fc3-4034-857d-7e1863ead266"
      },
      "execution_count": null,
      "outputs": [
        {
          "output_type": "stream",
          "name": "stdout",
          "text": [
            "O valor médio gasto é R$3144.22.\n"
          ]
        }
      ]
    },
    {
      "cell_type": "code",
      "source": [
        "\"\"\"\n",
        "2) Com os mesmos dados da questão anterior, defina quantas compras foram realizadas acima de 3000 reais e calcule a porcentagem quanto ao total de compras.\n",
        "\"\"\"\n",
        "\n",
        "lista_gastos = [2172.54, 3701.35, 3518.09, 3456.61, 3249.38, 2840.82, 3891.45, 3075.26, 2317.64, 3219.08]\n",
        "lista_3000 = []\n",
        "\n",
        "for i in lista_gastos:\n",
        "  if i > 3000:\n",
        "    lista_3000.append(i)\n",
        "\n",
        "print(f\"Foram feitas {len(lista_3000)} compras acima de R$3000,00 que corresponde a {len(lista_3000)/len(lista_gastos)*100:.2f}%.\")\n"
      ],
      "metadata": {
        "colab": {
          "base_uri": "https://localhost:8080/"
        },
        "id": "lMyyZnEJoet2",
        "outputId": "3e83b15a-6e5d-4b6f-eda0-280a23946eb8"
      },
      "execution_count": null,
      "outputs": [
        {
          "output_type": "stream",
          "name": "stdout",
          "text": [
            "Foram feitas 7 compras acima de R$3000,00 que corresponde a 70.00%.\n"
          ]
        }
      ]
    },
    {
      "cell_type": "code",
      "source": [
        "\"\"\"\n",
        "3) Faça um código que colete em uma lista 5 números inteiros quaisquer e imprima a lista. Exemplo: [1,4,7,2,4].\n",
        "\"\"\"\n",
        "\n",
        "lista = []\n",
        "\n",
        "for i in range(1, 6):\n",
        "  valor = int(input(f\"Digite o {i}º valor: \"))\n",
        "  lista.append(valor)\n",
        "\n",
        "print(\"\\nLISTA CRIADA:\")\n",
        "print(lista)\n"
      ],
      "metadata": {
        "colab": {
          "base_uri": "https://localhost:8080/"
        },
        "id": "zOjjIW64ofDx",
        "outputId": "51605965-9141-4775-8b63-c49a7ef8de28"
      },
      "execution_count": null,
      "outputs": [
        {
          "output_type": "stream",
          "name": "stdout",
          "text": [
            "Digite o 1º valor: 5\n",
            "Digite o 2º valor: 4\n",
            "Digite o 3º valor: 6\n",
            "Digite o 4º valor: 3\n",
            "Digite o 5º valor: 1\n",
            "\n",
            "LISTA CRIADA:\n",
            "[5, 4, 6, 3, 1]\n"
          ]
        }
      ]
    },
    {
      "cell_type": "code",
      "source": [
        "\"\"\"\n",
        "4) Colete novamente 5 inteiros e imprima a lista em ordem inversa à enviada.\n",
        "\"\"\"\n",
        "\n",
        "lista = []\n",
        "\n",
        "for i in range(1, 6):\n",
        "  valor = int(input(f\"Digite o {i}º valor: \"))\n",
        "  lista.append(valor)\n",
        "\n",
        "print(\"\\nLISTA CRIADA (ORDEM INVERSA):\")\n",
        "lista.reverse()\n",
        "print(lista)\n"
      ],
      "metadata": {
        "colab": {
          "base_uri": "https://localhost:8080/"
        },
        "id": "gf5-LHFkoffn",
        "outputId": "90b60298-a8da-4d16-dc3c-ae4516328962"
      },
      "execution_count": null,
      "outputs": [
        {
          "output_type": "stream",
          "name": "stdout",
          "text": [
            "Digite o 1º valor: 1\n",
            "Digite o 2º valor: 2\n",
            "Digite o 3º valor: 3\n",
            "Digite o 4º valor: 4\n",
            "Digite o 5º valor: 5\n",
            "\n",
            "LISTA CRIADA (ORDEM INVERSA):\n",
            "[5, 4, 3, 2, 1]\n"
          ]
        }
      ]
    },
    {
      "cell_type": "code",
      "source": [
        "\"\"\"\n",
        "5) Faça um programa que, ao inserir um número qualquer, cria uma lista contendo todos os números primos entre 1 e o número digitado.\n",
        "\"\"\"\n",
        "\n",
        "lista_primo = []\n",
        "numero = int(input(\"Digite um número: \"))\n",
        "\n",
        "for i in range(1, numero+1):\n",
        "  for x in range(2, i):\n",
        "    if i % x == 0:\n",
        "      break\n",
        "  else:\n",
        "    lista_primo.append(i)\n",
        "\n",
        "print(f\"\\nOs números primos entre 1 e {numero} são:\\n{lista_primo}\")"
      ],
      "metadata": {
        "id": "4pFnGDivohgU",
        "colab": {
          "base_uri": "https://localhost:8080/"
        },
        "outputId": "0a5dfe15-b1c2-4152-eec5-8f108d21a734"
      },
      "execution_count": null,
      "outputs": [
        {
          "output_type": "stream",
          "name": "stdout",
          "text": [
            "Digite um número: 20\n",
            "\n",
            "Os números primos entre 1 e 20 são:\n",
            "[1, 2, 3, 5, 7, 11, 13, 17, 19]\n"
          ]
        }
      ]
    },
    {
      "cell_type": "code",
      "source": [
        "\"\"\"\n",
        "6) Escreva um programa que peça uma data informando o dia, mês e ano e determine se ela é válida para uma análise.\n",
        "\"\"\"\n",
        "dia = int(input(\"Digite o dia: \"))\n",
        "mes = int(input(\"Digite o mês em forma numérica: \"))\n",
        "ano = int(input(\"Digite o ano: \"))\n",
        "\n",
        "if mes == 2:\n",
        "  if ano % 4 == 0:\n",
        "    dias_fev = 29\n",
        "  else:\n",
        "    dias_fev = 28\n",
        "  if dia <= dias_fev and dia >= 1:\n",
        "    print(\"\\nData Válida!\")\n",
        "  else:\n",
        "    print(\"\\nData Inválida!\")\n",
        "elif mes in [1, 3, 5, 7, 8, 10, 12]:\n",
        "  dias_mes = 31\n",
        "  if dia <= dias_mes and dia >= 1:\n",
        "    print(\"\\nData Válida!\")\n",
        "  else:\n",
        "    print(\"\\nData Inválida!\")\n",
        "elif mes in [4, 6, 9, 11]:\n",
        "  dias_mes = 30\n",
        "  if dia <= dias_mes and dia >= 1:\n",
        "    print(\"\\nData Válida!\")\n",
        "  else:\n",
        "    print(\"\\nData Inválida!\")\n",
        "else:\n",
        "  print(\"\\nData Invalida!\")"
      ],
      "metadata": {
        "id": "xmLuGc02oih_",
        "colab": {
          "base_uri": "https://localhost:8080/"
        },
        "outputId": "26fd340e-81f3-4969-88e2-d30391daeb90"
      },
      "execution_count": null,
      "outputs": [
        {
          "output_type": "stream",
          "name": "stdout",
          "text": [
            "Digite o dia: 30\n",
            "Digite o mês em forma numérica: 2\n",
            "Digite o ano: 1997\n",
            "\n",
            "Data Inválida!\n"
          ]
        }
      ]
    },
    {
      "cell_type": "code",
      "source": [
        "\"\"\"\n",
        "7) Para um estudo envolvendo o nível de multiplicação de bactérias em uma colônia, foi coletado o número de bactérias por dia (em milhares)\n",
        "e pode ser observado a seguir:\n",
        "[1.2, 2.1, 3.3, 5.0, 7.8, 11.3, 16.6, 25.1, 37.8, 56.9].\n",
        "Tendo esses valores, faça um código que gere uma lista contendo o percentual de crescimento de bactérias por dia,\n",
        "comparando o número de bactérias em cada dia com o número de bactérias do dia anterior.\n",
        "Dica: para calcular o percentual de crescimento usamos a seguinte equação: 100 * (amostra_atual - amostra_passada) / (amostra_passada).\n",
        "\"\"\"\n",
        "\n",
        "bacteria = [1.2, 2.1, 3.3, 5.0, 7.8, 11.3, 16.6, 25.1, 37.8, 56.9]\n",
        "\n",
        "for i in range(len(bacteria)-1):\n",
        "  amostra_passada = bacteria[i]\n",
        "  amostra_atual = bacteria[i+1]\n",
        "  aumento = 100 * (amostra_atual - amostra_passada) / (amostra_passada)\n",
        "  print(f\"Aumento de {aumento:.2f}% da amostra {i+2} para a amostra {i+1}.\")\n"
      ],
      "metadata": {
        "id": "mjCpc8Qgojoo",
        "colab": {
          "base_uri": "https://localhost:8080/"
        },
        "outputId": "a569e7e4-bc76-44f7-dbc1-bc5feaf8cf0d"
      },
      "execution_count": null,
      "outputs": [
        {
          "output_type": "stream",
          "name": "stdout",
          "text": [
            "Aumento de 75.00% da amostra 2 para a amostra 1.\n",
            "Aumento de 57.14% da amostra 3 para a amostra 2.\n",
            "Aumento de 51.52% da amostra 4 para a amostra 3.\n",
            "Aumento de 56.00% da amostra 5 para a amostra 4.\n",
            "Aumento de 44.87% da amostra 6 para a amostra 5.\n",
            "Aumento de 46.90% da amostra 7 para a amostra 6.\n",
            "Aumento de 51.20% da amostra 8 para a amostra 7.\n",
            "Aumento de 50.60% da amostra 9 para a amostra 8.\n",
            "Aumento de 50.53% da amostra 10 para a amostra 9.\n"
          ]
        }
      ]
    },
    {
      "cell_type": "code",
      "source": [
        "\"\"\"\n",
        "8) Para uma seleção de produtos alimentícios, precisamos separar o conjunto de IDs dados por números inteiros\n",
        "sabendo que os produtos com ID par são doces\n",
        "e os com ID ímpar são amargos.\n",
        "Monte um código que colete 10 IDs. Depois, calcule e mostre a quantidade de produtos doces e amargos.\n",
        "\"\"\"\n",
        "lista_doce = []\n",
        "lista_amargo = []\n",
        "\n",
        "for i in range(10):\n",
        "  id = int(input(f\"Digite o ID do {i+1}º Produto: \"))\n",
        "  if id % 2 == 0:\n",
        "    lista_doce.append(id)\n",
        "  else:\n",
        "    lista_amargo.append(id)\n",
        "\n",
        "print(f\"\\nForam digitados:\\n{len(lista_doce)} ID doce: {lista_doce}\\n{len(lista_amargo)} ID amargo: {lista_amargo}\")"
      ],
      "metadata": {
        "id": "PWZxl1b5okFd",
        "colab": {
          "base_uri": "https://localhost:8080/"
        },
        "outputId": "fb67c8a4-ca07-4617-f740-3bdfb24899a4"
      },
      "execution_count": null,
      "outputs": [
        {
          "output_type": "stream",
          "name": "stdout",
          "text": [
            "Digite o ID do 1º Produto: 3\n",
            "Digite o ID do 2º Produto: 3\n",
            "Digite o ID do 3º Produto: 3\n",
            "Digite o ID do 4º Produto: 3\n",
            "Digite o ID do 5º Produto: 3\n",
            "Digite o ID do 6º Produto: 3\n",
            "Digite o ID do 7º Produto: 3\n",
            "Digite o ID do 8º Produto: 3\n",
            "Digite o ID do 9º Produto: 3\n",
            "Digite o ID do 10º Produto: 3\n",
            "\n",
            "Foram digitados:\n",
            "0 ID doce: []\n",
            "10 ID amargo: [3, 3, 3, 3, 3, 3, 3, 3, 3, 3]\n"
          ]
        }
      ]
    },
    {
      "cell_type": "code",
      "source": [
        "\"\"\"\n",
        "9) Desenvolva um programa que informa a nota de um(a) aluno(a) de acordo com suas respostas.\n",
        "Ele deve pedir a resposta desse(a) aluno(a) para cada questão e é preciso verificar se a resposta foi igual ao gabarito.\n",
        "Cada questão vale um ponto e existem as alternativas A, B, C ou D.\n",
        "Gabarito da prova:\n",
        "01 - D\n",
        "02 - A\n",
        "03 - C\n",
        "04 - B\n",
        "05 - A\n",
        "06 - D\n",
        "07 - C\n",
        "08 - C\n",
        "09 - A\n",
        "10 - B\n",
        "\"\"\"\n",
        "\n",
        "gabarito = [\"D\", \"A\", \"C\", \"B\", \"A\", \"D\", \"C\", \"C\", \"A\", \"B\"]\n",
        "certo = 0\n",
        "errado = 0\n",
        "\n",
        "print(\"Respostas:\\nAs alternativas são A, B, C e D. Digite a alternativa conforme a questão indicada:\\n\")\n",
        "for i in range(len(gabarito)):\n",
        "  resposta = input(f\"Questão {i+1}: \").upper()\n",
        "  if resposta not in {\"A\", \"B\", \"C\", \"D\"}:\n",
        "    while resposta not in {\"A\", \"B\", \"C\", \"D\"}:\n",
        "      resposta = input(\"Valor Invalido! Digite novamente: \").upper()\n",
        "  elif gabarito[i] == resposta:\n",
        "    certo += 1\n",
        "\n",
        "print(f\"\\nSua nota foi {certo}\")"
      ],
      "metadata": {
        "id": "nFl5MiXloke2",
        "colab": {
          "base_uri": "https://localhost:8080/"
        },
        "outputId": "ecc16dd3-3abe-496d-98ba-cbc00ad227c1"
      },
      "execution_count": null,
      "outputs": [
        {
          "output_type": "stream",
          "name": "stdout",
          "text": [
            "Respostas:\n",
            "As alternativas são A, B, C e D. Digite a alternativa conforme a questão indicada:\n",
            "\n",
            "Questão 1: a\n",
            "Questão 2: b\n",
            "Questão 3: c\n",
            "Questão 4: d\n",
            "Questão 5: a\n",
            "Questão 6: b\n",
            "Questão 7: c\n",
            "Questão 8: d\n",
            "Questão 9: a\n",
            "Questão 10: b\n",
            "\n",
            "Sua nota foi 5\n"
          ]
        }
      ]
    },
    {
      "cell_type": "code",
      "source": [
        "\"\"\"\n",
        "10) Um instituto de meteorologia deseja fazer um estudo de temperatura média de cada mês do ano.\n",
        "Para isso, você precisa fazer um código que colete e armazene essas temperaturas médias em uma lista.\n",
        "Depois, calcule a média anual das temperaturas e mostre todas as temperaturas acima da média anual e em que mês elas ocorreram,\n",
        "mostrando os meses por extenso (Janeiro, Fevereiro, etc.).\n",
        "\"\"\"\n",
        "\n",
        "mes_ano = ['Janeiro', 'Fevereiro', 'Março', 'Abril', 'Maio', 'Junho', 'Julho', 'Agosto', 'Setembro', 'Outubro', 'Novembro', 'Dezembro']\n",
        "temp_ano = []\n",
        "\n",
        "print(\"Digite a temperatura conforme o mês do ano:\\n\")\n",
        "\n",
        "for i in range(12):\n",
        "  temperatura = float(input(f\"{mes_ano[i]}: \"))\n",
        "  temp_ano.append(temperatura)\n",
        "\n",
        "media_temp = sum(temp_ano) / len(temp_ano)\n",
        "acima_media = []\n",
        "acima_media_mes = []\n",
        "\n",
        "for i in range(12):\n",
        "  if temp_ano[i] > media_temp:\n",
        "    acima_media.append(temp_ano[i])\n",
        "    acima_media_mes.append(mes_ano[i])\n",
        "\n",
        "print(f\"\\nA média de temperatura do ano foi {media_temp:.2f}.\")\n",
        "print(f\"\\nOs meses na qual a temperatura ficou acima da média são:\\n{acima_media_mes}\\n{acima_media}\")"
      ],
      "metadata": {
        "id": "RRp3QYW8ok6s",
        "colab": {
          "base_uri": "https://localhost:8080/"
        },
        "outputId": "21387b1d-47ff-41ac-a272-d33344163c64"
      },
      "execution_count": null,
      "outputs": [
        {
          "output_type": "stream",
          "name": "stdout",
          "text": [
            "Digite a temperatura conforme o mês do ano:\n",
            "\n",
            "Janeiro: 10\n",
            "Fevereiro: 15\n",
            "Março: 26\n",
            "Abril: 37\n",
            "Maio: 48\n",
            "Junho: 59\n",
            "Julho: 14\n",
            "Agosto: 63\n",
            "Setembro: 765\n",
            "Outubro: 634\n",
            "Novembro: 634\n",
            "Dezembro: 5345\n",
            "\n",
            "A média de temperatura do ano foi 637.50.\n",
            "\n",
            "Os meses na qual a temperatura ficou acima da média são:\n",
            "['Setembro', 'Dezembro']\n",
            "[765.0, 5345.0]\n"
          ]
        }
      ]
    },
    {
      "cell_type": "code",
      "source": [
        "\"\"\"\n",
        "11) Uma empresa de e-commerce está interessada em analisar as vendas dos seus produtos. Os dados das vendas foram armazenados em um dicionário:\n",
        "{'Produto A': 300, 'Produto B': 80, 'Produto C': 60,\n",
        " 'Produto D': 200, 'Produto E': 250, 'Produto F': 30}\n",
        "Escreva um código que calcule o total de vendas e o produto mais vendido.\n",
        "\"\"\"\n",
        "\n",
        "vendas_geral = {'Produto A': 300, 'Produto B': 80, 'Produto C': 60, 'Produto D': 200, 'Produto E': 250, 'Produto F': 30}\n",
        "\n",
        "total_vendas = sum(vendas_geral.values())\n",
        "\n",
        "maior_venda = 0\n",
        "for produto, venda in vendas_geral.items():\n",
        "  if venda >= maior_venda:\n",
        "    maior_venda = venda\n",
        "    produto_mais_vendido = produto\n",
        "\n",
        "print(f\"Foram realizadas {total_vendas} vendas.\")\n",
        "print(f\"O {produto_mais_vendido} foi o mais vendido, com {maior_venda} vendas.\")"
      ],
      "metadata": {
        "id": "kJ7x-kPKolT2",
        "colab": {
          "base_uri": "https://localhost:8080/"
        },
        "outputId": "de0f9345-ba3e-413f-e19b-6a47924d6cf5"
      },
      "execution_count": null,
      "outputs": [
        {
          "output_type": "stream",
          "name": "stdout",
          "text": [
            "Foram realizadas 920 vendas.\n",
            "O Produto A foi o mais vendido, com 300 vendas.\n"
          ]
        }
      ]
    },
    {
      "cell_type": "code",
      "source": [
        "\"\"\"\n",
        "12) Uma pesquisa de mercado foi feita para decidir qual design de marca infantil mais agrada as crianças.\n",
        "A pesquisa foi feita e o votos computados podem ser observados abaixo:\n",
        "Tabela de votos da marca\n",
        "Design 1 - 1334 votos\n",
        "Design 2 - 982 votos\n",
        "Design 3 - 1751 votos\n",
        "Design 4 - 210 votos\n",
        "Design 5 - 1811 votos\n",
        "Adapte os dados fornecidos para uma estrutura de dicionário. A partir dele, informe o design vencedor e a porcentagem de votos recebidos.\n",
        "\"\"\"\n",
        "\n",
        "pesquisa = {\"Design 1\": 1334, \"Design 2\": 982, \"Design 3\": 1751, \"Design 4\": 210, \"Design 5\": 1811}\n",
        "\n",
        "total_votos = sum(pesquisa.values())\n",
        "\n",
        "maior = 0\n",
        "for designer, votos in pesquisa.items():\n",
        "  if votos > maior:\n",
        "    maior = votos\n",
        "    vencedor = designer\n",
        "\n",
        "print(f\"O vencedor foi o {vencedor}, com {100*(maior/total_votos):.2f}% dos votos.\")"
      ],
      "metadata": {
        "id": "k8zB8r6folto",
        "colab": {
          "base_uri": "https://localhost:8080/"
        },
        "outputId": "bf6913e9-be7d-4c9d-969c-ea4ac2e169d8"
      },
      "execution_count": null,
      "outputs": [
        {
          "output_type": "stream",
          "name": "stdout",
          "text": [
            "O vencedor foi o Design 5, com 29.75% dos votos.\n"
          ]
        }
      ]
    },
    {
      "cell_type": "code",
      "source": [
        "\"\"\"\n",
        "13) As pessoas colaboradoras de um setor da empresa que você trabalha vão receber um abono correspondente a 10% do salário devido ao ótimo desempenho do time.\n",
        "O setor financeiro solicitou sua ajuda para a verificação das consequências financeiras que esse abono irá gerar nos recursos.\n",
        "Assim, foi encaminhada para você uma lista com os salários que receberão o abono:\n",
        "[1172, 1644, 2617, 5130, 5532, 6341, 6650, 7238, 7685, 7782, 7903].\n",
        "O abono de cada colaborador(a) não pode ser inferior a 200.\n",
        "Em código, transforme cada um dos salários em chaves de um dicionário e o abono de cada salário no elemento.\n",
        "Depois, informe o total de gastos com o abono, quantos(as) colaboradores(as) receberam o abono mínimo e qual o maior valor de abono fornecido.\n",
        "\"\"\"\n",
        "\n",
        "lista_salarios = [1172, 1644, 2617, 5130, 5532, 6341, 6650, 7238, 7685, 7782, 7903]\n",
        "lista_funcionario = [1, 2, 3, 4, 5, 6, 7, 8, 9, 10, 11]\n",
        "salario_abono = {}\n",
        "abono_minimo = 0\n",
        "maior_abono = 0\n",
        "\n",
        "for i in range(len(lista_salarios)):\n",
        "  abono = round(lista_salarios[i] * 0.10, 2)\n",
        "  if abono < 200:\n",
        "    abono = 200\n",
        "    abono_minimo += 1\n",
        "  elif abono > maior_abono:\n",
        "    maior_abono = abono\n",
        "  salario_abono[lista_funcionario[i]] = abono\n",
        "\n",
        "total_abono = sum(salario_abono.values())\n",
        "\n",
        "print(f\"Foi gasto no total R${total_abono:.2f} com abonos.\")\n",
        "print(f\"{abono_minimo} colaboradores receberam o valor mínimo de abono.\")\n",
        "print(f\"O maior abono foi R${maior_abono:.2f}.\")\n",
        "print(f\"\\nLista de Abonos:\\n{salario_abono}\")\n"
      ],
      "metadata": {
        "id": "wxkcIDUxomFF",
        "colab": {
          "base_uri": "https://localhost:8080/"
        },
        "outputId": "37ff03f3-1d6a-4ce3-8773-8cb356967104"
      },
      "execution_count": null,
      "outputs": [
        {
          "output_type": "stream",
          "name": "stdout",
          "text": [
            "Foi gasto no total R$6087.80 com abonos.\n",
            "2 colaboradores receberam o valor mínimo de abono.\n",
            "O maior abono foi R$790.30.\n",
            "\n",
            "Lista de Abonos:\n",
            "{1: 200, 2: 200, 3: 261.7, 4: 513.0, 5: 553.2, 6: 634.1, 7: 665.0, 8: 723.8, 9: 768.5, 10: 778.2, 11: 790.3}\n"
          ]
        }
      ]
    },
    {
      "cell_type": "code",
      "source": [
        "\"\"\"\n",
        "14) Uma equipe de cientistas de dados está estudando a diversidade biológica em uma floresta.\n",
        "A equipe fez a coleta de informações sobre o número de espécies de plantas e animais em cada área dessa floresta\n",
        "e armazenou essas informações em um dicionário.\n",
        "Nele, a chave descreve a área dos dados e os valores nas listas correspondem às espécies de plantas e animais nas áreas, respectivamente.\n",
        "{'Área Norte': [2819, 7236],\n",
        " 'Área Leste': [1440, 9492],\n",
        " 'Área Sul': [5969, 7496],\n",
        " 'Área Oeste': [14446, 49688],\n",
        " 'Área Centro': [22558, 45148]}\n",
        "Escreva um código para calcular a média de espécies por área e identificar a área com a maior diversidade biológica.\n",
        "Dica: use as funções built-in sum() e len().\n",
        "\"\"\"\n",
        "\n",
        "div_bio = {'Área Norte': [2819, 7236],\n",
        " 'Área Leste': [1440, 9492],\n",
        " 'Área Sul': [5969, 7496],\n",
        " 'Área Oeste': [14446, 49688],\n",
        " 'Área Centro': [22558, 45148]}\n",
        "\n",
        "for area, valor in div_bio.items():\n",
        "  media_bio = sum(valor) / len(valor)\n",
        "  print(f\"Média espécies {area} : {media_bio}\")\n",
        "  if media_bio > max_media:\n",
        "    max_media = media_bio\n",
        "    max_area = area\n",
        "\n",
        "print(f\"\\nA área com maior diversidade biológio é a {max_area}, contendo uma média de {round(max_media)} espécies.\")"
      ],
      "metadata": {
        "id": "p2FOIionomaO",
        "colab": {
          "base_uri": "https://localhost:8080/"
        },
        "outputId": "b58b3733-489e-4e81-b407-07b7faa306aa"
      },
      "execution_count": 33,
      "outputs": [
        {
          "output_type": "stream",
          "name": "stdout",
          "text": [
            "Média espécies Área Norte : 5027.5\n",
            "Média espécies Área Leste : 5466.0\n",
            "Média espécies Área Sul : 6732.5\n",
            "Média espécies Área Oeste : 32067.0\n",
            "Média espécies Área Centro : 33853.0\n",
            "\n",
            "A área com maior diversidade biológio é a Área Centro, contendo uma média de 33853 espécies.\n"
          ]
        }
      ]
    },
    {
      "cell_type": "code",
      "source": [
        "\"\"\"\n",
        "15) O setor de RH da sua empresa te pediu uma ajuda para analisar as idades de colaboradores(as) de 4 setores da empresa.\n",
        "Para isso, foram fornecidos os seguintes dados:\n",
        "{'Setor A': [22, 26, 30, 30, 35, 38, 40, 56, 57, 65],\n",
        " 'Setor B': [22, 24, 26, 33, 41, 49, 50, 54, 60, 64],\n",
        " 'Setor C': [23, 26, 26, 29, 34, 35, 36, 41, 52, 56],\n",
        " 'Setor D': [19, 20, 25, 27, 34, 39, 42, 44, 50, 65]}\n",
        "Sabendo que cada setor tem 10 colaboradores(as), construa um código que calcule a média de idade de cada setor,\n",
        "a idade média geral entre todos os setores e quantas pessoas estão acima da idade média geral.\n",
        "\"\"\"\n",
        "\n",
        "dados_idade = {'Setor A': [22, 26, 30, 30, 35, 38, 40, 56, 57, 65],\n",
        " 'Setor B': [22, 24, 26, 33, 41, 49, 50, 54, 60, 64],\n",
        " 'Setor C': [23, 26, 26, 29, 34, 35, 36, 41, 52, 56],\n",
        " 'Setor D': [19, 20, 25, 27, 34, 39, 42, 44, 50, 65]}\n",
        "\n",
        "soma_idade = 0\n",
        "cont_colab = 0\n",
        "acima_media = []\n",
        "\n",
        "for setor, valor in dados_idade.items():\n",
        "  media_setor = sum(valor) / len(valor)\n",
        "  print(f\"Média idade {setor} : {round(media_setor)}\")\n",
        "  soma_idade += sum(valor)\n",
        "  cont_colab += len(valor)\n",
        "  media_geral = round(soma_idade / cont_colab)\n",
        "  for i in valor:\n",
        "    if i > media_geral:\n",
        "      acima_media.append(i)\n",
        "\n",
        "print(f\"\\nMédia Geral de Idade: {media_geral}\")\n",
        "print(f\"\\n{len(acima_media)} pessoal ficaram acima da média geral.\")\n",
        "print(acima_media)"
      ],
      "metadata": {
        "id": "dBfNsPuFom0S",
        "colab": {
          "base_uri": "https://localhost:8080/"
        },
        "outputId": "6d90ac8f-8457-451a-b06f-904b4eea0021"
      },
      "execution_count": 54,
      "outputs": [
        {
          "output_type": "stream",
          "name": "stdout",
          "text": [
            "Média idade Setor A : 40\n",
            "Média idade Setor B : 42\n",
            "Média idade Setor C : 36\n",
            "Média idade Setor D : 36\n",
            "\n",
            "Média Geral de Idade: 39\n",
            "\n",
            "15 pessoal ficaram acima da média geral.\n",
            "[56, 57, 65, 49, 50, 54, 60, 64, 41, 52, 56, 42, 44, 50, 65]\n"
          ]
        }
      ]
    }
  ]
}